{
 "cells": [
  {
   "attachments": {},
   "cell_type": "markdown",
   "metadata": {},
   "source": [
    "import pandas as pd "
   ]
  },
  {
   "cell_type": "code",
   "execution_count": 644,
   "metadata": {},
   "outputs": [],
   "source": [
    "import pandas as pd\n",
    "import numpy as np"
   ]
  },
  {
   "cell_type": "code",
   "execution_count": 645,
   "metadata": {},
   "outputs": [
    {
     "data": {
      "text/html": [
       "<div>\n",
       "<style scoped>\n",
       "    .dataframe tbody tr th:only-of-type {\n",
       "        vertical-align: middle;\n",
       "    }\n",
       "\n",
       "    .dataframe tbody tr th {\n",
       "        vertical-align: top;\n",
       "    }\n",
       "\n",
       "    .dataframe thead th {\n",
       "        text-align: right;\n",
       "    }\n",
       "</style>\n",
       "<table border=\"1\" class=\"dataframe\">\n",
       "  <thead>\n",
       "    <tr style=\"text-align: right;\">\n",
       "      <th></th>\n",
       "      <th>cert</th>\n",
       "      <th>chclass1</th>\n",
       "      <th>cityst</th>\n",
       "      <th>cost</th>\n",
       "      <th>faildate</th>\n",
       "      <th>fin</th>\n",
       "      <th>id</th>\n",
       "      <th>name</th>\n",
       "      <th>qbfasset</th>\n",
       "      <th>qbfdep</th>\n",
       "      <th>restype</th>\n",
       "      <th>restype1</th>\n",
       "      <th>savr</th>\n",
       "    </tr>\n",
       "  </thead>\n",
       "  <tbody>\n",
       "    <tr>\n",
       "      <th>0</th>\n",
       "      <td>59017</td>\n",
       "      <td>NM</td>\n",
       "      <td>SAN FRANCISCO, CA</td>\n",
       "      <td>NaN</td>\n",
       "      <td>5/1/2023</td>\n",
       "      <td>10543</td>\n",
       "      <td>4107</td>\n",
       "      <td>FIRST REPUBLIC BANK</td>\n",
       "      <td>212638872</td>\n",
       "      <td>176436706</td>\n",
       "      <td>FAILURE</td>\n",
       "      <td>PA</td>\n",
       "      <td>DIF</td>\n",
       "    </tr>\n",
       "    <tr>\n",
       "      <th>1</th>\n",
       "      <td>57053</td>\n",
       "      <td>NM</td>\n",
       "      <td>NEW YORK, NY</td>\n",
       "      <td>2400000.0</td>\n",
       "      <td>3/12/2023</td>\n",
       "      <td>10540</td>\n",
       "      <td>4106</td>\n",
       "      <td>SIGNATURE BANK</td>\n",
       "      <td>110363650</td>\n",
       "      <td>88612911</td>\n",
       "      <td>FAILURE</td>\n",
       "      <td>PA</td>\n",
       "      <td>DIF</td>\n",
       "    </tr>\n",
       "    <tr>\n",
       "      <th>2</th>\n",
       "      <td>24735</td>\n",
       "      <td>SM</td>\n",
       "      <td>SANTA CLARA, CA</td>\n",
       "      <td>16100000.0</td>\n",
       "      <td>3/7/2023</td>\n",
       "      <td>10539</td>\n",
       "      <td>4105</td>\n",
       "      <td>SILICON VALLEY BANK</td>\n",
       "      <td>209026000</td>\n",
       "      <td>175378000</td>\n",
       "      <td>FAILURE</td>\n",
       "      <td>PA</td>\n",
       "      <td>DIF</td>\n",
       "    </tr>\n",
       "    <tr>\n",
       "      <th>3</th>\n",
       "      <td>15426</td>\n",
       "      <td>NM</td>\n",
       "      <td>ALMENA, KS</td>\n",
       "      <td>16330.0</td>\n",
       "      <td>10/23/2020</td>\n",
       "      <td>10538</td>\n",
       "      <td>4104</td>\n",
       "      <td>ALMENA STATE BANK</td>\n",
       "      <td>65733</td>\n",
       "      <td>64941</td>\n",
       "      <td>FAILURE</td>\n",
       "      <td>PA</td>\n",
       "      <td>DIF</td>\n",
       "    </tr>\n",
       "    <tr>\n",
       "      <th>4</th>\n",
       "      <td>16748</td>\n",
       "      <td>NM</td>\n",
       "      <td>FORT WALTON BEACH, FL</td>\n",
       "      <td>7247.0</td>\n",
       "      <td>10/16/2020</td>\n",
       "      <td>10537</td>\n",
       "      <td>4103</td>\n",
       "      <td>FIRST CITY BANK OF FLORIDA</td>\n",
       "      <td>136566</td>\n",
       "      <td>133936</td>\n",
       "      <td>FAILURE</td>\n",
       "      <td>PA</td>\n",
       "      <td>DIF</td>\n",
       "    </tr>\n",
       "    <tr>\n",
       "      <th>...</th>\n",
       "      <td>...</td>\n",
       "      <td>...</td>\n",
       "      <td>...</td>\n",
       "      <td>...</td>\n",
       "      <td>...</td>\n",
       "      <td>...</td>\n",
       "      <td>...</td>\n",
       "      <td>...</td>\n",
       "      <td>...</td>\n",
       "      <td>...</td>\n",
       "      <td>...</td>\n",
       "      <td>...</td>\n",
       "      <td>...</td>\n",
       "    </tr>\n",
       "    <tr>\n",
       "      <th>579</th>\n",
       "      <td>338</td>\n",
       "      <td>NM</td>\n",
       "      <td>FALKNER, MS</td>\n",
       "      <td>14592.0</td>\n",
       "      <td>9/29/2000</td>\n",
       "      <td>4644</td>\n",
       "      <td>3528</td>\n",
       "      <td>BANK OF FALKNER</td>\n",
       "      <td>85485</td>\n",
       "      <td>77140</td>\n",
       "      <td>FAILURE</td>\n",
       "      <td>PI</td>\n",
       "      <td>BIF</td>\n",
       "    </tr>\n",
       "    <tr>\n",
       "      <th>580</th>\n",
       "      <td>10985</td>\n",
       "      <td>NM</td>\n",
       "      <td>ALMELUND, MN</td>\n",
       "      <td>1363.0</td>\n",
       "      <td>7/14/2000</td>\n",
       "      <td>4643</td>\n",
       "      <td>3527</td>\n",
       "      <td>TOWN &amp; COUNTRY BANK OF ALMELUND</td>\n",
       "      <td>25942</td>\n",
       "      <td>26667</td>\n",
       "      <td>FAILURE</td>\n",
       "      <td>PI</td>\n",
       "      <td>BIF</td>\n",
       "    </tr>\n",
       "    <tr>\n",
       "      <th>581</th>\n",
       "      <td>25056</td>\n",
       "      <td>N</td>\n",
       "      <td>RIDGECREST, CA</td>\n",
       "      <td>617.0</td>\n",
       "      <td>6/2/2000</td>\n",
       "      <td>4642</td>\n",
       "      <td>3526</td>\n",
       "      <td>MONUMENT NATIONAL BANK</td>\n",
       "      <td>7923</td>\n",
       "      <td>7680</td>\n",
       "      <td>FAILURE</td>\n",
       "      <td>PA</td>\n",
       "      <td>BIF</td>\n",
       "    </tr>\n",
       "    <tr>\n",
       "      <th>582</th>\n",
       "      <td>27886</td>\n",
       "      <td>SB</td>\n",
       "      <td>ATLANTA, GA</td>\n",
       "      <td>1322.0</td>\n",
       "      <td>3/10/2000</td>\n",
       "      <td>6003</td>\n",
       "      <td>3525</td>\n",
       "      <td>MUTUAL FEDERAL SAVINGS BANK OF ATLANTA</td>\n",
       "      <td>31479</td>\n",
       "      <td>32234</td>\n",
       "      <td>FAILURE</td>\n",
       "      <td>PA</td>\n",
       "      <td>SAIF</td>\n",
       "    </tr>\n",
       "    <tr>\n",
       "      <th>583</th>\n",
       "      <td>14228</td>\n",
       "      <td>NM</td>\n",
       "      <td>CARLISLE, IA</td>\n",
       "      <td>11574.0</td>\n",
       "      <td>1/14/2000</td>\n",
       "      <td>4641</td>\n",
       "      <td>3524</td>\n",
       "      <td>HARTFORD-CARLISLE SB</td>\n",
       "      <td>105044</td>\n",
       "      <td>68549</td>\n",
       "      <td>FAILURE</td>\n",
       "      <td>PI</td>\n",
       "      <td>BIF</td>\n",
       "    </tr>\n",
       "  </tbody>\n",
       "</table>\n",
       "<p>584 rows × 13 columns</p>\n",
       "</div>"
      ],
      "text/plain": [
       "      cert chclass1                 cityst        cost    faildate    fin  \\\n",
       "0    59017       NM      SAN FRANCISCO, CA         NaN    5/1/2023  10543   \n",
       "1    57053       NM           NEW YORK, NY   2400000.0   3/12/2023  10540   \n",
       "2    24735       SM        SANTA CLARA, CA  16100000.0    3/7/2023  10539   \n",
       "3    15426       NM             ALMENA, KS     16330.0  10/23/2020  10538   \n",
       "4    16748       NM  FORT WALTON BEACH, FL      7247.0  10/16/2020  10537   \n",
       "..     ...      ...                    ...         ...         ...    ...   \n",
       "579    338       NM            FALKNER, MS     14592.0   9/29/2000   4644   \n",
       "580  10985       NM           ALMELUND, MN      1363.0   7/14/2000   4643   \n",
       "581  25056        N         RIDGECREST, CA       617.0    6/2/2000   4642   \n",
       "582  27886       SB            ATLANTA, GA      1322.0   3/10/2000   6003   \n",
       "583  14228       NM           CARLISLE, IA     11574.0   1/14/2000   4641   \n",
       "\n",
       "       id                                    name   qbfasset     qbfdep  \\\n",
       "0    4107                     FIRST REPUBLIC BANK  212638872  176436706   \n",
       "1    4106                          SIGNATURE BANK  110363650   88612911   \n",
       "2    4105                     SILICON VALLEY BANK  209026000  175378000   \n",
       "3    4104                       ALMENA STATE BANK      65733      64941   \n",
       "4    4103              FIRST CITY BANK OF FLORIDA     136566     133936   \n",
       "..    ...                                     ...        ...        ...   \n",
       "579  3528                         BANK OF FALKNER      85485      77140   \n",
       "580  3527         TOWN & COUNTRY BANK OF ALMELUND      25942      26667   \n",
       "581  3526                  MONUMENT NATIONAL BANK       7923       7680   \n",
       "582  3525  MUTUAL FEDERAL SAVINGS BANK OF ATLANTA      31479      32234   \n",
       "583  3524                    HARTFORD-CARLISLE SB     105044      68549   \n",
       "\n",
       "     restype restype1  savr  \n",
       "0    FAILURE       PA   DIF  \n",
       "1    FAILURE       PA   DIF  \n",
       "2    FAILURE       PA   DIF  \n",
       "3    FAILURE       PA   DIF  \n",
       "4    FAILURE       PA   DIF  \n",
       "..       ...      ...   ...  \n",
       "579  FAILURE       PI   BIF  \n",
       "580  FAILURE       PI   BIF  \n",
       "581  FAILURE       PA   BIF  \n",
       "582  FAILURE       PA  SAIF  \n",
       "583  FAILURE       PI   BIF  \n",
       "\n",
       "[584 rows x 13 columns]"
      ]
     },
     "execution_count": 645,
     "metadata": {},
     "output_type": "execute_result"
    }
   ],
   "source": [
    "df1 = pd.read_csv('bank-data.csv')\n",
    "df2 = pd.read_csv('banklist.csv',encoding='windows-1252')\n",
    "df1.columns = df1.columns.str.lower()\n",
    "df2.columns = df2.columns.str.lower()\n",
    "df2.columns = df2.columns.str.rstrip()\n",
    "df1"
   ]
  },
  {
   "cell_type": "code",
   "execution_count": 646,
   "metadata": {},
   "outputs": [
    {
     "data": {
      "text/html": [
       "<div>\n",
       "<style scoped>\n",
       "    .dataframe tbody tr th:only-of-type {\n",
       "        vertical-align: middle;\n",
       "    }\n",
       "\n",
       "    .dataframe tbody tr th {\n",
       "        vertical-align: top;\n",
       "    }\n",
       "\n",
       "    .dataframe thead th {\n",
       "        text-align: right;\n",
       "    }\n",
       "</style>\n",
       "<table border=\"1\" class=\"dataframe\">\n",
       "  <thead>\n",
       "    <tr style=\"text-align: right;\">\n",
       "      <th></th>\n",
       "      <th>cert</th>\n",
       "      <th>chclass1</th>\n",
       "      <th>cityst</th>\n",
       "      <th>cost</th>\n",
       "      <th>faildate</th>\n",
       "      <th>fin</th>\n",
       "      <th>id</th>\n",
       "      <th>name</th>\n",
       "      <th>qbfasset</th>\n",
       "      <th>qbfdep</th>\n",
       "      <th>restype</th>\n",
       "      <th>restype1</th>\n",
       "      <th>savr</th>\n",
       "      <th>bank name</th>\n",
       "      <th>city</th>\n",
       "      <th>state</th>\n",
       "      <th>acquiring institution</th>\n",
       "      <th>closing date</th>\n",
       "      <th>fund</th>\n",
       "    </tr>\n",
       "  </thead>\n",
       "  <tbody>\n",
       "    <tr>\n",
       "      <th>0</th>\n",
       "      <td>59017</td>\n",
       "      <td>NM</td>\n",
       "      <td>SAN FRANCISCO, CA</td>\n",
       "      <td>NaN</td>\n",
       "      <td>5/1/2023</td>\n",
       "      <td>10543</td>\n",
       "      <td>4107</td>\n",
       "      <td>FIRST REPUBLIC BANK</td>\n",
       "      <td>212638872</td>\n",
       "      <td>176436706</td>\n",
       "      <td>FAILURE</td>\n",
       "      <td>PA</td>\n",
       "      <td>DIF</td>\n",
       "      <td>First Republic Bank</td>\n",
       "      <td>San Francisco</td>\n",
       "      <td>CA</td>\n",
       "      <td>JPMorgan Chase Bank, N.A.</td>\n",
       "      <td>1-May-23</td>\n",
       "      <td>10543</td>\n",
       "    </tr>\n",
       "    <tr>\n",
       "      <th>1</th>\n",
       "      <td>57053</td>\n",
       "      <td>NM</td>\n",
       "      <td>NEW YORK, NY</td>\n",
       "      <td>2400000.0</td>\n",
       "      <td>3/12/2023</td>\n",
       "      <td>10540</td>\n",
       "      <td>4106</td>\n",
       "      <td>SIGNATURE BANK</td>\n",
       "      <td>110363650</td>\n",
       "      <td>88612911</td>\n",
       "      <td>FAILURE</td>\n",
       "      <td>PA</td>\n",
       "      <td>DIF</td>\n",
       "      <td>Signature Bank</td>\n",
       "      <td>New York</td>\n",
       "      <td>NY</td>\n",
       "      <td>Flagstar Bank, N.A.</td>\n",
       "      <td>12-Mar-23</td>\n",
       "      <td>10540</td>\n",
       "    </tr>\n",
       "    <tr>\n",
       "      <th>2</th>\n",
       "      <td>24735</td>\n",
       "      <td>SM</td>\n",
       "      <td>SANTA CLARA, CA</td>\n",
       "      <td>16100000.0</td>\n",
       "      <td>3/7/2023</td>\n",
       "      <td>10539</td>\n",
       "      <td>4105</td>\n",
       "      <td>SILICON VALLEY BANK</td>\n",
       "      <td>209026000</td>\n",
       "      <td>175378000</td>\n",
       "      <td>FAILURE</td>\n",
       "      <td>PA</td>\n",
       "      <td>DIF</td>\n",
       "      <td>Silicon Valley Bank</td>\n",
       "      <td>Santa Clara</td>\n",
       "      <td>CA</td>\n",
       "      <td>First–Citizens Bank &amp; Trust Company</td>\n",
       "      <td>10-Mar-23</td>\n",
       "      <td>10539</td>\n",
       "    </tr>\n",
       "    <tr>\n",
       "      <th>3</th>\n",
       "      <td>15426</td>\n",
       "      <td>NM</td>\n",
       "      <td>ALMENA, KS</td>\n",
       "      <td>16330.0</td>\n",
       "      <td>10/23/2020</td>\n",
       "      <td>10538</td>\n",
       "      <td>4104</td>\n",
       "      <td>ALMENA STATE BANK</td>\n",
       "      <td>65733</td>\n",
       "      <td>64941</td>\n",
       "      <td>FAILURE</td>\n",
       "      <td>PA</td>\n",
       "      <td>DIF</td>\n",
       "      <td>Almena State Bank</td>\n",
       "      <td>Almena</td>\n",
       "      <td>KS</td>\n",
       "      <td>Equity Bank</td>\n",
       "      <td>23-Oct-20</td>\n",
       "      <td>10538</td>\n",
       "    </tr>\n",
       "    <tr>\n",
       "      <th>4</th>\n",
       "      <td>16748</td>\n",
       "      <td>NM</td>\n",
       "      <td>FORT WALTON BEACH, FL</td>\n",
       "      <td>7247.0</td>\n",
       "      <td>10/16/2020</td>\n",
       "      <td>10537</td>\n",
       "      <td>4103</td>\n",
       "      <td>FIRST CITY BANK OF FLORIDA</td>\n",
       "      <td>136566</td>\n",
       "      <td>133936</td>\n",
       "      <td>FAILURE</td>\n",
       "      <td>PA</td>\n",
       "      <td>DIF</td>\n",
       "      <td>First City Bank of Florida</td>\n",
       "      <td>Fort Walton Beach</td>\n",
       "      <td>FL</td>\n",
       "      <td>United Fidelity Bank, fsb</td>\n",
       "      <td>16-Oct-20</td>\n",
       "      <td>10537</td>\n",
       "    </tr>\n",
       "  </tbody>\n",
       "</table>\n",
       "</div>"
      ],
      "text/plain": [
       "    cert chclass1                 cityst        cost    faildate    fin    id  \\\n",
       "0  59017       NM      SAN FRANCISCO, CA         NaN    5/1/2023  10543  4107   \n",
       "1  57053       NM           NEW YORK, NY   2400000.0   3/12/2023  10540  4106   \n",
       "2  24735       SM        SANTA CLARA, CA  16100000.0    3/7/2023  10539  4105   \n",
       "3  15426       NM             ALMENA, KS     16330.0  10/23/2020  10538  4104   \n",
       "4  16748       NM  FORT WALTON BEACH, FL      7247.0  10/16/2020  10537  4103   \n",
       "\n",
       "                         name   qbfasset     qbfdep  restype restype1 savr  \\\n",
       "0         FIRST REPUBLIC BANK  212638872  176436706  FAILURE       PA  DIF   \n",
       "1              SIGNATURE BANK  110363650   88612911  FAILURE       PA  DIF   \n",
       "2         SILICON VALLEY BANK  209026000  175378000  FAILURE       PA  DIF   \n",
       "3           ALMENA STATE BANK      65733      64941  FAILURE       PA  DIF   \n",
       "4  FIRST CITY BANK OF FLORIDA     136566     133936  FAILURE       PA  DIF   \n",
       "\n",
       "                    bank name               city state  \\\n",
       "0         First Republic Bank      San Francisco    CA   \n",
       "1              Signature Bank           New York    NY   \n",
       "2         Silicon Valley Bank        Santa Clara    CA   \n",
       "3           Almena State Bank             Almena    KS   \n",
       "4  First City Bank of Florida  Fort Walton Beach    FL   \n",
       "\n",
       "                 acquiring institution closing date   fund  \n",
       "0            JPMorgan Chase Bank, N.A.     1-May-23  10543  \n",
       "1                  Flagstar Bank, N.A.    12-Mar-23  10540  \n",
       "2  First–Citizens Bank & Trust Company    10-Mar-23  10539  \n",
       "3                          Equity Bank    23-Oct-20  10538  \n",
       "4            United Fidelity Bank, fsb    16-Oct-20  10537  "
      ]
     },
     "execution_count": 646,
     "metadata": {},
     "output_type": "execute_result"
    }
   ],
   "source": [
    "df = pd.merge(df1 , df2, on = 'cert')\n",
    "df.head()"
   ]
  },
  {
   "cell_type": "code",
   "execution_count": 647,
   "metadata": {},
   "outputs": [],
   "source": [
    "columns = ['fin','id','city','closing date','fund','bank name','cityst']\n",
    "df = df.drop(columns, axis=1)\n"
   ]
  },
  {
   "cell_type": "code",
   "execution_count": 648,
   "metadata": {},
   "outputs": [
    {
     "name": "stdout",
     "output_type": "stream",
     "text": [
      "<class 'pandas.core.frame.DataFrame'>\n",
      "RangeIndex: 566 entries, 0 to 565\n",
      "Data columns (total 12 columns):\n",
      " #   Column                 Non-Null Count  Dtype  \n",
      "---  ------                 --------------  -----  \n",
      " 0   cert                   566 non-null    int64  \n",
      " 1   chclass1               566 non-null    object \n",
      " 2   cost                   564 non-null    float64\n",
      " 3   faildate               566 non-null    object \n",
      " 4   name                   566 non-null    object \n",
      " 5   qbfasset               566 non-null    int64  \n",
      " 6   qbfdep                 566 non-null    int64  \n",
      " 7   restype                566 non-null    object \n",
      " 8   restype1               566 non-null    object \n",
      " 9   savr                   566 non-null    object \n",
      " 10  state                  566 non-null    object \n",
      " 11  acquiring institution  566 non-null    object \n",
      "dtypes: float64(1), int64(3), object(8)\n",
      "memory usage: 53.2+ KB\n"
     ]
    }
   ],
   "source": [
    "df.info()"
   ]
  },
  {
   "cell_type": "code",
   "execution_count": 649,
   "metadata": {},
   "outputs": [
    {
     "data": {
      "text/plain": [
       "cert                     0\n",
       "chclass1                 0\n",
       "cost                     2\n",
       "faildate                 0\n",
       "name                     0\n",
       "qbfasset                 0\n",
       "qbfdep                   0\n",
       "restype                  0\n",
       "restype1                 0\n",
       "savr                     0\n",
       "state                    0\n",
       "acquiring institution    0\n",
       "dtype: int64"
      ]
     },
     "execution_count": 649,
     "metadata": {},
     "output_type": "execute_result"
    }
   ],
   "source": [
    "df.isna().sum()"
   ]
  },
  {
   "cell_type": "code",
   "execution_count": 650,
   "metadata": {},
   "outputs": [
    {
     "data": {
      "text/plain": [
       "cert                     0\n",
       "chclass1                 0\n",
       "cost                     0\n",
       "faildate                 0\n",
       "name                     0\n",
       "qbfasset                 0\n",
       "qbfdep                   0\n",
       "restype                  0\n",
       "restype1                 0\n",
       "savr                     0\n",
       "state                    0\n",
       "acquiring institution    0\n",
       "dtype: int64"
      ]
     },
     "execution_count": 650,
     "metadata": {},
     "output_type": "execute_result"
    }
   ],
   "source": [
    "df = df.fillna(0)\n",
    "df.isna().sum()"
   ]
  },
  {
   "cell_type": "code",
   "execution_count": 651,
   "metadata": {},
   "outputs": [],
   "source": [
    "df['faildate'] = pd.to_datetime(df['faildate'])\n",
    "df['year'] = df['faildate'].dt.year\n",
    "df['month']=df['faildate'].dt.month"
   ]
  },
  {
   "cell_type": "code",
   "execution_count": 652,
   "metadata": {},
   "outputs": [
    {
     "data": {
      "text/html": [
       "<div>\n",
       "<style scoped>\n",
       "    .dataframe tbody tr th:only-of-type {\n",
       "        vertical-align: middle;\n",
       "    }\n",
       "\n",
       "    .dataframe tbody tr th {\n",
       "        vertical-align: top;\n",
       "    }\n",
       "\n",
       "    .dataframe thead th {\n",
       "        text-align: right;\n",
       "    }\n",
       "</style>\n",
       "<table border=\"1\" class=\"dataframe\">\n",
       "  <thead>\n",
       "    <tr style=\"text-align: right;\">\n",
       "      <th></th>\n",
       "      <th>cert</th>\n",
       "      <th>chclass1</th>\n",
       "      <th>cost</th>\n",
       "      <th>faildate</th>\n",
       "      <th>name</th>\n",
       "      <th>qbfasset</th>\n",
       "      <th>qbfdep</th>\n",
       "      <th>restype</th>\n",
       "      <th>restype1</th>\n",
       "      <th>savr</th>\n",
       "      <th>state</th>\n",
       "      <th>acquiring institution</th>\n",
       "      <th>year</th>\n",
       "      <th>month</th>\n",
       "      <th>Month_Year</th>\n",
       "    </tr>\n",
       "  </thead>\n",
       "  <tbody>\n",
       "    <tr>\n",
       "      <th>0</th>\n",
       "      <td>59017</td>\n",
       "      <td>NM</td>\n",
       "      <td>0.0</td>\n",
       "      <td>2023-05-01</td>\n",
       "      <td>FIRST REPUBLIC BANK</td>\n",
       "      <td>212638872</td>\n",
       "      <td>176436706</td>\n",
       "      <td>FAILURE</td>\n",
       "      <td>PA</td>\n",
       "      <td>DIF</td>\n",
       "      <td>CA</td>\n",
       "      <td>JPMorgan Chase Bank, N.A.</td>\n",
       "      <td>2023</td>\n",
       "      <td>5</td>\n",
       "      <td>2023-05</td>\n",
       "    </tr>\n",
       "    <tr>\n",
       "      <th>1</th>\n",
       "      <td>57053</td>\n",
       "      <td>NM</td>\n",
       "      <td>2400000.0</td>\n",
       "      <td>2023-03-12</td>\n",
       "      <td>SIGNATURE BANK</td>\n",
       "      <td>110363650</td>\n",
       "      <td>88612911</td>\n",
       "      <td>FAILURE</td>\n",
       "      <td>PA</td>\n",
       "      <td>DIF</td>\n",
       "      <td>NY</td>\n",
       "      <td>Flagstar Bank, N.A.</td>\n",
       "      <td>2023</td>\n",
       "      <td>3</td>\n",
       "      <td>2023-03</td>\n",
       "    </tr>\n",
       "    <tr>\n",
       "      <th>2</th>\n",
       "      <td>24735</td>\n",
       "      <td>SM</td>\n",
       "      <td>16100000.0</td>\n",
       "      <td>2023-03-07</td>\n",
       "      <td>SILICON VALLEY BANK</td>\n",
       "      <td>209026000</td>\n",
       "      <td>175378000</td>\n",
       "      <td>FAILURE</td>\n",
       "      <td>PA</td>\n",
       "      <td>DIF</td>\n",
       "      <td>CA</td>\n",
       "      <td>First–Citizens Bank &amp; Trust Company</td>\n",
       "      <td>2023</td>\n",
       "      <td>3</td>\n",
       "      <td>2023-03</td>\n",
       "    </tr>\n",
       "    <tr>\n",
       "      <th>3</th>\n",
       "      <td>15426</td>\n",
       "      <td>NM</td>\n",
       "      <td>16330.0</td>\n",
       "      <td>2020-10-23</td>\n",
       "      <td>ALMENA STATE BANK</td>\n",
       "      <td>65733</td>\n",
       "      <td>64941</td>\n",
       "      <td>FAILURE</td>\n",
       "      <td>PA</td>\n",
       "      <td>DIF</td>\n",
       "      <td>KS</td>\n",
       "      <td>Equity Bank</td>\n",
       "      <td>2020</td>\n",
       "      <td>10</td>\n",
       "      <td>2020-10</td>\n",
       "    </tr>\n",
       "    <tr>\n",
       "      <th>4</th>\n",
       "      <td>16748</td>\n",
       "      <td>NM</td>\n",
       "      <td>7247.0</td>\n",
       "      <td>2020-10-16</td>\n",
       "      <td>FIRST CITY BANK OF FLORIDA</td>\n",
       "      <td>136566</td>\n",
       "      <td>133936</td>\n",
       "      <td>FAILURE</td>\n",
       "      <td>PA</td>\n",
       "      <td>DIF</td>\n",
       "      <td>FL</td>\n",
       "      <td>United Fidelity Bank, fsb</td>\n",
       "      <td>2020</td>\n",
       "      <td>10</td>\n",
       "      <td>2020-10</td>\n",
       "    </tr>\n",
       "    <tr>\n",
       "      <th>...</th>\n",
       "      <td>...</td>\n",
       "      <td>...</td>\n",
       "      <td>...</td>\n",
       "      <td>...</td>\n",
       "      <td>...</td>\n",
       "      <td>...</td>\n",
       "      <td>...</td>\n",
       "      <td>...</td>\n",
       "      <td>...</td>\n",
       "      <td>...</td>\n",
       "      <td>...</td>\n",
       "      <td>...</td>\n",
       "      <td>...</td>\n",
       "      <td>...</td>\n",
       "      <td>...</td>\n",
       "    </tr>\n",
       "    <tr>\n",
       "      <th>561</th>\n",
       "      <td>32646</td>\n",
       "      <td>SB</td>\n",
       "      <td>286673.0</td>\n",
       "      <td>2001-07-27</td>\n",
       "      <td>SUPERIOR BANK, FSB</td>\n",
       "      <td>1765455</td>\n",
       "      <td>1609501</td>\n",
       "      <td>FAILURE</td>\n",
       "      <td>PI</td>\n",
       "      <td>SAIF</td>\n",
       "      <td>IL</td>\n",
       "      <td>Superior Federal, FSB</td>\n",
       "      <td>2001</td>\n",
       "      <td>7</td>\n",
       "      <td>2001-07</td>\n",
       "    </tr>\n",
       "    <tr>\n",
       "      <th>562</th>\n",
       "      <td>6629</td>\n",
       "      <td>N</td>\n",
       "      <td>769.0</td>\n",
       "      <td>2001-05-03</td>\n",
       "      <td>MALTA NATIONAL BANK</td>\n",
       "      <td>9075</td>\n",
       "      <td>8728</td>\n",
       "      <td>FAILURE</td>\n",
       "      <td>PA</td>\n",
       "      <td>BIF</td>\n",
       "      <td>OH</td>\n",
       "      <td>North Valley Bank</td>\n",
       "      <td>2001</td>\n",
       "      <td>5</td>\n",
       "      <td>2001-05</td>\n",
       "    </tr>\n",
       "    <tr>\n",
       "      <th>563</th>\n",
       "      <td>34264</td>\n",
       "      <td>NM</td>\n",
       "      <td>817.0</td>\n",
       "      <td>2001-02-02</td>\n",
       "      <td>FIRST ALLIANCE BANK AND TRUST CO</td>\n",
       "      <td>17438</td>\n",
       "      <td>16931</td>\n",
       "      <td>FAILURE</td>\n",
       "      <td>PA</td>\n",
       "      <td>BIF</td>\n",
       "      <td>NH</td>\n",
       "      <td>Southern New Hampshire Bank &amp; Trust</td>\n",
       "      <td>2001</td>\n",
       "      <td>2</td>\n",
       "      <td>2001-02</td>\n",
       "    </tr>\n",
       "    <tr>\n",
       "      <th>564</th>\n",
       "      <td>3815</td>\n",
       "      <td>N</td>\n",
       "      <td>2670.0</td>\n",
       "      <td>2000-12-14</td>\n",
       "      <td>NATIONAL STATE BANK OF METROPOLIS</td>\n",
       "      <td>90397</td>\n",
       "      <td>71277</td>\n",
       "      <td>FAILURE</td>\n",
       "      <td>PI</td>\n",
       "      <td>BIF</td>\n",
       "      <td>IL</td>\n",
       "      <td>Banterra Bank of Marion</td>\n",
       "      <td>2000</td>\n",
       "      <td>12</td>\n",
       "      <td>2000-12</td>\n",
       "    </tr>\n",
       "    <tr>\n",
       "      <th>565</th>\n",
       "      <td>21029</td>\n",
       "      <td>NM</td>\n",
       "      <td>400.0</td>\n",
       "      <td>2000-10-13</td>\n",
       "      <td>BANK OF HONOLULU</td>\n",
       "      <td>63890</td>\n",
       "      <td>59037</td>\n",
       "      <td>FAILURE</td>\n",
       "      <td>PI</td>\n",
       "      <td>BIF</td>\n",
       "      <td>HI</td>\n",
       "      <td>Bank of the Orient</td>\n",
       "      <td>2000</td>\n",
       "      <td>10</td>\n",
       "      <td>2000-10</td>\n",
       "    </tr>\n",
       "  </tbody>\n",
       "</table>\n",
       "<p>566 rows × 15 columns</p>\n",
       "</div>"
      ],
      "text/plain": [
       "      cert chclass1        cost   faildate                               name  \\\n",
       "0    59017       NM         0.0 2023-05-01                FIRST REPUBLIC BANK   \n",
       "1    57053       NM   2400000.0 2023-03-12                     SIGNATURE BANK   \n",
       "2    24735       SM  16100000.0 2023-03-07                SILICON VALLEY BANK   \n",
       "3    15426       NM     16330.0 2020-10-23                  ALMENA STATE BANK   \n",
       "4    16748       NM      7247.0 2020-10-16         FIRST CITY BANK OF FLORIDA   \n",
       "..     ...      ...         ...        ...                                ...   \n",
       "561  32646       SB    286673.0 2001-07-27                 SUPERIOR BANK, FSB   \n",
       "562   6629        N       769.0 2001-05-03                MALTA NATIONAL BANK   \n",
       "563  34264       NM       817.0 2001-02-02   FIRST ALLIANCE BANK AND TRUST CO   \n",
       "564   3815        N      2670.0 2000-12-14  NATIONAL STATE BANK OF METROPOLIS   \n",
       "565  21029       NM       400.0 2000-10-13                   BANK OF HONOLULU   \n",
       "\n",
       "      qbfasset     qbfdep  restype restype1  savr state  \\\n",
       "0    212638872  176436706  FAILURE       PA   DIF    CA   \n",
       "1    110363650   88612911  FAILURE       PA   DIF    NY   \n",
       "2    209026000  175378000  FAILURE       PA   DIF    CA   \n",
       "3        65733      64941  FAILURE       PA   DIF    KS   \n",
       "4       136566     133936  FAILURE       PA   DIF    FL   \n",
       "..         ...        ...      ...      ...   ...   ...   \n",
       "561    1765455    1609501  FAILURE       PI  SAIF    IL   \n",
       "562       9075       8728  FAILURE       PA   BIF    OH   \n",
       "563      17438      16931  FAILURE       PA   BIF    NH   \n",
       "564      90397      71277  FAILURE       PI   BIF    IL   \n",
       "565      63890      59037  FAILURE       PI   BIF    HI   \n",
       "\n",
       "                   acquiring institution  year  month Month_Year  \n",
       "0              JPMorgan Chase Bank, N.A.  2023      5    2023-05  \n",
       "1                    Flagstar Bank, N.A.  2023      3    2023-03  \n",
       "2    First–Citizens Bank & Trust Company  2023      3    2023-03  \n",
       "3                            Equity Bank  2020     10    2020-10  \n",
       "4              United Fidelity Bank, fsb  2020     10    2020-10  \n",
       "..                                   ...   ...    ...        ...  \n",
       "561                Superior Federal, FSB  2001      7    2001-07  \n",
       "562                    North Valley Bank  2001      5    2001-05  \n",
       "563  Southern New Hampshire Bank & Trust  2001      2    2001-02  \n",
       "564              Banterra Bank of Marion  2000     12    2000-12  \n",
       "565                   Bank of the Orient  2000     10    2000-10  \n",
       "\n",
       "[566 rows x 15 columns]"
      ]
     },
     "execution_count": 652,
     "metadata": {},
     "output_type": "execute_result"
    }
   ],
   "source": [
    "df['Month_Year'] = df['faildate'].dt.to_period('M')\n",
    "df"
   ]
  },
  {
   "cell_type": "code",
   "execution_count": 653,
   "metadata": {},
   "outputs": [
    {
     "data": {
      "text/html": [
       "<div>\n",
       "<style scoped>\n",
       "    .dataframe tbody tr th:only-of-type {\n",
       "        vertical-align: middle;\n",
       "    }\n",
       "\n",
       "    .dataframe tbody tr th {\n",
       "        vertical-align: top;\n",
       "    }\n",
       "\n",
       "    .dataframe thead th {\n",
       "        text-align: right;\n",
       "    }\n",
       "</style>\n",
       "<table border=\"1\" class=\"dataframe\">\n",
       "  <thead>\n",
       "    <tr style=\"text-align: right;\">\n",
       "      <th></th>\n",
       "      <th>cert</th>\n",
       "      <th>chclass1</th>\n",
       "      <th>cost</th>\n",
       "      <th>faildate</th>\n",
       "      <th>name</th>\n",
       "      <th>qbfasset</th>\n",
       "      <th>qbfdep</th>\n",
       "      <th>restype</th>\n",
       "      <th>restype1</th>\n",
       "      <th>savr</th>\n",
       "      <th>state</th>\n",
       "      <th>acquiring institution</th>\n",
       "      <th>year</th>\n",
       "      <th>month</th>\n",
       "      <th>Month_Year</th>\n",
       "    </tr>\n",
       "  </thead>\n",
       "  <tbody>\n",
       "    <tr>\n",
       "      <th>514</th>\n",
       "      <td>11568</td>\n",
       "      <td>NM</td>\n",
       "      <td>7710.0</td>\n",
       "      <td>2008-12-12</td>\n",
       "      <td>SANDERSON STATE BANK</td>\n",
       "      <td>38217</td>\n",
       "      <td>32012</td>\n",
       "      <td>FAILURE</td>\n",
       "      <td>PA</td>\n",
       "      <td>DIF</td>\n",
       "      <td>TX</td>\n",
       "      <td>The Pecos County State Bank</td>\n",
       "      <td>2008</td>\n",
       "      <td>12</td>\n",
       "      <td>2008-12</td>\n",
       "    </tr>\n",
       "    <tr>\n",
       "      <th>515</th>\n",
       "      <td>35379</td>\n",
       "      <td>NM</td>\n",
       "      <td>246888.0</td>\n",
       "      <td>2008-12-12</td>\n",
       "      <td>HAVEN TRUST BANK</td>\n",
       "      <td>559551</td>\n",
       "      <td>489692</td>\n",
       "      <td>FAILURE</td>\n",
       "      <td>PA</td>\n",
       "      <td>DIF</td>\n",
       "      <td>GA</td>\n",
       "      <td>Branch Banking &amp; Trust Company, (BB&amp;T)</td>\n",
       "      <td>2008</td>\n",
       "      <td>12</td>\n",
       "      <td>2008-12</td>\n",
       "    </tr>\n",
       "    <tr>\n",
       "      <th>516</th>\n",
       "      <td>34301</td>\n",
       "      <td>SM</td>\n",
       "      <td>86520.0</td>\n",
       "      <td>2008-12-05</td>\n",
       "      <td>FIRST GEORGIA COMMUNITY BANK</td>\n",
       "      <td>256371</td>\n",
       "      <td>215287</td>\n",
       "      <td>FAILURE</td>\n",
       "      <td>PA</td>\n",
       "      <td>DIF</td>\n",
       "      <td>GA</td>\n",
       "      <td>United Bank</td>\n",
       "      <td>2008</td>\n",
       "      <td>12</td>\n",
       "      <td>2008-12</td>\n",
       "    </tr>\n",
       "    <tr>\n",
       "      <th>517</th>\n",
       "      <td>16490</td>\n",
       "      <td>NM</td>\n",
       "      <td>335062.0</td>\n",
       "      <td>2008-11-21</td>\n",
       "      <td>THE COMMUNITY BANK</td>\n",
       "      <td>634901</td>\n",
       "      <td>603733</td>\n",
       "      <td>FAILURE</td>\n",
       "      <td>PA</td>\n",
       "      <td>DIF</td>\n",
       "      <td>GA</td>\n",
       "      <td>Bank of Essex</td>\n",
       "      <td>2008</td>\n",
       "      <td>11</td>\n",
       "      <td>2008-11</td>\n",
       "    </tr>\n",
       "    <tr>\n",
       "      <th>518</th>\n",
       "      <td>28344</td>\n",
       "      <td>SB</td>\n",
       "      <td>258807.0</td>\n",
       "      <td>2008-11-21</td>\n",
       "      <td>PFF BANK &amp; TRUST</td>\n",
       "      <td>3715433</td>\n",
       "      <td>2393845</td>\n",
       "      <td>FAILURE</td>\n",
       "      <td>PA</td>\n",
       "      <td>DIF</td>\n",
       "      <td>CA</td>\n",
       "      <td>U.S. Bank, N.A.</td>\n",
       "      <td>2008</td>\n",
       "      <td>11</td>\n",
       "      <td>2008-11</td>\n",
       "    </tr>\n",
       "    <tr>\n",
       "      <th>519</th>\n",
       "      <td>30968</td>\n",
       "      <td>SL</td>\n",
       "      <td>151232.0</td>\n",
       "      <td>2008-11-21</td>\n",
       "      <td>DOWNEY SAVINGS AND LOAN ASSOCIATION, F.A.</td>\n",
       "      <td>12779371</td>\n",
       "      <td>9653169</td>\n",
       "      <td>FAILURE</td>\n",
       "      <td>PA</td>\n",
       "      <td>DIF</td>\n",
       "      <td>CA</td>\n",
       "      <td>U.S. Bank, N.A.</td>\n",
       "      <td>2008</td>\n",
       "      <td>11</td>\n",
       "      <td>2008-11</td>\n",
       "    </tr>\n",
       "    <tr>\n",
       "      <th>520</th>\n",
       "      <td>23595</td>\n",
       "      <td>NM</td>\n",
       "      <td>148255.0</td>\n",
       "      <td>2008-11-07</td>\n",
       "      <td>SECURITY PACIFIC BANK</td>\n",
       "      <td>527959</td>\n",
       "      <td>456472</td>\n",
       "      <td>FAILURE</td>\n",
       "      <td>PA</td>\n",
       "      <td>DIF</td>\n",
       "      <td>CA</td>\n",
       "      <td>Pacific Western Bank</td>\n",
       "      <td>2008</td>\n",
       "      <td>11</td>\n",
       "      <td>2008-11</td>\n",
       "    </tr>\n",
       "    <tr>\n",
       "      <th>521</th>\n",
       "      <td>26870</td>\n",
       "      <td>SI</td>\n",
       "      <td>615993.0</td>\n",
       "      <td>2008-11-07</td>\n",
       "      <td>FRANKLIN BANK, SSB</td>\n",
       "      <td>5089260</td>\n",
       "      <td>3692887</td>\n",
       "      <td>FAILURE</td>\n",
       "      <td>PA</td>\n",
       "      <td>DIF</td>\n",
       "      <td>TX</td>\n",
       "      <td>Prosperity Bank</td>\n",
       "      <td>2008</td>\n",
       "      <td>11</td>\n",
       "      <td>2008-11</td>\n",
       "    </tr>\n",
       "    <tr>\n",
       "      <th>522</th>\n",
       "      <td>57930</td>\n",
       "      <td>NM</td>\n",
       "      <td>113456.0</td>\n",
       "      <td>2008-10-31</td>\n",
       "      <td>FREEDOM BANK</td>\n",
       "      <td>270842</td>\n",
       "      <td>256793</td>\n",
       "      <td>FAILURE</td>\n",
       "      <td>PA</td>\n",
       "      <td>DIF</td>\n",
       "      <td>FL</td>\n",
       "      <td>Fifth Third Bank</td>\n",
       "      <td>2008</td>\n",
       "      <td>10</td>\n",
       "      <td>2008-10</td>\n",
       "    </tr>\n",
       "    <tr>\n",
       "      <th>523</th>\n",
       "      <td>58241</td>\n",
       "      <td>NM</td>\n",
       "      <td>211264.0</td>\n",
       "      <td>2008-10-24</td>\n",
       "      <td>ALPHA BANK &amp; TRUST</td>\n",
       "      <td>354090</td>\n",
       "      <td>344231</td>\n",
       "      <td>FAILURE</td>\n",
       "      <td>PI</td>\n",
       "      <td>DIF</td>\n",
       "      <td>GA</td>\n",
       "      <td>Stearns Bank, N.A.</td>\n",
       "      <td>2008</td>\n",
       "      <td>10</td>\n",
       "      <td>2008-10</td>\n",
       "    </tr>\n",
       "    <tr>\n",
       "      <th>524</th>\n",
       "      <td>13789</td>\n",
       "      <td>NM</td>\n",
       "      <td>16618.0</td>\n",
       "      <td>2008-10-10</td>\n",
       "      <td>MERIDIAN BANK</td>\n",
       "      <td>38223</td>\n",
       "      <td>36090</td>\n",
       "      <td>FAILURE</td>\n",
       "      <td>PA</td>\n",
       "      <td>DIF</td>\n",
       "      <td>IL</td>\n",
       "      <td>National Bank</td>\n",
       "      <td>2008</td>\n",
       "      <td>10</td>\n",
       "      <td>2008-10</td>\n",
       "    </tr>\n",
       "    <tr>\n",
       "      <th>525</th>\n",
       "      <td>57654</td>\n",
       "      <td>NM</td>\n",
       "      <td>56318.0</td>\n",
       "      <td>2008-10-10</td>\n",
       "      <td>MAIN STREET BANK</td>\n",
       "      <td>112368</td>\n",
       "      <td>98934</td>\n",
       "      <td>FAILURE</td>\n",
       "      <td>PA</td>\n",
       "      <td>DIF</td>\n",
       "      <td>MI</td>\n",
       "      <td>Monroe Bank &amp; Trust</td>\n",
       "      <td>2008</td>\n",
       "      <td>10</td>\n",
       "      <td>2008-10</td>\n",
       "    </tr>\n",
       "    <tr>\n",
       "      <th>526</th>\n",
       "      <td>32633</td>\n",
       "      <td>SB</td>\n",
       "      <td>0.0</td>\n",
       "      <td>2008-09-25</td>\n",
       "      <td>WASHINGTON MUTUAL BANK</td>\n",
       "      <td>307021614</td>\n",
       "      <td>188260793</td>\n",
       "      <td>FAILURE</td>\n",
       "      <td>PA</td>\n",
       "      <td>DIF</td>\n",
       "      <td>NV</td>\n",
       "      <td>JP Morgan Chase Bank</td>\n",
       "      <td>2008</td>\n",
       "      <td>9</td>\n",
       "      <td>2008-09</td>\n",
       "    </tr>\n",
       "    <tr>\n",
       "      <th>527</th>\n",
       "      <td>6782</td>\n",
       "      <td>SB</td>\n",
       "      <td>38290.0</td>\n",
       "      <td>2008-09-19</td>\n",
       "      <td>AMERIBANK, INC.</td>\n",
       "      <td>103965</td>\n",
       "      <td>100901</td>\n",
       "      <td>FAILURE</td>\n",
       "      <td>PA</td>\n",
       "      <td>DIF</td>\n",
       "      <td>WV</td>\n",
       "      <td>The Citizens Savings Bank ********** Pioneer C...</td>\n",
       "      <td>2008</td>\n",
       "      <td>9</td>\n",
       "      <td>2008-09</td>\n",
       "    </tr>\n",
       "    <tr>\n",
       "      <th>528</th>\n",
       "      <td>34194</td>\n",
       "      <td>NM</td>\n",
       "      <td>722757.0</td>\n",
       "      <td>2008-09-05</td>\n",
       "      <td>SILVER STATE BANK</td>\n",
       "      <td>1957120</td>\n",
       "      <td>1733091</td>\n",
       "      <td>FAILURE</td>\n",
       "      <td>PI</td>\n",
       "      <td>DIF</td>\n",
       "      <td>NV</td>\n",
       "      <td>Nevada State Bank</td>\n",
       "      <td>2008</td>\n",
       "      <td>9</td>\n",
       "      <td>2008-09</td>\n",
       "    </tr>\n",
       "    <tr>\n",
       "      <th>529</th>\n",
       "      <td>35469</td>\n",
       "      <td>NM</td>\n",
       "      <td>465942.0</td>\n",
       "      <td>2008-08-29</td>\n",
       "      <td>INTEGRITY BANK</td>\n",
       "      <td>1107514</td>\n",
       "      <td>962456</td>\n",
       "      <td>FAILURE</td>\n",
       "      <td>PA</td>\n",
       "      <td>DIF</td>\n",
       "      <td>GA</td>\n",
       "      <td>Regions Bank</td>\n",
       "      <td>2008</td>\n",
       "      <td>8</td>\n",
       "      <td>2008-08</td>\n",
       "    </tr>\n",
       "    <tr>\n",
       "      <th>530</th>\n",
       "      <td>22728</td>\n",
       "      <td>NM</td>\n",
       "      <td>334277.0</td>\n",
       "      <td>2008-08-22</td>\n",
       "      <td>THE COLUMBIAN BANK AND TRUST COMPANY</td>\n",
       "      <td>735071</td>\n",
       "      <td>620354</td>\n",
       "      <td>FAILURE</td>\n",
       "      <td>PI</td>\n",
       "      <td>DIF</td>\n",
       "      <td>KS</td>\n",
       "      <td>Citizens Bank &amp; Trust</td>\n",
       "      <td>2008</td>\n",
       "      <td>8</td>\n",
       "      <td>2008-08</td>\n",
       "    </tr>\n",
       "    <tr>\n",
       "      <th>531</th>\n",
       "      <td>57523</td>\n",
       "      <td>NM</td>\n",
       "      <td>95555.0</td>\n",
       "      <td>2008-08-01</td>\n",
       "      <td>FIRST PRIORITY BANK</td>\n",
       "      <td>258610</td>\n",
       "      <td>226698</td>\n",
       "      <td>FAILURE</td>\n",
       "      <td>PI</td>\n",
       "      <td>DIF</td>\n",
       "      <td>FL</td>\n",
       "      <td>SunTrust Bank</td>\n",
       "      <td>2008</td>\n",
       "      <td>8</td>\n",
       "      <td>2008-08</td>\n",
       "    </tr>\n",
       "    <tr>\n",
       "      <th>532</th>\n",
       "      <td>27011</td>\n",
       "      <td>N</td>\n",
       "      <td>716026.0</td>\n",
       "      <td>2008-07-25</td>\n",
       "      <td>FIRST NATIONAL BANK OF NEVADA</td>\n",
       "      <td>3411145</td>\n",
       "      <td>3038053</td>\n",
       "      <td>FAILURE</td>\n",
       "      <td>PA</td>\n",
       "      <td>DIF</td>\n",
       "      <td>NV</td>\n",
       "      <td>Mutual of Omaha Bank</td>\n",
       "      <td>2008</td>\n",
       "      <td>7</td>\n",
       "      <td>2008-07</td>\n",
       "    </tr>\n",
       "    <tr>\n",
       "      <th>533</th>\n",
       "      <td>57961</td>\n",
       "      <td>N</td>\n",
       "      <td>92139.0</td>\n",
       "      <td>2008-07-25</td>\n",
       "      <td>FIRST HERITAGE BANK N.A.</td>\n",
       "      <td>255376</td>\n",
       "      <td>234812</td>\n",
       "      <td>FAILURE</td>\n",
       "      <td>PA</td>\n",
       "      <td>DIF</td>\n",
       "      <td>CA</td>\n",
       "      <td>Mutual of Omaha Bank</td>\n",
       "      <td>2008</td>\n",
       "      <td>7</td>\n",
       "      <td>2008-07</td>\n",
       "    </tr>\n",
       "    <tr>\n",
       "      <th>534</th>\n",
       "      <td>29730</td>\n",
       "      <td>SL</td>\n",
       "      <td>12031040.0</td>\n",
       "      <td>2008-07-11</td>\n",
       "      <td>INDYMAC BANK F.S.B</td>\n",
       "      <td>30698512</td>\n",
       "      <td>18941727</td>\n",
       "      <td>FAILURE</td>\n",
       "      <td>PI</td>\n",
       "      <td>DIF</td>\n",
       "      <td>CA</td>\n",
       "      <td>OneWest Bank, FSB</td>\n",
       "      <td>2008</td>\n",
       "      <td>7</td>\n",
       "      <td>2008-07</td>\n",
       "    </tr>\n",
       "    <tr>\n",
       "      <th>535</th>\n",
       "      <td>12736</td>\n",
       "      <td>N</td>\n",
       "      <td>10305.0</td>\n",
       "      <td>2008-05-30</td>\n",
       "      <td>FIRST INTEGRITY BANK, N.A.</td>\n",
       "      <td>52916</td>\n",
       "      <td>50178</td>\n",
       "      <td>FAILURE</td>\n",
       "      <td>PA</td>\n",
       "      <td>DIF</td>\n",
       "      <td>MN</td>\n",
       "      <td>First International Bank and Trust</td>\n",
       "      <td>2008</td>\n",
       "      <td>5</td>\n",
       "      <td>2008-05</td>\n",
       "    </tr>\n",
       "    <tr>\n",
       "      <th>536</th>\n",
       "      <td>33901</td>\n",
       "      <td>N</td>\n",
       "      <td>1025204.0</td>\n",
       "      <td>2008-05-09</td>\n",
       "      <td>ANB FINANCIAL NATIONAL ASSOCIATION</td>\n",
       "      <td>1895545</td>\n",
       "      <td>1815691</td>\n",
       "      <td>FAILURE</td>\n",
       "      <td>PI</td>\n",
       "      <td>DIF</td>\n",
       "      <td>AR</td>\n",
       "      <td>Pulaski Bank and Trust Company</td>\n",
       "      <td>2008</td>\n",
       "      <td>5</td>\n",
       "      <td>2008-05</td>\n",
       "    </tr>\n",
       "    <tr>\n",
       "      <th>537</th>\n",
       "      <td>1971</td>\n",
       "      <td>NM</td>\n",
       "      <td>3755.0</td>\n",
       "      <td>2008-03-07</td>\n",
       "      <td>HUME BANK</td>\n",
       "      <td>18682</td>\n",
       "      <td>13566</td>\n",
       "      <td>FAILURE</td>\n",
       "      <td>PI</td>\n",
       "      <td>DIF</td>\n",
       "      <td>MO</td>\n",
       "      <td>Security Bank</td>\n",
       "      <td>2008</td>\n",
       "      <td>3</td>\n",
       "      <td>2008-03</td>\n",
       "    </tr>\n",
       "    <tr>\n",
       "      <th>538</th>\n",
       "      <td>24660</td>\n",
       "      <td>N</td>\n",
       "      <td>7157.0</td>\n",
       "      <td>2008-01-25</td>\n",
       "      <td>DOUGLASS NATIONAL BANK</td>\n",
       "      <td>52824</td>\n",
       "      <td>50250</td>\n",
       "      <td>FAILURE</td>\n",
       "      <td>PA</td>\n",
       "      <td>DIF</td>\n",
       "      <td>MO</td>\n",
       "      <td>Liberty Bank and Trust Company</td>\n",
       "      <td>2008</td>\n",
       "      <td>1</td>\n",
       "      <td>2008-01</td>\n",
       "    </tr>\n",
       "  </tbody>\n",
       "</table>\n",
       "</div>"
      ],
      "text/plain": [
       "      cert chclass1        cost   faildate  \\\n",
       "514  11568       NM      7710.0 2008-12-12   \n",
       "515  35379       NM    246888.0 2008-12-12   \n",
       "516  34301       SM     86520.0 2008-12-05   \n",
       "517  16490       NM    335062.0 2008-11-21   \n",
       "518  28344       SB    258807.0 2008-11-21   \n",
       "519  30968       SL    151232.0 2008-11-21   \n",
       "520  23595       NM    148255.0 2008-11-07   \n",
       "521  26870       SI    615993.0 2008-11-07   \n",
       "522  57930       NM    113456.0 2008-10-31   \n",
       "523  58241       NM    211264.0 2008-10-24   \n",
       "524  13789       NM     16618.0 2008-10-10   \n",
       "525  57654       NM     56318.0 2008-10-10   \n",
       "526  32633       SB         0.0 2008-09-25   \n",
       "527   6782       SB     38290.0 2008-09-19   \n",
       "528  34194       NM    722757.0 2008-09-05   \n",
       "529  35469       NM    465942.0 2008-08-29   \n",
       "530  22728       NM    334277.0 2008-08-22   \n",
       "531  57523       NM     95555.0 2008-08-01   \n",
       "532  27011        N    716026.0 2008-07-25   \n",
       "533  57961        N     92139.0 2008-07-25   \n",
       "534  29730       SL  12031040.0 2008-07-11   \n",
       "535  12736        N     10305.0 2008-05-30   \n",
       "536  33901        N   1025204.0 2008-05-09   \n",
       "537   1971       NM      3755.0 2008-03-07   \n",
       "538  24660        N      7157.0 2008-01-25   \n",
       "\n",
       "                                          name   qbfasset     qbfdep  restype  \\\n",
       "514                       SANDERSON STATE BANK      38217      32012  FAILURE   \n",
       "515                           HAVEN TRUST BANK     559551     489692  FAILURE   \n",
       "516               FIRST GEORGIA COMMUNITY BANK     256371     215287  FAILURE   \n",
       "517                         THE COMMUNITY BANK     634901     603733  FAILURE   \n",
       "518                           PFF BANK & TRUST    3715433    2393845  FAILURE   \n",
       "519  DOWNEY SAVINGS AND LOAN ASSOCIATION, F.A.   12779371    9653169  FAILURE   \n",
       "520                      SECURITY PACIFIC BANK     527959     456472  FAILURE   \n",
       "521                         FRANKLIN BANK, SSB    5089260    3692887  FAILURE   \n",
       "522                               FREEDOM BANK     270842     256793  FAILURE   \n",
       "523                         ALPHA BANK & TRUST     354090     344231  FAILURE   \n",
       "524                              MERIDIAN BANK      38223      36090  FAILURE   \n",
       "525                           MAIN STREET BANK     112368      98934  FAILURE   \n",
       "526                     WASHINGTON MUTUAL BANK  307021614  188260793  FAILURE   \n",
       "527                            AMERIBANK, INC.     103965     100901  FAILURE   \n",
       "528                          SILVER STATE BANK    1957120    1733091  FAILURE   \n",
       "529                             INTEGRITY BANK    1107514     962456  FAILURE   \n",
       "530       THE COLUMBIAN BANK AND TRUST COMPANY     735071     620354  FAILURE   \n",
       "531                        FIRST PRIORITY BANK     258610     226698  FAILURE   \n",
       "532              FIRST NATIONAL BANK OF NEVADA    3411145    3038053  FAILURE   \n",
       "533                   FIRST HERITAGE BANK N.A.     255376     234812  FAILURE   \n",
       "534                         INDYMAC BANK F.S.B   30698512   18941727  FAILURE   \n",
       "535                 FIRST INTEGRITY BANK, N.A.      52916      50178  FAILURE   \n",
       "536         ANB FINANCIAL NATIONAL ASSOCIATION    1895545    1815691  FAILURE   \n",
       "537                                  HUME BANK      18682      13566  FAILURE   \n",
       "538                     DOUGLASS NATIONAL BANK      52824      50250  FAILURE   \n",
       "\n",
       "    restype1 savr state                              acquiring institution  \\\n",
       "514       PA  DIF    TX                        The Pecos County State Bank   \n",
       "515       PA  DIF    GA             Branch Banking & Trust Company, (BB&T)   \n",
       "516       PA  DIF    GA                                        United Bank   \n",
       "517       PA  DIF    GA                                      Bank of Essex   \n",
       "518       PA  DIF    CA                                    U.S. Bank, N.A.   \n",
       "519       PA  DIF    CA                                    U.S. Bank, N.A.   \n",
       "520       PA  DIF    CA                               Pacific Western Bank   \n",
       "521       PA  DIF    TX                                    Prosperity Bank   \n",
       "522       PA  DIF    FL                                   Fifth Third Bank   \n",
       "523       PI  DIF    GA                                 Stearns Bank, N.A.   \n",
       "524       PA  DIF    IL                                      National Bank   \n",
       "525       PA  DIF    MI                                Monroe Bank & Trust   \n",
       "526       PA  DIF    NV                               JP Morgan Chase Bank   \n",
       "527       PA  DIF    WV  The Citizens Savings Bank ********** Pioneer C...   \n",
       "528       PI  DIF    NV                                  Nevada State Bank   \n",
       "529       PA  DIF    GA                                       Regions Bank   \n",
       "530       PI  DIF    KS                              Citizens Bank & Trust   \n",
       "531       PI  DIF    FL                                      SunTrust Bank   \n",
       "532       PA  DIF    NV                               Mutual of Omaha Bank   \n",
       "533       PA  DIF    CA                               Mutual of Omaha Bank   \n",
       "534       PI  DIF    CA                                  OneWest Bank, FSB   \n",
       "535       PA  DIF    MN                 First International Bank and Trust   \n",
       "536       PI  DIF    AR                     Pulaski Bank and Trust Company   \n",
       "537       PI  DIF    MO                                      Security Bank   \n",
       "538       PA  DIF    MO                     Liberty Bank and Trust Company   \n",
       "\n",
       "     year  month Month_Year  \n",
       "514  2008     12    2008-12  \n",
       "515  2008     12    2008-12  \n",
       "516  2008     12    2008-12  \n",
       "517  2008     11    2008-11  \n",
       "518  2008     11    2008-11  \n",
       "519  2008     11    2008-11  \n",
       "520  2008     11    2008-11  \n",
       "521  2008     11    2008-11  \n",
       "522  2008     10    2008-10  \n",
       "523  2008     10    2008-10  \n",
       "524  2008     10    2008-10  \n",
       "525  2008     10    2008-10  \n",
       "526  2008      9    2008-09  \n",
       "527  2008      9    2008-09  \n",
       "528  2008      9    2008-09  \n",
       "529  2008      8    2008-08  \n",
       "530  2008      8    2008-08  \n",
       "531  2008      8    2008-08  \n",
       "532  2008      7    2008-07  \n",
       "533  2008      7    2008-07  \n",
       "534  2008      7    2008-07  \n",
       "535  2008      5    2008-05  \n",
       "536  2008      5    2008-05  \n",
       "537  2008      3    2008-03  \n",
       "538  2008      1    2008-01  "
      ]
     },
     "execution_count": 653,
     "metadata": {},
     "output_type": "execute_result"
    }
   ],
   "source": [
    "df_new = df[df['faildate'].dt.strftime('%Y') == '2008']\n",
    "df_new"
   ]
  },
  {
   "cell_type": "code",
   "execution_count": 654,
   "metadata": {},
   "outputs": [
    {
     "data": {
      "text/html": [
       "<div>\n",
       "<style scoped>\n",
       "    .dataframe tbody tr th:only-of-type {\n",
       "        vertical-align: middle;\n",
       "    }\n",
       "\n",
       "    .dataframe tbody tr th {\n",
       "        vertical-align: top;\n",
       "    }\n",
       "\n",
       "    .dataframe thead th {\n",
       "        text-align: right;\n",
       "    }\n",
       "</style>\n",
       "<table border=\"1\" class=\"dataframe\">\n",
       "  <thead>\n",
       "    <tr style=\"text-align: right;\">\n",
       "      <th></th>\n",
       "      <th>month</th>\n",
       "      <th>year</th>\n",
       "      <th>counts</th>\n",
       "    </tr>\n",
       "  </thead>\n",
       "  <tbody>\n",
       "    <tr>\n",
       "      <th>0</th>\n",
       "      <td>1</td>\n",
       "      <td>2008</td>\n",
       "      <td>1.0</td>\n",
       "    </tr>\n",
       "    <tr>\n",
       "      <th>1</th>\n",
       "      <td>2</td>\n",
       "      <td>2008</td>\n",
       "      <td>0.0</td>\n",
       "    </tr>\n",
       "    <tr>\n",
       "      <th>2</th>\n",
       "      <td>3</td>\n",
       "      <td>2008</td>\n",
       "      <td>1.0</td>\n",
       "    </tr>\n",
       "    <tr>\n",
       "      <th>3</th>\n",
       "      <td>4</td>\n",
       "      <td>2008</td>\n",
       "      <td>0.0</td>\n",
       "    </tr>\n",
       "    <tr>\n",
       "      <th>4</th>\n",
       "      <td>5</td>\n",
       "      <td>2008</td>\n",
       "      <td>2.0</td>\n",
       "    </tr>\n",
       "    <tr>\n",
       "      <th>5</th>\n",
       "      <td>6</td>\n",
       "      <td>2008</td>\n",
       "      <td>0.0</td>\n",
       "    </tr>\n",
       "    <tr>\n",
       "      <th>6</th>\n",
       "      <td>7</td>\n",
       "      <td>2008</td>\n",
       "      <td>3.0</td>\n",
       "    </tr>\n",
       "    <tr>\n",
       "      <th>7</th>\n",
       "      <td>8</td>\n",
       "      <td>2008</td>\n",
       "      <td>3.0</td>\n",
       "    </tr>\n",
       "    <tr>\n",
       "      <th>8</th>\n",
       "      <td>9</td>\n",
       "      <td>2008</td>\n",
       "      <td>3.0</td>\n",
       "    </tr>\n",
       "    <tr>\n",
       "      <th>9</th>\n",
       "      <td>10</td>\n",
       "      <td>2008</td>\n",
       "      <td>4.0</td>\n",
       "    </tr>\n",
       "    <tr>\n",
       "      <th>10</th>\n",
       "      <td>11</td>\n",
       "      <td>2008</td>\n",
       "      <td>5.0</td>\n",
       "    </tr>\n",
       "    <tr>\n",
       "      <th>11</th>\n",
       "      <td>12</td>\n",
       "      <td>2008</td>\n",
       "      <td>3.0</td>\n",
       "    </tr>\n",
       "  </tbody>\n",
       "</table>\n",
       "</div>"
      ],
      "text/plain": [
       "    month  year  counts\n",
       "0       1  2008     1.0\n",
       "1       2  2008     0.0\n",
       "2       3  2008     1.0\n",
       "3       4  2008     0.0\n",
       "4       5  2008     2.0\n",
       "5       6  2008     0.0\n",
       "6       7  2008     3.0\n",
       "7       8  2008     3.0\n",
       "8       9  2008     3.0\n",
       "9      10  2008     4.0\n",
       "10     11  2008     5.0\n",
       "11     12  2008     3.0"
      ]
     },
     "execution_count": 654,
     "metadata": {},
     "output_type": "execute_result"
    }
   ],
   "source": [
    "df_1 = df_new.groupby(['year','month'])['month'].count().reset_index(name='counts')\n",
    "df_1 = df_1.set_index('month')\n",
    "df_1 = df_1.reindex(np.arange(1, 13)).fillna(0.0)\n",
    "df_1['year'] = '2008'\n",
    "df_1 = df_1.reset_index()\n",
    "df_1"
   ]
  },
  {
   "cell_type": "code",
   "execution_count": 655,
   "metadata": {},
   "outputs": [
    {
     "data": {
      "text/html": [
       "<div>\n",
       "<style scoped>\n",
       "    .dataframe tbody tr th:only-of-type {\n",
       "        vertical-align: middle;\n",
       "    }\n",
       "\n",
       "    .dataframe tbody tr th {\n",
       "        vertical-align: top;\n",
       "    }\n",
       "\n",
       "    .dataframe thead th {\n",
       "        text-align: right;\n",
       "    }\n",
       "</style>\n",
       "<table border=\"1\" class=\"dataframe\">\n",
       "  <thead>\n",
       "    <tr style=\"text-align: right;\">\n",
       "      <th></th>\n",
       "      <th>month</th>\n",
       "      <th>year</th>\n",
       "      <th>loss</th>\n",
       "    </tr>\n",
       "  </thead>\n",
       "  <tbody>\n",
       "    <tr>\n",
       "      <th>0</th>\n",
       "      <td>1</td>\n",
       "      <td>2008</td>\n",
       "      <td>7157.0</td>\n",
       "    </tr>\n",
       "    <tr>\n",
       "      <th>1</th>\n",
       "      <td>2</td>\n",
       "      <td>2008</td>\n",
       "      <td>0.0</td>\n",
       "    </tr>\n",
       "    <tr>\n",
       "      <th>2</th>\n",
       "      <td>3</td>\n",
       "      <td>2008</td>\n",
       "      <td>3755.0</td>\n",
       "    </tr>\n",
       "    <tr>\n",
       "      <th>3</th>\n",
       "      <td>4</td>\n",
       "      <td>2008</td>\n",
       "      <td>0.0</td>\n",
       "    </tr>\n",
       "    <tr>\n",
       "      <th>4</th>\n",
       "      <td>5</td>\n",
       "      <td>2008</td>\n",
       "      <td>1035509.0</td>\n",
       "    </tr>\n",
       "    <tr>\n",
       "      <th>5</th>\n",
       "      <td>6</td>\n",
       "      <td>2008</td>\n",
       "      <td>0.0</td>\n",
       "    </tr>\n",
       "    <tr>\n",
       "      <th>6</th>\n",
       "      <td>7</td>\n",
       "      <td>2008</td>\n",
       "      <td>12839205.0</td>\n",
       "    </tr>\n",
       "    <tr>\n",
       "      <th>7</th>\n",
       "      <td>8</td>\n",
       "      <td>2008</td>\n",
       "      <td>895774.0</td>\n",
       "    </tr>\n",
       "    <tr>\n",
       "      <th>8</th>\n",
       "      <td>9</td>\n",
       "      <td>2008</td>\n",
       "      <td>761047.0</td>\n",
       "    </tr>\n",
       "    <tr>\n",
       "      <th>9</th>\n",
       "      <td>10</td>\n",
       "      <td>2008</td>\n",
       "      <td>397656.0</td>\n",
       "    </tr>\n",
       "    <tr>\n",
       "      <th>10</th>\n",
       "      <td>11</td>\n",
       "      <td>2008</td>\n",
       "      <td>1509349.0</td>\n",
       "    </tr>\n",
       "    <tr>\n",
       "      <th>11</th>\n",
       "      <td>12</td>\n",
       "      <td>2008</td>\n",
       "      <td>341118.0</td>\n",
       "    </tr>\n",
       "  </tbody>\n",
       "</table>\n",
       "</div>"
      ],
      "text/plain": [
       "    month  year        loss\n",
       "0       1  2008      7157.0\n",
       "1       2  2008         0.0\n",
       "2       3  2008      3755.0\n",
       "3       4  2008         0.0\n",
       "4       5  2008   1035509.0\n",
       "5       6  2008         0.0\n",
       "6       7  2008  12839205.0\n",
       "7       8  2008    895774.0\n",
       "8       9  2008    761047.0\n",
       "9      10  2008    397656.0\n",
       "10     11  2008   1509349.0\n",
       "11     12  2008    341118.0"
      ]
     },
     "execution_count": 655,
     "metadata": {},
     "output_type": "execute_result"
    }
   ],
   "source": [
    "df_cost = df_new.groupby(['year','month'])['cost'].sum().reset_index(name='loss')\n",
    "df_cost = df_cost.set_index('month')\n",
    "df_cost = df_cost.reindex(np.arange(1, 13)).fillna(0.0)\n",
    "df_cost['year'] = '2008'\n",
    "df_cost = df_cost.reset_index()\n",
    "df_cost"
   ]
  },
  {
   "cell_type": "code",
   "execution_count": 656,
   "metadata": {},
   "outputs": [
    {
     "data": {
      "text/html": [
       "<div>\n",
       "<style scoped>\n",
       "    .dataframe tbody tr th:only-of-type {\n",
       "        vertical-align: middle;\n",
       "    }\n",
       "\n",
       "    .dataframe tbody tr th {\n",
       "        vertical-align: top;\n",
       "    }\n",
       "\n",
       "    .dataframe thead th {\n",
       "        text-align: right;\n",
       "    }\n",
       "</style>\n",
       "<table border=\"1\" class=\"dataframe\">\n",
       "  <thead>\n",
       "    <tr style=\"text-align: right;\">\n",
       "      <th></th>\n",
       "      <th>month</th>\n",
       "      <th>year</th>\n",
       "      <th>counts</th>\n",
       "      <th>loss</th>\n",
       "    </tr>\n",
       "  </thead>\n",
       "  <tbody>\n",
       "    <tr>\n",
       "      <th>0</th>\n",
       "      <td>1</td>\n",
       "      <td>2008</td>\n",
       "      <td>1.0</td>\n",
       "      <td>7157.0</td>\n",
       "    </tr>\n",
       "    <tr>\n",
       "      <th>1</th>\n",
       "      <td>2</td>\n",
       "      <td>2008</td>\n",
       "      <td>0.0</td>\n",
       "      <td>0.0</td>\n",
       "    </tr>\n",
       "    <tr>\n",
       "      <th>2</th>\n",
       "      <td>3</td>\n",
       "      <td>2008</td>\n",
       "      <td>1.0</td>\n",
       "      <td>3755.0</td>\n",
       "    </tr>\n",
       "    <tr>\n",
       "      <th>3</th>\n",
       "      <td>4</td>\n",
       "      <td>2008</td>\n",
       "      <td>0.0</td>\n",
       "      <td>0.0</td>\n",
       "    </tr>\n",
       "    <tr>\n",
       "      <th>4</th>\n",
       "      <td>5</td>\n",
       "      <td>2008</td>\n",
       "      <td>2.0</td>\n",
       "      <td>1035509.0</td>\n",
       "    </tr>\n",
       "    <tr>\n",
       "      <th>5</th>\n",
       "      <td>6</td>\n",
       "      <td>2008</td>\n",
       "      <td>0.0</td>\n",
       "      <td>0.0</td>\n",
       "    </tr>\n",
       "    <tr>\n",
       "      <th>6</th>\n",
       "      <td>7</td>\n",
       "      <td>2008</td>\n",
       "      <td>3.0</td>\n",
       "      <td>12839205.0</td>\n",
       "    </tr>\n",
       "    <tr>\n",
       "      <th>7</th>\n",
       "      <td>8</td>\n",
       "      <td>2008</td>\n",
       "      <td>3.0</td>\n",
       "      <td>895774.0</td>\n",
       "    </tr>\n",
       "    <tr>\n",
       "      <th>8</th>\n",
       "      <td>9</td>\n",
       "      <td>2008</td>\n",
       "      <td>3.0</td>\n",
       "      <td>761047.0</td>\n",
       "    </tr>\n",
       "    <tr>\n",
       "      <th>9</th>\n",
       "      <td>10</td>\n",
       "      <td>2008</td>\n",
       "      <td>4.0</td>\n",
       "      <td>397656.0</td>\n",
       "    </tr>\n",
       "    <tr>\n",
       "      <th>10</th>\n",
       "      <td>11</td>\n",
       "      <td>2008</td>\n",
       "      <td>5.0</td>\n",
       "      <td>1509349.0</td>\n",
       "    </tr>\n",
       "    <tr>\n",
       "      <th>11</th>\n",
       "      <td>12</td>\n",
       "      <td>2008</td>\n",
       "      <td>3.0</td>\n",
       "      <td>341118.0</td>\n",
       "    </tr>\n",
       "  </tbody>\n",
       "</table>\n",
       "</div>"
      ],
      "text/plain": [
       "    month  year  counts        loss\n",
       "0       1  2008     1.0      7157.0\n",
       "1       2  2008     0.0         0.0\n",
       "2       3  2008     1.0      3755.0\n",
       "3       4  2008     0.0         0.0\n",
       "4       5  2008     2.0   1035509.0\n",
       "5       6  2008     0.0         0.0\n",
       "6       7  2008     3.0  12839205.0\n",
       "7       8  2008     3.0    895774.0\n",
       "8       9  2008     3.0    761047.0\n",
       "9      10  2008     4.0    397656.0\n",
       "10     11  2008     5.0   1509349.0\n",
       "11     12  2008     3.0    341118.0"
      ]
     },
     "execution_count": 656,
     "metadata": {},
     "output_type": "execute_result"
    }
   ],
   "source": [
    "df_final = pd.merge(df_1, df_cost)\n",
    "df_final"
   ]
  },
  {
   "cell_type": "code",
   "execution_count": 657,
   "metadata": {},
   "outputs": [
    {
     "data": {
      "text/html": [
       "<div>\n",
       "<style scoped>\n",
       "    .dataframe tbody tr th:only-of-type {\n",
       "        vertical-align: middle;\n",
       "    }\n",
       "\n",
       "    .dataframe tbody tr th {\n",
       "        vertical-align: top;\n",
       "    }\n",
       "\n",
       "    .dataframe thead th {\n",
       "        text-align: right;\n",
       "    }\n",
       "</style>\n",
       "<table border=\"1\" class=\"dataframe\">\n",
       "  <thead>\n",
       "    <tr style=\"text-align: right;\">\n",
       "      <th></th>\n",
       "      <th>month</th>\n",
       "      <th>year</th>\n",
       "      <th>counts</th>\n",
       "      <th>loss</th>\n",
       "    </tr>\n",
       "  </thead>\n",
       "  <tbody>\n",
       "    <tr>\n",
       "      <th>0</th>\n",
       "      <td>Jan</td>\n",
       "      <td>2008</td>\n",
       "      <td>1.0</td>\n",
       "      <td>7157.0</td>\n",
       "    </tr>\n",
       "    <tr>\n",
       "      <th>1</th>\n",
       "      <td>Feb</td>\n",
       "      <td>2008</td>\n",
       "      <td>0.0</td>\n",
       "      <td>0.0</td>\n",
       "    </tr>\n",
       "    <tr>\n",
       "      <th>2</th>\n",
       "      <td>Mar</td>\n",
       "      <td>2008</td>\n",
       "      <td>1.0</td>\n",
       "      <td>3755.0</td>\n",
       "    </tr>\n",
       "    <tr>\n",
       "      <th>3</th>\n",
       "      <td>Apr</td>\n",
       "      <td>2008</td>\n",
       "      <td>0.0</td>\n",
       "      <td>0.0</td>\n",
       "    </tr>\n",
       "    <tr>\n",
       "      <th>4</th>\n",
       "      <td>May</td>\n",
       "      <td>2008</td>\n",
       "      <td>2.0</td>\n",
       "      <td>1035509.0</td>\n",
       "    </tr>\n",
       "    <tr>\n",
       "      <th>5</th>\n",
       "      <td>Jun</td>\n",
       "      <td>2008</td>\n",
       "      <td>0.0</td>\n",
       "      <td>0.0</td>\n",
       "    </tr>\n",
       "    <tr>\n",
       "      <th>6</th>\n",
       "      <td>Jul</td>\n",
       "      <td>2008</td>\n",
       "      <td>3.0</td>\n",
       "      <td>12839205.0</td>\n",
       "    </tr>\n",
       "    <tr>\n",
       "      <th>7</th>\n",
       "      <td>Aug</td>\n",
       "      <td>2008</td>\n",
       "      <td>3.0</td>\n",
       "      <td>895774.0</td>\n",
       "    </tr>\n",
       "    <tr>\n",
       "      <th>8</th>\n",
       "      <td>Sep</td>\n",
       "      <td>2008</td>\n",
       "      <td>3.0</td>\n",
       "      <td>761047.0</td>\n",
       "    </tr>\n",
       "    <tr>\n",
       "      <th>9</th>\n",
       "      <td>Oct</td>\n",
       "      <td>2008</td>\n",
       "      <td>4.0</td>\n",
       "      <td>397656.0</td>\n",
       "    </tr>\n",
       "    <tr>\n",
       "      <th>10</th>\n",
       "      <td>Nov</td>\n",
       "      <td>2008</td>\n",
       "      <td>5.0</td>\n",
       "      <td>1509349.0</td>\n",
       "    </tr>\n",
       "    <tr>\n",
       "      <th>11</th>\n",
       "      <td>Dec</td>\n",
       "      <td>2008</td>\n",
       "      <td>3.0</td>\n",
       "      <td>341118.0</td>\n",
       "    </tr>\n",
       "  </tbody>\n",
       "</table>\n",
       "</div>"
      ],
      "text/plain": [
       "   month  year  counts        loss\n",
       "0    Jan  2008     1.0      7157.0\n",
       "1    Feb  2008     0.0         0.0\n",
       "2    Mar  2008     1.0      3755.0\n",
       "3    Apr  2008     0.0         0.0\n",
       "4    May  2008     2.0   1035509.0\n",
       "5    Jun  2008     0.0         0.0\n",
       "6    Jul  2008     3.0  12839205.0\n",
       "7    Aug  2008     3.0    895774.0\n",
       "8    Sep  2008     3.0    761047.0\n",
       "9    Oct  2008     4.0    397656.0\n",
       "10   Nov  2008     5.0   1509349.0\n",
       "11   Dec  2008     3.0    341118.0"
      ]
     },
     "execution_count": 657,
     "metadata": {},
     "output_type": "execute_result"
    }
   ],
   "source": [
    "import calendar\n",
    "df_final['month'] = df_final['month'].apply(lambda x: calendar.month_abbr[x])\n",
    "df_final"
   ]
  },
  {
   "cell_type": "code",
   "execution_count": 658,
   "metadata": {},
   "outputs": [
    {
     "data": {
      "application/vnd.plotly.v1+json": {
       "config": {
        "plotlyServerURL": "https://plot.ly"
       },
       "data": [
        {
         "name": "Loss ",
         "type": "scatter",
         "x": [
          "Jan",
          "Feb",
          "Mar",
          "Apr",
          "May",
          "Jun",
          "Jul",
          "Aug",
          "Sep",
          "Oct",
          "Nov",
          "Dec"
         ],
         "xaxis": "x",
         "y": [
          7157,
          0,
          3755,
          0,
          1035509,
          0,
          12839205,
          895774,
          761047,
          397656,
          1509349,
          341118
         ],
         "yaxis": "y"
        },
        {
         "name": "Bank Failures",
         "type": "scatter",
         "x": [
          "Jan",
          "Feb",
          "Mar",
          "Apr",
          "May",
          "Jun",
          "Jul",
          "Aug",
          "Sep",
          "Oct",
          "Nov",
          "Dec"
         ],
         "xaxis": "x",
         "y": [
          1,
          0,
          1,
          0,
          2,
          0,
          3,
          3,
          3,
          4,
          5,
          3
         ],
         "yaxis": "y2"
        }
       ],
       "layout": {
        "template": {
         "data": {
          "bar": [
           {
            "error_x": {
             "color": "#2a3f5f"
            },
            "error_y": {
             "color": "#2a3f5f"
            },
            "marker": {
             "line": {
              "color": "#E5ECF6",
              "width": 0.5
             },
             "pattern": {
              "fillmode": "overlay",
              "size": 10,
              "solidity": 0.2
             }
            },
            "type": "bar"
           }
          ],
          "barpolar": [
           {
            "marker": {
             "line": {
              "color": "#E5ECF6",
              "width": 0.5
             },
             "pattern": {
              "fillmode": "overlay",
              "size": 10,
              "solidity": 0.2
             }
            },
            "type": "barpolar"
           }
          ],
          "carpet": [
           {
            "aaxis": {
             "endlinecolor": "#2a3f5f",
             "gridcolor": "white",
             "linecolor": "white",
             "minorgridcolor": "white",
             "startlinecolor": "#2a3f5f"
            },
            "baxis": {
             "endlinecolor": "#2a3f5f",
             "gridcolor": "white",
             "linecolor": "white",
             "minorgridcolor": "white",
             "startlinecolor": "#2a3f5f"
            },
            "type": "carpet"
           }
          ],
          "choropleth": [
           {
            "colorbar": {
             "outlinewidth": 0,
             "ticks": ""
            },
            "type": "choropleth"
           }
          ],
          "contour": [
           {
            "colorbar": {
             "outlinewidth": 0,
             "ticks": ""
            },
            "colorscale": [
             [
              0,
              "#0d0887"
             ],
             [
              0.1111111111111111,
              "#46039f"
             ],
             [
              0.2222222222222222,
              "#7201a8"
             ],
             [
              0.3333333333333333,
              "#9c179e"
             ],
             [
              0.4444444444444444,
              "#bd3786"
             ],
             [
              0.5555555555555556,
              "#d8576b"
             ],
             [
              0.6666666666666666,
              "#ed7953"
             ],
             [
              0.7777777777777778,
              "#fb9f3a"
             ],
             [
              0.8888888888888888,
              "#fdca26"
             ],
             [
              1,
              "#f0f921"
             ]
            ],
            "type": "contour"
           }
          ],
          "contourcarpet": [
           {
            "colorbar": {
             "outlinewidth": 0,
             "ticks": ""
            },
            "type": "contourcarpet"
           }
          ],
          "heatmap": [
           {
            "colorbar": {
             "outlinewidth": 0,
             "ticks": ""
            },
            "colorscale": [
             [
              0,
              "#0d0887"
             ],
             [
              0.1111111111111111,
              "#46039f"
             ],
             [
              0.2222222222222222,
              "#7201a8"
             ],
             [
              0.3333333333333333,
              "#9c179e"
             ],
             [
              0.4444444444444444,
              "#bd3786"
             ],
             [
              0.5555555555555556,
              "#d8576b"
             ],
             [
              0.6666666666666666,
              "#ed7953"
             ],
             [
              0.7777777777777778,
              "#fb9f3a"
             ],
             [
              0.8888888888888888,
              "#fdca26"
             ],
             [
              1,
              "#f0f921"
             ]
            ],
            "type": "heatmap"
           }
          ],
          "heatmapgl": [
           {
            "colorbar": {
             "outlinewidth": 0,
             "ticks": ""
            },
            "colorscale": [
             [
              0,
              "#0d0887"
             ],
             [
              0.1111111111111111,
              "#46039f"
             ],
             [
              0.2222222222222222,
              "#7201a8"
             ],
             [
              0.3333333333333333,
              "#9c179e"
             ],
             [
              0.4444444444444444,
              "#bd3786"
             ],
             [
              0.5555555555555556,
              "#d8576b"
             ],
             [
              0.6666666666666666,
              "#ed7953"
             ],
             [
              0.7777777777777778,
              "#fb9f3a"
             ],
             [
              0.8888888888888888,
              "#fdca26"
             ],
             [
              1,
              "#f0f921"
             ]
            ],
            "type": "heatmapgl"
           }
          ],
          "histogram": [
           {
            "marker": {
             "pattern": {
              "fillmode": "overlay",
              "size": 10,
              "solidity": 0.2
             }
            },
            "type": "histogram"
           }
          ],
          "histogram2d": [
           {
            "colorbar": {
             "outlinewidth": 0,
             "ticks": ""
            },
            "colorscale": [
             [
              0,
              "#0d0887"
             ],
             [
              0.1111111111111111,
              "#46039f"
             ],
             [
              0.2222222222222222,
              "#7201a8"
             ],
             [
              0.3333333333333333,
              "#9c179e"
             ],
             [
              0.4444444444444444,
              "#bd3786"
             ],
             [
              0.5555555555555556,
              "#d8576b"
             ],
             [
              0.6666666666666666,
              "#ed7953"
             ],
             [
              0.7777777777777778,
              "#fb9f3a"
             ],
             [
              0.8888888888888888,
              "#fdca26"
             ],
             [
              1,
              "#f0f921"
             ]
            ],
            "type": "histogram2d"
           }
          ],
          "histogram2dcontour": [
           {
            "colorbar": {
             "outlinewidth": 0,
             "ticks": ""
            },
            "colorscale": [
             [
              0,
              "#0d0887"
             ],
             [
              0.1111111111111111,
              "#46039f"
             ],
             [
              0.2222222222222222,
              "#7201a8"
             ],
             [
              0.3333333333333333,
              "#9c179e"
             ],
             [
              0.4444444444444444,
              "#bd3786"
             ],
             [
              0.5555555555555556,
              "#d8576b"
             ],
             [
              0.6666666666666666,
              "#ed7953"
             ],
             [
              0.7777777777777778,
              "#fb9f3a"
             ],
             [
              0.8888888888888888,
              "#fdca26"
             ],
             [
              1,
              "#f0f921"
             ]
            ],
            "type": "histogram2dcontour"
           }
          ],
          "mesh3d": [
           {
            "colorbar": {
             "outlinewidth": 0,
             "ticks": ""
            },
            "type": "mesh3d"
           }
          ],
          "parcoords": [
           {
            "line": {
             "colorbar": {
              "outlinewidth": 0,
              "ticks": ""
             }
            },
            "type": "parcoords"
           }
          ],
          "pie": [
           {
            "automargin": true,
            "type": "pie"
           }
          ],
          "scatter": [
           {
            "fillpattern": {
             "fillmode": "overlay",
             "size": 10,
             "solidity": 0.2
            },
            "type": "scatter"
           }
          ],
          "scatter3d": [
           {
            "line": {
             "colorbar": {
              "outlinewidth": 0,
              "ticks": ""
             }
            },
            "marker": {
             "colorbar": {
              "outlinewidth": 0,
              "ticks": ""
             }
            },
            "type": "scatter3d"
           }
          ],
          "scattercarpet": [
           {
            "marker": {
             "colorbar": {
              "outlinewidth": 0,
              "ticks": ""
             }
            },
            "type": "scattercarpet"
           }
          ],
          "scattergeo": [
           {
            "marker": {
             "colorbar": {
              "outlinewidth": 0,
              "ticks": ""
             }
            },
            "type": "scattergeo"
           }
          ],
          "scattergl": [
           {
            "marker": {
             "colorbar": {
              "outlinewidth": 0,
              "ticks": ""
             }
            },
            "type": "scattergl"
           }
          ],
          "scattermapbox": [
           {
            "marker": {
             "colorbar": {
              "outlinewidth": 0,
              "ticks": ""
             }
            },
            "type": "scattermapbox"
           }
          ],
          "scatterpolar": [
           {
            "marker": {
             "colorbar": {
              "outlinewidth": 0,
              "ticks": ""
             }
            },
            "type": "scatterpolar"
           }
          ],
          "scatterpolargl": [
           {
            "marker": {
             "colorbar": {
              "outlinewidth": 0,
              "ticks": ""
             }
            },
            "type": "scatterpolargl"
           }
          ],
          "scatterternary": [
           {
            "marker": {
             "colorbar": {
              "outlinewidth": 0,
              "ticks": ""
             }
            },
            "type": "scatterternary"
           }
          ],
          "surface": [
           {
            "colorbar": {
             "outlinewidth": 0,
             "ticks": ""
            },
            "colorscale": [
             [
              0,
              "#0d0887"
             ],
             [
              0.1111111111111111,
              "#46039f"
             ],
             [
              0.2222222222222222,
              "#7201a8"
             ],
             [
              0.3333333333333333,
              "#9c179e"
             ],
             [
              0.4444444444444444,
              "#bd3786"
             ],
             [
              0.5555555555555556,
              "#d8576b"
             ],
             [
              0.6666666666666666,
              "#ed7953"
             ],
             [
              0.7777777777777778,
              "#fb9f3a"
             ],
             [
              0.8888888888888888,
              "#fdca26"
             ],
             [
              1,
              "#f0f921"
             ]
            ],
            "type": "surface"
           }
          ],
          "table": [
           {
            "cells": {
             "fill": {
              "color": "#EBF0F8"
             },
             "line": {
              "color": "white"
             }
            },
            "header": {
             "fill": {
              "color": "#C8D4E3"
             },
             "line": {
              "color": "white"
             }
            },
            "type": "table"
           }
          ]
         },
         "layout": {
          "annotationdefaults": {
           "arrowcolor": "#2a3f5f",
           "arrowhead": 0,
           "arrowwidth": 1
          },
          "autotypenumbers": "strict",
          "coloraxis": {
           "colorbar": {
            "outlinewidth": 0,
            "ticks": ""
           }
          },
          "colorscale": {
           "diverging": [
            [
             0,
             "#8e0152"
            ],
            [
             0.1,
             "#c51b7d"
            ],
            [
             0.2,
             "#de77ae"
            ],
            [
             0.3,
             "#f1b6da"
            ],
            [
             0.4,
             "#fde0ef"
            ],
            [
             0.5,
             "#f7f7f7"
            ],
            [
             0.6,
             "#e6f5d0"
            ],
            [
             0.7,
             "#b8e186"
            ],
            [
             0.8,
             "#7fbc41"
            ],
            [
             0.9,
             "#4d9221"
            ],
            [
             1,
             "#276419"
            ]
           ],
           "sequential": [
            [
             0,
             "#0d0887"
            ],
            [
             0.1111111111111111,
             "#46039f"
            ],
            [
             0.2222222222222222,
             "#7201a8"
            ],
            [
             0.3333333333333333,
             "#9c179e"
            ],
            [
             0.4444444444444444,
             "#bd3786"
            ],
            [
             0.5555555555555556,
             "#d8576b"
            ],
            [
             0.6666666666666666,
             "#ed7953"
            ],
            [
             0.7777777777777778,
             "#fb9f3a"
            ],
            [
             0.8888888888888888,
             "#fdca26"
            ],
            [
             1,
             "#f0f921"
            ]
           ],
           "sequentialminus": [
            [
             0,
             "#0d0887"
            ],
            [
             0.1111111111111111,
             "#46039f"
            ],
            [
             0.2222222222222222,
             "#7201a8"
            ],
            [
             0.3333333333333333,
             "#9c179e"
            ],
            [
             0.4444444444444444,
             "#bd3786"
            ],
            [
             0.5555555555555556,
             "#d8576b"
            ],
            [
             0.6666666666666666,
             "#ed7953"
            ],
            [
             0.7777777777777778,
             "#fb9f3a"
            ],
            [
             0.8888888888888888,
             "#fdca26"
            ],
            [
             1,
             "#f0f921"
            ]
           ]
          },
          "colorway": [
           "#636efa",
           "#EF553B",
           "#00cc96",
           "#ab63fa",
           "#FFA15A",
           "#19d3f3",
           "#FF6692",
           "#B6E880",
           "#FF97FF",
           "#FECB52"
          ],
          "font": {
           "color": "#2a3f5f"
          },
          "geo": {
           "bgcolor": "white",
           "lakecolor": "white",
           "landcolor": "#E5ECF6",
           "showlakes": true,
           "showland": true,
           "subunitcolor": "white"
          },
          "hoverlabel": {
           "align": "left"
          },
          "hovermode": "closest",
          "mapbox": {
           "style": "light"
          },
          "paper_bgcolor": "white",
          "plot_bgcolor": "#E5ECF6",
          "polar": {
           "angularaxis": {
            "gridcolor": "white",
            "linecolor": "white",
            "ticks": ""
           },
           "bgcolor": "#E5ECF6",
           "radialaxis": {
            "gridcolor": "white",
            "linecolor": "white",
            "ticks": ""
           }
          },
          "scene": {
           "xaxis": {
            "backgroundcolor": "#E5ECF6",
            "gridcolor": "white",
            "gridwidth": 2,
            "linecolor": "white",
            "showbackground": true,
            "ticks": "",
            "zerolinecolor": "white"
           },
           "yaxis": {
            "backgroundcolor": "#E5ECF6",
            "gridcolor": "white",
            "gridwidth": 2,
            "linecolor": "white",
            "showbackground": true,
            "ticks": "",
            "zerolinecolor": "white"
           },
           "zaxis": {
            "backgroundcolor": "#E5ECF6",
            "gridcolor": "white",
            "gridwidth": 2,
            "linecolor": "white",
            "showbackground": true,
            "ticks": "",
            "zerolinecolor": "white"
           }
          },
          "shapedefaults": {
           "line": {
            "color": "#2a3f5f"
           }
          },
          "ternary": {
           "aaxis": {
            "gridcolor": "white",
            "linecolor": "white",
            "ticks": ""
           },
           "baxis": {
            "gridcolor": "white",
            "linecolor": "white",
            "ticks": ""
           },
           "bgcolor": "#E5ECF6",
           "caxis": {
            "gridcolor": "white",
            "linecolor": "white",
            "ticks": ""
           }
          },
          "title": {
           "x": 0.05
          },
          "xaxis": {
           "automargin": true,
           "gridcolor": "white",
           "linecolor": "white",
           "ticks": "",
           "title": {
            "standoff": 15
           },
           "zerolinecolor": "white",
           "zerolinewidth": 2
          },
          "yaxis": {
           "automargin": true,
           "gridcolor": "white",
           "linecolor": "white",
           "ticks": "",
           "title": {
            "standoff": 15
           },
           "zerolinecolor": "white",
           "zerolinewidth": 2
          }
         }
        },
        "title": {
         "text": "Loss and Bank Failures in 2008"
        },
        "xaxis": {
         "anchor": "y",
         "domain": [
          0,
          0.94
         ],
         "title": {
          "text": "Months "
         }
        },
        "yaxis": {
         "anchor": "x",
         "domain": [
          0,
          1
         ],
         "title": {
          "text": "<b>Total loss ($m)</b>"
         }
        },
        "yaxis2": {
         "anchor": "x",
         "overlaying": "y",
         "side": "right",
         "title": {
          "text": "<b>Number ofBanks Failed </b>"
         }
        }
       }
      }
     },
     "metadata": {},
     "output_type": "display_data"
    }
   ],
   "source": [
    "import plotly.graph_objects as go\n",
    "from plotly.subplots import make_subplots\n",
    "\n",
    "# Create figure with secondary y-axis\n",
    "fig = make_subplots(specs=[[{\"secondary_y\": True}]])\n",
    "\n",
    "# Add traces\n",
    "fig.add_trace(\n",
    "    go.Scatter(x = df_final['month'],y = df_final['loss'], name=\"Loss \"),\n",
    "    secondary_y=False,\n",
    ")\n",
    "\n",
    "fig.add_trace(\n",
    "    go.Scatter(x = df_final['month'],y =  df_final['counts'], name=\"Bank Failures\"),\n",
    "    secondary_y=True,\n",
    ")\n",
    "\n",
    "# Add figure title\n",
    "fig.update_layout(\n",
    "    title_text=\"Loss and Bank Failures in 2008\"\n",
    ")\n",
    "\n",
    "# Set x-axis title\n",
    "fig.update_xaxes(title_text=\"Months \")\n",
    "\n",
    "# Set y-axes titles\n",
    "fig.update_yaxes(title_text=\"<b>Total loss ($m)</b>\", secondary_y=False)\n",
    "fig.update_yaxes(title_text=\"<b>Number ofBanks Failed </b>\", secondary_y=True)\n",
    "\n",
    "fig.show()"
   ]
  },
  {
   "cell_type": "code",
   "execution_count": 659,
   "metadata": {},
   "outputs": [
    {
     "data": {
      "text/html": [
       "<div>\n",
       "<style scoped>\n",
       "    .dataframe tbody tr th:only-of-type {\n",
       "        vertical-align: middle;\n",
       "    }\n",
       "\n",
       "    .dataframe tbody tr th {\n",
       "        vertical-align: top;\n",
       "    }\n",
       "\n",
       "    .dataframe thead th {\n",
       "        text-align: right;\n",
       "    }\n",
       "</style>\n",
       "<table border=\"1\" class=\"dataframe\">\n",
       "  <thead>\n",
       "    <tr style=\"text-align: right;\">\n",
       "      <th></th>\n",
       "      <th>year</th>\n",
       "      <th>state</th>\n",
       "      <th>count</th>\n",
       "    </tr>\n",
       "  </thead>\n",
       "  <tbody>\n",
       "    <tr>\n",
       "      <th>0</th>\n",
       "      <td>2000</td>\n",
       "      <td>IL</td>\n",
       "      <td>1.0</td>\n",
       "    </tr>\n",
       "    <tr>\n",
       "      <th>1</th>\n",
       "      <td>2001</td>\n",
       "      <td>IL</td>\n",
       "      <td>1.0</td>\n",
       "    </tr>\n",
       "    <tr>\n",
       "      <th>2</th>\n",
       "      <td>2002</td>\n",
       "      <td>IL</td>\n",
       "      <td>1.0</td>\n",
       "    </tr>\n",
       "    <tr>\n",
       "      <th>3</th>\n",
       "      <td>2003</td>\n",
       "      <td>IL</td>\n",
       "      <td>0.0</td>\n",
       "    </tr>\n",
       "    <tr>\n",
       "      <th>4</th>\n",
       "      <td>2004</td>\n",
       "      <td>IL</td>\n",
       "      <td>0.0</td>\n",
       "    </tr>\n",
       "    <tr>\n",
       "      <th>5</th>\n",
       "      <td>2005</td>\n",
       "      <td>IL</td>\n",
       "      <td>0.0</td>\n",
       "    </tr>\n",
       "    <tr>\n",
       "      <th>6</th>\n",
       "      <td>2006</td>\n",
       "      <td>IL</td>\n",
       "      <td>0.0</td>\n",
       "    </tr>\n",
       "    <tr>\n",
       "      <th>7</th>\n",
       "      <td>2007</td>\n",
       "      <td>IL</td>\n",
       "      <td>0.0</td>\n",
       "    </tr>\n",
       "    <tr>\n",
       "      <th>8</th>\n",
       "      <td>2008</td>\n",
       "      <td>IL</td>\n",
       "      <td>1.0</td>\n",
       "    </tr>\n",
       "    <tr>\n",
       "      <th>9</th>\n",
       "      <td>2009</td>\n",
       "      <td>IL</td>\n",
       "      <td>21.0</td>\n",
       "    </tr>\n",
       "    <tr>\n",
       "      <th>10</th>\n",
       "      <td>2010</td>\n",
       "      <td>IL</td>\n",
       "      <td>16.0</td>\n",
       "    </tr>\n",
       "    <tr>\n",
       "      <th>11</th>\n",
       "      <td>2011</td>\n",
       "      <td>IL</td>\n",
       "      <td>9.0</td>\n",
       "    </tr>\n",
       "    <tr>\n",
       "      <th>12</th>\n",
       "      <td>2012</td>\n",
       "      <td>IL</td>\n",
       "      <td>8.0</td>\n",
       "    </tr>\n",
       "    <tr>\n",
       "      <th>13</th>\n",
       "      <td>2013</td>\n",
       "      <td>IL</td>\n",
       "      <td>1.0</td>\n",
       "    </tr>\n",
       "    <tr>\n",
       "      <th>14</th>\n",
       "      <td>2014</td>\n",
       "      <td>IL</td>\n",
       "      <td>5.0</td>\n",
       "    </tr>\n",
       "    <tr>\n",
       "      <th>15</th>\n",
       "      <td>2015</td>\n",
       "      <td>IL</td>\n",
       "      <td>2.0</td>\n",
       "    </tr>\n",
       "    <tr>\n",
       "      <th>16</th>\n",
       "      <td>2016</td>\n",
       "      <td>IL</td>\n",
       "      <td>0.0</td>\n",
       "    </tr>\n",
       "    <tr>\n",
       "      <th>17</th>\n",
       "      <td>2017</td>\n",
       "      <td>IL</td>\n",
       "      <td>3.0</td>\n",
       "    </tr>\n",
       "    <tr>\n",
       "      <th>18</th>\n",
       "      <td>2018</td>\n",
       "      <td>IL</td>\n",
       "      <td>0.0</td>\n",
       "    </tr>\n",
       "    <tr>\n",
       "      <th>19</th>\n",
       "      <td>2019</td>\n",
       "      <td>IL</td>\n",
       "      <td>0.0</td>\n",
       "    </tr>\n",
       "    <tr>\n",
       "      <th>20</th>\n",
       "      <td>2020</td>\n",
       "      <td>IL</td>\n",
       "      <td>0.0</td>\n",
       "    </tr>\n",
       "    <tr>\n",
       "      <th>21</th>\n",
       "      <td>2021</td>\n",
       "      <td>IL</td>\n",
       "      <td>0.0</td>\n",
       "    </tr>\n",
       "    <tr>\n",
       "      <th>22</th>\n",
       "      <td>2022</td>\n",
       "      <td>IL</td>\n",
       "      <td>0.0</td>\n",
       "    </tr>\n",
       "    <tr>\n",
       "      <th>23</th>\n",
       "      <td>2023</td>\n",
       "      <td>IL</td>\n",
       "      <td>0.0</td>\n",
       "    </tr>\n",
       "  </tbody>\n",
       "</table>\n",
       "</div>"
      ],
      "text/plain": [
       "    year state  count\n",
       "0   2000    IL    1.0\n",
       "1   2001    IL    1.0\n",
       "2   2002    IL    1.0\n",
       "3   2003    IL    0.0\n",
       "4   2004    IL    0.0\n",
       "5   2005    IL    0.0\n",
       "6   2006    IL    0.0\n",
       "7   2007    IL    0.0\n",
       "8   2008    IL    1.0\n",
       "9   2009    IL   21.0\n",
       "10  2010    IL   16.0\n",
       "11  2011    IL    9.0\n",
       "12  2012    IL    8.0\n",
       "13  2013    IL    1.0\n",
       "14  2014    IL    5.0\n",
       "15  2015    IL    2.0\n",
       "16  2016    IL    0.0\n",
       "17  2017    IL    3.0\n",
       "18  2018    IL    0.0\n",
       "19  2019    IL    0.0\n",
       "20  2020    IL    0.0\n",
       "21  2021    IL    0.0\n",
       "22  2022    IL    0.0\n",
       "23  2023    IL    0.0"
      ]
     },
     "execution_count": 659,
     "metadata": {},
     "output_type": "execute_result"
    }
   ],
   "source": [
    "df_st = df[df['state'] == 'IL']\n",
    "df_st = df_st.groupby(['year','state'])['year'].count().reset_index(name = 'count')\n",
    "df_st = df_st.set_index('year')\n",
    "df_st = df_st.reindex(np.arange(2000,2024)).fillna(0.0)\n",
    "df_st['state'] = 'IL'\n",
    "df_st = df_st.reset_index()\n",
    "df_st"
   ]
  },
  {
   "cell_type": "code",
   "execution_count": 660,
   "metadata": {},
   "outputs": [
    {
     "data": {
      "text/html": [
       "<div>\n",
       "<style scoped>\n",
       "    .dataframe tbody tr th:only-of-type {\n",
       "        vertical-align: middle;\n",
       "    }\n",
       "\n",
       "    .dataframe tbody tr th {\n",
       "        vertical-align: top;\n",
       "    }\n",
       "\n",
       "    .dataframe thead th {\n",
       "        text-align: right;\n",
       "    }\n",
       "</style>\n",
       "<table border=\"1\" class=\"dataframe\">\n",
       "  <thead>\n",
       "    <tr style=\"text-align: right;\">\n",
       "      <th></th>\n",
       "      <th>state</th>\n",
       "      <th>year</th>\n",
       "      <th>count</th>\n",
       "    </tr>\n",
       "  </thead>\n",
       "  <tbody>\n",
       "    <tr>\n",
       "      <th>0</th>\n",
       "      <td>AL</td>\n",
       "      <td>2009</td>\n",
       "      <td>3</td>\n",
       "    </tr>\n",
       "    <tr>\n",
       "      <th>1</th>\n",
       "      <td>AL</td>\n",
       "      <td>2010</td>\n",
       "      <td>1</td>\n",
       "    </tr>\n",
       "    <tr>\n",
       "      <th>2</th>\n",
       "      <td>AL</td>\n",
       "      <td>2011</td>\n",
       "      <td>2</td>\n",
       "    </tr>\n",
       "    <tr>\n",
       "      <th>3</th>\n",
       "      <td>AL</td>\n",
       "      <td>2012</td>\n",
       "      <td>1</td>\n",
       "    </tr>\n",
       "    <tr>\n",
       "      <th>4</th>\n",
       "      <td>AR</td>\n",
       "      <td>2001</td>\n",
       "      <td>1</td>\n",
       "    </tr>\n",
       "    <tr>\n",
       "      <th>...</th>\n",
       "      <td>...</td>\n",
       "      <td>...</td>\n",
       "      <td>...</td>\n",
       "    </tr>\n",
       "    <tr>\n",
       "      <th>193</th>\n",
       "      <td>WI</td>\n",
       "      <td>2016</td>\n",
       "      <td>1</td>\n",
       "    </tr>\n",
       "    <tr>\n",
       "      <th>194</th>\n",
       "      <td>WI</td>\n",
       "      <td>2017</td>\n",
       "      <td>1</td>\n",
       "    </tr>\n",
       "    <tr>\n",
       "      <th>195</th>\n",
       "      <td>WV</td>\n",
       "      <td>2008</td>\n",
       "      <td>1</td>\n",
       "    </tr>\n",
       "    <tr>\n",
       "      <th>196</th>\n",
       "      <td>WV</td>\n",
       "      <td>2020</td>\n",
       "      <td>1</td>\n",
       "    </tr>\n",
       "    <tr>\n",
       "      <th>197</th>\n",
       "      <td>WY</td>\n",
       "      <td>2009</td>\n",
       "      <td>1</td>\n",
       "    </tr>\n",
       "  </tbody>\n",
       "</table>\n",
       "<p>198 rows × 3 columns</p>\n",
       "</div>"
      ],
      "text/plain": [
       "    state  year  count\n",
       "0      AL  2009      3\n",
       "1      AL  2010      1\n",
       "2      AL  2011      2\n",
       "3      AL  2012      1\n",
       "4      AR  2001      1\n",
       "..    ...   ...    ...\n",
       "193    WI  2016      1\n",
       "194    WI  2017      1\n",
       "195    WV  2008      1\n",
       "196    WV  2020      1\n",
       "197    WY  2009      1\n",
       "\n",
       "[198 rows x 3 columns]"
      ]
     },
     "execution_count": 660,
     "metadata": {},
     "output_type": "execute_result"
    }
   ],
   "source": [
    "df_test = df.groupby(['state','year'])['year'].count().reset_index(name='count')\n",
    "df_test"
   ]
  },
  {
   "cell_type": "code",
   "execution_count": 663,
   "metadata": {},
   "outputs": [
    {
     "data": {
      "application/vnd.plotly.v1+json": {
       "config": {
        "plotlyServerURL": "https://plot.ly"
       },
       "data": [
        {
         "hovertemplate": "year=%{x}<br>count=%{y}<extra></extra>",
         "legendgroup": "",
         "line": {
          "color": "#636efa",
          "dash": "solid"
         },
         "marker": {
          "symbol": "circle"
         },
         "mode": "lines",
         "name": "",
         "orientation": "v",
         "showlegend": false,
         "type": "scatter",
         "x": [
          2000,
          2001,
          2002,
          2003,
          2004,
          2005,
          2006,
          2007,
          2008,
          2009,
          2010,
          2011,
          2012,
          2013,
          2014,
          2015,
          2016,
          2017,
          2018,
          2019,
          2020,
          2021,
          2022,
          2023
         ],
         "xaxis": "x",
         "y": [
          1,
          1,
          1,
          0,
          0,
          0,
          0,
          0,
          1,
          21,
          16,
          9,
          8,
          1,
          5,
          2,
          0,
          3,
          0,
          0,
          0,
          0,
          0,
          0
         ],
         "yaxis": "y"
        }
       ],
       "layout": {
        "legend": {
         "tracegroupgap": 0
        },
        "template": {
         "data": {
          "bar": [
           {
            "error_x": {
             "color": "#2a3f5f"
            },
            "error_y": {
             "color": "#2a3f5f"
            },
            "marker": {
             "line": {
              "color": "#E5ECF6",
              "width": 0.5
             },
             "pattern": {
              "fillmode": "overlay",
              "size": 10,
              "solidity": 0.2
             }
            },
            "type": "bar"
           }
          ],
          "barpolar": [
           {
            "marker": {
             "line": {
              "color": "#E5ECF6",
              "width": 0.5
             },
             "pattern": {
              "fillmode": "overlay",
              "size": 10,
              "solidity": 0.2
             }
            },
            "type": "barpolar"
           }
          ],
          "carpet": [
           {
            "aaxis": {
             "endlinecolor": "#2a3f5f",
             "gridcolor": "white",
             "linecolor": "white",
             "minorgridcolor": "white",
             "startlinecolor": "#2a3f5f"
            },
            "baxis": {
             "endlinecolor": "#2a3f5f",
             "gridcolor": "white",
             "linecolor": "white",
             "minorgridcolor": "white",
             "startlinecolor": "#2a3f5f"
            },
            "type": "carpet"
           }
          ],
          "choropleth": [
           {
            "colorbar": {
             "outlinewidth": 0,
             "ticks": ""
            },
            "type": "choropleth"
           }
          ],
          "contour": [
           {
            "colorbar": {
             "outlinewidth": 0,
             "ticks": ""
            },
            "colorscale": [
             [
              0,
              "#0d0887"
             ],
             [
              0.1111111111111111,
              "#46039f"
             ],
             [
              0.2222222222222222,
              "#7201a8"
             ],
             [
              0.3333333333333333,
              "#9c179e"
             ],
             [
              0.4444444444444444,
              "#bd3786"
             ],
             [
              0.5555555555555556,
              "#d8576b"
             ],
             [
              0.6666666666666666,
              "#ed7953"
             ],
             [
              0.7777777777777778,
              "#fb9f3a"
             ],
             [
              0.8888888888888888,
              "#fdca26"
             ],
             [
              1,
              "#f0f921"
             ]
            ],
            "type": "contour"
           }
          ],
          "contourcarpet": [
           {
            "colorbar": {
             "outlinewidth": 0,
             "ticks": ""
            },
            "type": "contourcarpet"
           }
          ],
          "heatmap": [
           {
            "colorbar": {
             "outlinewidth": 0,
             "ticks": ""
            },
            "colorscale": [
             [
              0,
              "#0d0887"
             ],
             [
              0.1111111111111111,
              "#46039f"
             ],
             [
              0.2222222222222222,
              "#7201a8"
             ],
             [
              0.3333333333333333,
              "#9c179e"
             ],
             [
              0.4444444444444444,
              "#bd3786"
             ],
             [
              0.5555555555555556,
              "#d8576b"
             ],
             [
              0.6666666666666666,
              "#ed7953"
             ],
             [
              0.7777777777777778,
              "#fb9f3a"
             ],
             [
              0.8888888888888888,
              "#fdca26"
             ],
             [
              1,
              "#f0f921"
             ]
            ],
            "type": "heatmap"
           }
          ],
          "heatmapgl": [
           {
            "colorbar": {
             "outlinewidth": 0,
             "ticks": ""
            },
            "colorscale": [
             [
              0,
              "#0d0887"
             ],
             [
              0.1111111111111111,
              "#46039f"
             ],
             [
              0.2222222222222222,
              "#7201a8"
             ],
             [
              0.3333333333333333,
              "#9c179e"
             ],
             [
              0.4444444444444444,
              "#bd3786"
             ],
             [
              0.5555555555555556,
              "#d8576b"
             ],
             [
              0.6666666666666666,
              "#ed7953"
             ],
             [
              0.7777777777777778,
              "#fb9f3a"
             ],
             [
              0.8888888888888888,
              "#fdca26"
             ],
             [
              1,
              "#f0f921"
             ]
            ],
            "type": "heatmapgl"
           }
          ],
          "histogram": [
           {
            "marker": {
             "pattern": {
              "fillmode": "overlay",
              "size": 10,
              "solidity": 0.2
             }
            },
            "type": "histogram"
           }
          ],
          "histogram2d": [
           {
            "colorbar": {
             "outlinewidth": 0,
             "ticks": ""
            },
            "colorscale": [
             [
              0,
              "#0d0887"
             ],
             [
              0.1111111111111111,
              "#46039f"
             ],
             [
              0.2222222222222222,
              "#7201a8"
             ],
             [
              0.3333333333333333,
              "#9c179e"
             ],
             [
              0.4444444444444444,
              "#bd3786"
             ],
             [
              0.5555555555555556,
              "#d8576b"
             ],
             [
              0.6666666666666666,
              "#ed7953"
             ],
             [
              0.7777777777777778,
              "#fb9f3a"
             ],
             [
              0.8888888888888888,
              "#fdca26"
             ],
             [
              1,
              "#f0f921"
             ]
            ],
            "type": "histogram2d"
           }
          ],
          "histogram2dcontour": [
           {
            "colorbar": {
             "outlinewidth": 0,
             "ticks": ""
            },
            "colorscale": [
             [
              0,
              "#0d0887"
             ],
             [
              0.1111111111111111,
              "#46039f"
             ],
             [
              0.2222222222222222,
              "#7201a8"
             ],
             [
              0.3333333333333333,
              "#9c179e"
             ],
             [
              0.4444444444444444,
              "#bd3786"
             ],
             [
              0.5555555555555556,
              "#d8576b"
             ],
             [
              0.6666666666666666,
              "#ed7953"
             ],
             [
              0.7777777777777778,
              "#fb9f3a"
             ],
             [
              0.8888888888888888,
              "#fdca26"
             ],
             [
              1,
              "#f0f921"
             ]
            ],
            "type": "histogram2dcontour"
           }
          ],
          "mesh3d": [
           {
            "colorbar": {
             "outlinewidth": 0,
             "ticks": ""
            },
            "type": "mesh3d"
           }
          ],
          "parcoords": [
           {
            "line": {
             "colorbar": {
              "outlinewidth": 0,
              "ticks": ""
             }
            },
            "type": "parcoords"
           }
          ],
          "pie": [
           {
            "automargin": true,
            "type": "pie"
           }
          ],
          "scatter": [
           {
            "fillpattern": {
             "fillmode": "overlay",
             "size": 10,
             "solidity": 0.2
            },
            "type": "scatter"
           }
          ],
          "scatter3d": [
           {
            "line": {
             "colorbar": {
              "outlinewidth": 0,
              "ticks": ""
             }
            },
            "marker": {
             "colorbar": {
              "outlinewidth": 0,
              "ticks": ""
             }
            },
            "type": "scatter3d"
           }
          ],
          "scattercarpet": [
           {
            "marker": {
             "colorbar": {
              "outlinewidth": 0,
              "ticks": ""
             }
            },
            "type": "scattercarpet"
           }
          ],
          "scattergeo": [
           {
            "marker": {
             "colorbar": {
              "outlinewidth": 0,
              "ticks": ""
             }
            },
            "type": "scattergeo"
           }
          ],
          "scattergl": [
           {
            "marker": {
             "colorbar": {
              "outlinewidth": 0,
              "ticks": ""
             }
            },
            "type": "scattergl"
           }
          ],
          "scattermapbox": [
           {
            "marker": {
             "colorbar": {
              "outlinewidth": 0,
              "ticks": ""
             }
            },
            "type": "scattermapbox"
           }
          ],
          "scatterpolar": [
           {
            "marker": {
             "colorbar": {
              "outlinewidth": 0,
              "ticks": ""
             }
            },
            "type": "scatterpolar"
           }
          ],
          "scatterpolargl": [
           {
            "marker": {
             "colorbar": {
              "outlinewidth": 0,
              "ticks": ""
             }
            },
            "type": "scatterpolargl"
           }
          ],
          "scatterternary": [
           {
            "marker": {
             "colorbar": {
              "outlinewidth": 0,
              "ticks": ""
             }
            },
            "type": "scatterternary"
           }
          ],
          "surface": [
           {
            "colorbar": {
             "outlinewidth": 0,
             "ticks": ""
            },
            "colorscale": [
             [
              0,
              "#0d0887"
             ],
             [
              0.1111111111111111,
              "#46039f"
             ],
             [
              0.2222222222222222,
              "#7201a8"
             ],
             [
              0.3333333333333333,
              "#9c179e"
             ],
             [
              0.4444444444444444,
              "#bd3786"
             ],
             [
              0.5555555555555556,
              "#d8576b"
             ],
             [
              0.6666666666666666,
              "#ed7953"
             ],
             [
              0.7777777777777778,
              "#fb9f3a"
             ],
             [
              0.8888888888888888,
              "#fdca26"
             ],
             [
              1,
              "#f0f921"
             ]
            ],
            "type": "surface"
           }
          ],
          "table": [
           {
            "cells": {
             "fill": {
              "color": "#EBF0F8"
             },
             "line": {
              "color": "white"
             }
            },
            "header": {
             "fill": {
              "color": "#C8D4E3"
             },
             "line": {
              "color": "white"
             }
            },
            "type": "table"
           }
          ]
         },
         "layout": {
          "annotationdefaults": {
           "arrowcolor": "#2a3f5f",
           "arrowhead": 0,
           "arrowwidth": 1
          },
          "autotypenumbers": "strict",
          "coloraxis": {
           "colorbar": {
            "outlinewidth": 0,
            "ticks": ""
           }
          },
          "colorscale": {
           "diverging": [
            [
             0,
             "#8e0152"
            ],
            [
             0.1,
             "#c51b7d"
            ],
            [
             0.2,
             "#de77ae"
            ],
            [
             0.3,
             "#f1b6da"
            ],
            [
             0.4,
             "#fde0ef"
            ],
            [
             0.5,
             "#f7f7f7"
            ],
            [
             0.6,
             "#e6f5d0"
            ],
            [
             0.7,
             "#b8e186"
            ],
            [
             0.8,
             "#7fbc41"
            ],
            [
             0.9,
             "#4d9221"
            ],
            [
             1,
             "#276419"
            ]
           ],
           "sequential": [
            [
             0,
             "#0d0887"
            ],
            [
             0.1111111111111111,
             "#46039f"
            ],
            [
             0.2222222222222222,
             "#7201a8"
            ],
            [
             0.3333333333333333,
             "#9c179e"
            ],
            [
             0.4444444444444444,
             "#bd3786"
            ],
            [
             0.5555555555555556,
             "#d8576b"
            ],
            [
             0.6666666666666666,
             "#ed7953"
            ],
            [
             0.7777777777777778,
             "#fb9f3a"
            ],
            [
             0.8888888888888888,
             "#fdca26"
            ],
            [
             1,
             "#f0f921"
            ]
           ],
           "sequentialminus": [
            [
             0,
             "#0d0887"
            ],
            [
             0.1111111111111111,
             "#46039f"
            ],
            [
             0.2222222222222222,
             "#7201a8"
            ],
            [
             0.3333333333333333,
             "#9c179e"
            ],
            [
             0.4444444444444444,
             "#bd3786"
            ],
            [
             0.5555555555555556,
             "#d8576b"
            ],
            [
             0.6666666666666666,
             "#ed7953"
            ],
            [
             0.7777777777777778,
             "#fb9f3a"
            ],
            [
             0.8888888888888888,
             "#fdca26"
            ],
            [
             1,
             "#f0f921"
            ]
           ]
          },
          "colorway": [
           "#636efa",
           "#EF553B",
           "#00cc96",
           "#ab63fa",
           "#FFA15A",
           "#19d3f3",
           "#FF6692",
           "#B6E880",
           "#FF97FF",
           "#FECB52"
          ],
          "font": {
           "color": "#2a3f5f"
          },
          "geo": {
           "bgcolor": "white",
           "lakecolor": "white",
           "landcolor": "#E5ECF6",
           "showlakes": true,
           "showland": true,
           "subunitcolor": "white"
          },
          "hoverlabel": {
           "align": "left"
          },
          "hovermode": "closest",
          "mapbox": {
           "style": "light"
          },
          "paper_bgcolor": "white",
          "plot_bgcolor": "#E5ECF6",
          "polar": {
           "angularaxis": {
            "gridcolor": "white",
            "linecolor": "white",
            "ticks": ""
           },
           "bgcolor": "#E5ECF6",
           "radialaxis": {
            "gridcolor": "white",
            "linecolor": "white",
            "ticks": ""
           }
          },
          "scene": {
           "xaxis": {
            "backgroundcolor": "#E5ECF6",
            "gridcolor": "white",
            "gridwidth": 2,
            "linecolor": "white",
            "showbackground": true,
            "ticks": "",
            "zerolinecolor": "white"
           },
           "yaxis": {
            "backgroundcolor": "#E5ECF6",
            "gridcolor": "white",
            "gridwidth": 2,
            "linecolor": "white",
            "showbackground": true,
            "ticks": "",
            "zerolinecolor": "white"
           },
           "zaxis": {
            "backgroundcolor": "#E5ECF6",
            "gridcolor": "white",
            "gridwidth": 2,
            "linecolor": "white",
            "showbackground": true,
            "ticks": "",
            "zerolinecolor": "white"
           }
          },
          "shapedefaults": {
           "line": {
            "color": "#2a3f5f"
           }
          },
          "ternary": {
           "aaxis": {
            "gridcolor": "white",
            "linecolor": "white",
            "ticks": ""
           },
           "baxis": {
            "gridcolor": "white",
            "linecolor": "white",
            "ticks": ""
           },
           "bgcolor": "#E5ECF6",
           "caxis": {
            "gridcolor": "white",
            "linecolor": "white",
            "ticks": ""
           }
          },
          "title": {
           "x": 0.05
          },
          "xaxis": {
           "automargin": true,
           "gridcolor": "white",
           "linecolor": "white",
           "ticks": "",
           "title": {
            "standoff": 15
           },
           "zerolinecolor": "white",
           "zerolinewidth": 2
          },
          "yaxis": {
           "automargin": true,
           "gridcolor": "white",
           "linecolor": "white",
           "ticks": "",
           "title": {
            "standoff": 15
           },
           "zerolinecolor": "white",
           "zerolinewidth": 2
          }
         }
        },
        "title": {
         "text": "Banks failed in the state of CA"
        },
        "xaxis": {
         "anchor": "y",
         "domain": [
          0,
          1
         ],
         "range": [
          "2000-01-01",
          "2023-01-01"
         ],
         "title": {
          "text": "year"
         }
        },
        "yaxis": {
         "anchor": "x",
         "domain": [
          0,
          1
         ],
         "title": {
          "text": "count"
         }
        }
       }
      }
     },
     "metadata": {},
     "output_type": "display_data"
    }
   ],
   "source": [
    "import plotly.express as px\n",
    "fig = px.line(df_st, x=\"year\", y=\"count\", title='Banks failed in the state of {}'.format('CA'), range_x=['2000-01-01','2023-01-01'])\n",
    "fig.show()"
   ]
  }
 ],
 "metadata": {
  "kernelspec": {
   "display_name": "Python 3",
   "language": "python",
   "name": "python3"
  },
  "language_info": {
   "codemirror_mode": {
    "name": "ipython",
    "version": 3
   },
   "file_extension": ".py",
   "mimetype": "text/x-python",
   "name": "python",
   "nbconvert_exporter": "python",
   "pygments_lexer": "ipython3",
   "version": "3.11.1"
  },
  "orig_nbformat": 4
 },
 "nbformat": 4,
 "nbformat_minor": 2
}
