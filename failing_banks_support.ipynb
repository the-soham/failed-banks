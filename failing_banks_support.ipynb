{
 "cells": [
  {
   "attachments": {},
   "cell_type": "markdown",
   "metadata": {},
   "source": [
    "import pandas as pd "
   ]
  },
  {
   "cell_type": "code",
   "execution_count": 100,
   "metadata": {},
   "outputs": [],
   "source": [
    "import pandas as pd\n",
    "import numpy as np"
   ]
  },
  {
   "cell_type": "code",
   "execution_count": 101,
   "metadata": {},
   "outputs": [
    {
     "data": {
      "text/html": [
       "<div>\n",
       "<style scoped>\n",
       "    .dataframe tbody tr th:only-of-type {\n",
       "        vertical-align: middle;\n",
       "    }\n",
       "\n",
       "    .dataframe tbody tr th {\n",
       "        vertical-align: top;\n",
       "    }\n",
       "\n",
       "    .dataframe thead th {\n",
       "        text-align: right;\n",
       "    }\n",
       "</style>\n",
       "<table border=\"1\" class=\"dataframe\">\n",
       "  <thead>\n",
       "    <tr style=\"text-align: right;\">\n",
       "      <th></th>\n",
       "      <th>cert</th>\n",
       "      <th>chclass1</th>\n",
       "      <th>cityst</th>\n",
       "      <th>cost</th>\n",
       "      <th>faildate</th>\n",
       "      <th>fin</th>\n",
       "      <th>id</th>\n",
       "      <th>name</th>\n",
       "      <th>qbfasset</th>\n",
       "      <th>qbfdep</th>\n",
       "      <th>restype</th>\n",
       "      <th>restype1</th>\n",
       "      <th>savr</th>\n",
       "    </tr>\n",
       "  </thead>\n",
       "  <tbody>\n",
       "    <tr>\n",
       "      <th>0</th>\n",
       "      <td>59017</td>\n",
       "      <td>NM</td>\n",
       "      <td>SAN FRANCISCO, CA</td>\n",
       "      <td>NaN</td>\n",
       "      <td>5/1/2023</td>\n",
       "      <td>10543</td>\n",
       "      <td>4107</td>\n",
       "      <td>FIRST REPUBLIC BANK</td>\n",
       "      <td>212638872</td>\n",
       "      <td>176436706</td>\n",
       "      <td>FAILURE</td>\n",
       "      <td>PA</td>\n",
       "      <td>DIF</td>\n",
       "    </tr>\n",
       "    <tr>\n",
       "      <th>1</th>\n",
       "      <td>57053</td>\n",
       "      <td>NM</td>\n",
       "      <td>NEW YORK, NY</td>\n",
       "      <td>2400000.0</td>\n",
       "      <td>3/12/2023</td>\n",
       "      <td>10540</td>\n",
       "      <td>4106</td>\n",
       "      <td>SIGNATURE BANK</td>\n",
       "      <td>110363650</td>\n",
       "      <td>88612911</td>\n",
       "      <td>FAILURE</td>\n",
       "      <td>PA</td>\n",
       "      <td>DIF</td>\n",
       "    </tr>\n",
       "    <tr>\n",
       "      <th>2</th>\n",
       "      <td>24735</td>\n",
       "      <td>SM</td>\n",
       "      <td>SANTA CLARA, CA</td>\n",
       "      <td>16100000.0</td>\n",
       "      <td>3/7/2023</td>\n",
       "      <td>10539</td>\n",
       "      <td>4105</td>\n",
       "      <td>SILICON VALLEY BANK</td>\n",
       "      <td>209026000</td>\n",
       "      <td>175378000</td>\n",
       "      <td>FAILURE</td>\n",
       "      <td>PA</td>\n",
       "      <td>DIF</td>\n",
       "    </tr>\n",
       "    <tr>\n",
       "      <th>3</th>\n",
       "      <td>15426</td>\n",
       "      <td>NM</td>\n",
       "      <td>ALMENA, KS</td>\n",
       "      <td>16330.0</td>\n",
       "      <td>10/23/2020</td>\n",
       "      <td>10538</td>\n",
       "      <td>4104</td>\n",
       "      <td>ALMENA STATE BANK</td>\n",
       "      <td>65733</td>\n",
       "      <td>64941</td>\n",
       "      <td>FAILURE</td>\n",
       "      <td>PA</td>\n",
       "      <td>DIF</td>\n",
       "    </tr>\n",
       "    <tr>\n",
       "      <th>4</th>\n",
       "      <td>16748</td>\n",
       "      <td>NM</td>\n",
       "      <td>FORT WALTON BEACH, FL</td>\n",
       "      <td>7247.0</td>\n",
       "      <td>10/16/2020</td>\n",
       "      <td>10537</td>\n",
       "      <td>4103</td>\n",
       "      <td>FIRST CITY BANK OF FLORIDA</td>\n",
       "      <td>136566</td>\n",
       "      <td>133936</td>\n",
       "      <td>FAILURE</td>\n",
       "      <td>PA</td>\n",
       "      <td>DIF</td>\n",
       "    </tr>\n",
       "    <tr>\n",
       "      <th>...</th>\n",
       "      <td>...</td>\n",
       "      <td>...</td>\n",
       "      <td>...</td>\n",
       "      <td>...</td>\n",
       "      <td>...</td>\n",
       "      <td>...</td>\n",
       "      <td>...</td>\n",
       "      <td>...</td>\n",
       "      <td>...</td>\n",
       "      <td>...</td>\n",
       "      <td>...</td>\n",
       "      <td>...</td>\n",
       "      <td>...</td>\n",
       "    </tr>\n",
       "    <tr>\n",
       "      <th>579</th>\n",
       "      <td>338</td>\n",
       "      <td>NM</td>\n",
       "      <td>FALKNER, MS</td>\n",
       "      <td>14592.0</td>\n",
       "      <td>9/29/2000</td>\n",
       "      <td>4644</td>\n",
       "      <td>3528</td>\n",
       "      <td>BANK OF FALKNER</td>\n",
       "      <td>85485</td>\n",
       "      <td>77140</td>\n",
       "      <td>FAILURE</td>\n",
       "      <td>PI</td>\n",
       "      <td>BIF</td>\n",
       "    </tr>\n",
       "    <tr>\n",
       "      <th>580</th>\n",
       "      <td>10985</td>\n",
       "      <td>NM</td>\n",
       "      <td>ALMELUND, MN</td>\n",
       "      <td>1363.0</td>\n",
       "      <td>7/14/2000</td>\n",
       "      <td>4643</td>\n",
       "      <td>3527</td>\n",
       "      <td>TOWN &amp; COUNTRY BANK OF ALMELUND</td>\n",
       "      <td>25942</td>\n",
       "      <td>26667</td>\n",
       "      <td>FAILURE</td>\n",
       "      <td>PI</td>\n",
       "      <td>BIF</td>\n",
       "    </tr>\n",
       "    <tr>\n",
       "      <th>581</th>\n",
       "      <td>25056</td>\n",
       "      <td>N</td>\n",
       "      <td>RIDGECREST, CA</td>\n",
       "      <td>617.0</td>\n",
       "      <td>6/2/2000</td>\n",
       "      <td>4642</td>\n",
       "      <td>3526</td>\n",
       "      <td>MONUMENT NATIONAL BANK</td>\n",
       "      <td>7923</td>\n",
       "      <td>7680</td>\n",
       "      <td>FAILURE</td>\n",
       "      <td>PA</td>\n",
       "      <td>BIF</td>\n",
       "    </tr>\n",
       "    <tr>\n",
       "      <th>582</th>\n",
       "      <td>27886</td>\n",
       "      <td>SB</td>\n",
       "      <td>ATLANTA, GA</td>\n",
       "      <td>1322.0</td>\n",
       "      <td>3/10/2000</td>\n",
       "      <td>6003</td>\n",
       "      <td>3525</td>\n",
       "      <td>MUTUAL FEDERAL SAVINGS BANK OF ATLANTA</td>\n",
       "      <td>31479</td>\n",
       "      <td>32234</td>\n",
       "      <td>FAILURE</td>\n",
       "      <td>PA</td>\n",
       "      <td>SAIF</td>\n",
       "    </tr>\n",
       "    <tr>\n",
       "      <th>583</th>\n",
       "      <td>14228</td>\n",
       "      <td>NM</td>\n",
       "      <td>CARLISLE, IA</td>\n",
       "      <td>11574.0</td>\n",
       "      <td>1/14/2000</td>\n",
       "      <td>4641</td>\n",
       "      <td>3524</td>\n",
       "      <td>HARTFORD-CARLISLE SB</td>\n",
       "      <td>105044</td>\n",
       "      <td>68549</td>\n",
       "      <td>FAILURE</td>\n",
       "      <td>PI</td>\n",
       "      <td>BIF</td>\n",
       "    </tr>\n",
       "  </tbody>\n",
       "</table>\n",
       "<p>584 rows × 13 columns</p>\n",
       "</div>"
      ],
      "text/plain": [
       "      cert chclass1                 cityst        cost    faildate    fin  \\\n",
       "0    59017       NM      SAN FRANCISCO, CA         NaN    5/1/2023  10543   \n",
       "1    57053       NM           NEW YORK, NY   2400000.0   3/12/2023  10540   \n",
       "2    24735       SM        SANTA CLARA, CA  16100000.0    3/7/2023  10539   \n",
       "3    15426       NM             ALMENA, KS     16330.0  10/23/2020  10538   \n",
       "4    16748       NM  FORT WALTON BEACH, FL      7247.0  10/16/2020  10537   \n",
       "..     ...      ...                    ...         ...         ...    ...   \n",
       "579    338       NM            FALKNER, MS     14592.0   9/29/2000   4644   \n",
       "580  10985       NM           ALMELUND, MN      1363.0   7/14/2000   4643   \n",
       "581  25056        N         RIDGECREST, CA       617.0    6/2/2000   4642   \n",
       "582  27886       SB            ATLANTA, GA      1322.0   3/10/2000   6003   \n",
       "583  14228       NM           CARLISLE, IA     11574.0   1/14/2000   4641   \n",
       "\n",
       "       id                                    name   qbfasset     qbfdep  \\\n",
       "0    4107                     FIRST REPUBLIC BANK  212638872  176436706   \n",
       "1    4106                          SIGNATURE BANK  110363650   88612911   \n",
       "2    4105                     SILICON VALLEY BANK  209026000  175378000   \n",
       "3    4104                       ALMENA STATE BANK      65733      64941   \n",
       "4    4103              FIRST CITY BANK OF FLORIDA     136566     133936   \n",
       "..    ...                                     ...        ...        ...   \n",
       "579  3528                         BANK OF FALKNER      85485      77140   \n",
       "580  3527         TOWN & COUNTRY BANK OF ALMELUND      25942      26667   \n",
       "581  3526                  MONUMENT NATIONAL BANK       7923       7680   \n",
       "582  3525  MUTUAL FEDERAL SAVINGS BANK OF ATLANTA      31479      32234   \n",
       "583  3524                    HARTFORD-CARLISLE SB     105044      68549   \n",
       "\n",
       "     restype restype1  savr  \n",
       "0    FAILURE       PA   DIF  \n",
       "1    FAILURE       PA   DIF  \n",
       "2    FAILURE       PA   DIF  \n",
       "3    FAILURE       PA   DIF  \n",
       "4    FAILURE       PA   DIF  \n",
       "..       ...      ...   ...  \n",
       "579  FAILURE       PI   BIF  \n",
       "580  FAILURE       PI   BIF  \n",
       "581  FAILURE       PA   BIF  \n",
       "582  FAILURE       PA  SAIF  \n",
       "583  FAILURE       PI   BIF  \n",
       "\n",
       "[584 rows x 13 columns]"
      ]
     },
     "execution_count": 101,
     "metadata": {},
     "output_type": "execute_result"
    }
   ],
   "source": [
    "df1 = pd.read_csv('bank-data.csv')\n",
    "df2 = pd.read_csv('banklist.csv',encoding='windows-1252')\n",
    "df1.columns = df1.columns.str.lower()\n",
    "df2.columns = df2.columns.str.lower()\n",
    "df2.columns = df2.columns.str.rstrip()\n",
    "df1"
   ]
  },
  {
   "cell_type": "code",
   "execution_count": 102,
   "metadata": {},
   "outputs": [
    {
     "data": {
      "text/html": [
       "<div>\n",
       "<style scoped>\n",
       "    .dataframe tbody tr th:only-of-type {\n",
       "        vertical-align: middle;\n",
       "    }\n",
       "\n",
       "    .dataframe tbody tr th {\n",
       "        vertical-align: top;\n",
       "    }\n",
       "\n",
       "    .dataframe thead th {\n",
       "        text-align: right;\n",
       "    }\n",
       "</style>\n",
       "<table border=\"1\" class=\"dataframe\">\n",
       "  <thead>\n",
       "    <tr style=\"text-align: right;\">\n",
       "      <th></th>\n",
       "      <th>cert</th>\n",
       "      <th>chclass1</th>\n",
       "      <th>cityst</th>\n",
       "      <th>cost</th>\n",
       "      <th>faildate</th>\n",
       "      <th>fin</th>\n",
       "      <th>id</th>\n",
       "      <th>name</th>\n",
       "      <th>qbfasset</th>\n",
       "      <th>qbfdep</th>\n",
       "      <th>restype</th>\n",
       "      <th>restype1</th>\n",
       "      <th>savr</th>\n",
       "      <th>bank name</th>\n",
       "      <th>city</th>\n",
       "      <th>state</th>\n",
       "      <th>acquiring institution</th>\n",
       "      <th>closing date</th>\n",
       "      <th>fund</th>\n",
       "    </tr>\n",
       "  </thead>\n",
       "  <tbody>\n",
       "    <tr>\n",
       "      <th>0</th>\n",
       "      <td>59017</td>\n",
       "      <td>NM</td>\n",
       "      <td>SAN FRANCISCO, CA</td>\n",
       "      <td>NaN</td>\n",
       "      <td>5/1/2023</td>\n",
       "      <td>10543</td>\n",
       "      <td>4107</td>\n",
       "      <td>FIRST REPUBLIC BANK</td>\n",
       "      <td>212638872</td>\n",
       "      <td>176436706</td>\n",
       "      <td>FAILURE</td>\n",
       "      <td>PA</td>\n",
       "      <td>DIF</td>\n",
       "      <td>First Republic Bank</td>\n",
       "      <td>San Francisco</td>\n",
       "      <td>CA</td>\n",
       "      <td>JPMorgan Chase Bank, N.A.</td>\n",
       "      <td>1-May-23</td>\n",
       "      <td>10543</td>\n",
       "    </tr>\n",
       "    <tr>\n",
       "      <th>1</th>\n",
       "      <td>57053</td>\n",
       "      <td>NM</td>\n",
       "      <td>NEW YORK, NY</td>\n",
       "      <td>2400000.0</td>\n",
       "      <td>3/12/2023</td>\n",
       "      <td>10540</td>\n",
       "      <td>4106</td>\n",
       "      <td>SIGNATURE BANK</td>\n",
       "      <td>110363650</td>\n",
       "      <td>88612911</td>\n",
       "      <td>FAILURE</td>\n",
       "      <td>PA</td>\n",
       "      <td>DIF</td>\n",
       "      <td>Signature Bank</td>\n",
       "      <td>New York</td>\n",
       "      <td>NY</td>\n",
       "      <td>Flagstar Bank, N.A.</td>\n",
       "      <td>12-Mar-23</td>\n",
       "      <td>10540</td>\n",
       "    </tr>\n",
       "    <tr>\n",
       "      <th>2</th>\n",
       "      <td>24735</td>\n",
       "      <td>SM</td>\n",
       "      <td>SANTA CLARA, CA</td>\n",
       "      <td>16100000.0</td>\n",
       "      <td>3/7/2023</td>\n",
       "      <td>10539</td>\n",
       "      <td>4105</td>\n",
       "      <td>SILICON VALLEY BANK</td>\n",
       "      <td>209026000</td>\n",
       "      <td>175378000</td>\n",
       "      <td>FAILURE</td>\n",
       "      <td>PA</td>\n",
       "      <td>DIF</td>\n",
       "      <td>Silicon Valley Bank</td>\n",
       "      <td>Santa Clara</td>\n",
       "      <td>CA</td>\n",
       "      <td>First–Citizens Bank &amp; Trust Company</td>\n",
       "      <td>10-Mar-23</td>\n",
       "      <td>10539</td>\n",
       "    </tr>\n",
       "    <tr>\n",
       "      <th>3</th>\n",
       "      <td>15426</td>\n",
       "      <td>NM</td>\n",
       "      <td>ALMENA, KS</td>\n",
       "      <td>16330.0</td>\n",
       "      <td>10/23/2020</td>\n",
       "      <td>10538</td>\n",
       "      <td>4104</td>\n",
       "      <td>ALMENA STATE BANK</td>\n",
       "      <td>65733</td>\n",
       "      <td>64941</td>\n",
       "      <td>FAILURE</td>\n",
       "      <td>PA</td>\n",
       "      <td>DIF</td>\n",
       "      <td>Almena State Bank</td>\n",
       "      <td>Almena</td>\n",
       "      <td>KS</td>\n",
       "      <td>Equity Bank</td>\n",
       "      <td>23-Oct-20</td>\n",
       "      <td>10538</td>\n",
       "    </tr>\n",
       "    <tr>\n",
       "      <th>4</th>\n",
       "      <td>16748</td>\n",
       "      <td>NM</td>\n",
       "      <td>FORT WALTON BEACH, FL</td>\n",
       "      <td>7247.0</td>\n",
       "      <td>10/16/2020</td>\n",
       "      <td>10537</td>\n",
       "      <td>4103</td>\n",
       "      <td>FIRST CITY BANK OF FLORIDA</td>\n",
       "      <td>136566</td>\n",
       "      <td>133936</td>\n",
       "      <td>FAILURE</td>\n",
       "      <td>PA</td>\n",
       "      <td>DIF</td>\n",
       "      <td>First City Bank of Florida</td>\n",
       "      <td>Fort Walton Beach</td>\n",
       "      <td>FL</td>\n",
       "      <td>United Fidelity Bank, fsb</td>\n",
       "      <td>16-Oct-20</td>\n",
       "      <td>10537</td>\n",
       "    </tr>\n",
       "  </tbody>\n",
       "</table>\n",
       "</div>"
      ],
      "text/plain": [
       "    cert chclass1                 cityst        cost    faildate    fin    id  \\\n",
       "0  59017       NM      SAN FRANCISCO, CA         NaN    5/1/2023  10543  4107   \n",
       "1  57053       NM           NEW YORK, NY   2400000.0   3/12/2023  10540  4106   \n",
       "2  24735       SM        SANTA CLARA, CA  16100000.0    3/7/2023  10539  4105   \n",
       "3  15426       NM             ALMENA, KS     16330.0  10/23/2020  10538  4104   \n",
       "4  16748       NM  FORT WALTON BEACH, FL      7247.0  10/16/2020  10537  4103   \n",
       "\n",
       "                         name   qbfasset     qbfdep  restype restype1 savr  \\\n",
       "0         FIRST REPUBLIC BANK  212638872  176436706  FAILURE       PA  DIF   \n",
       "1              SIGNATURE BANK  110363650   88612911  FAILURE       PA  DIF   \n",
       "2         SILICON VALLEY BANK  209026000  175378000  FAILURE       PA  DIF   \n",
       "3           ALMENA STATE BANK      65733      64941  FAILURE       PA  DIF   \n",
       "4  FIRST CITY BANK OF FLORIDA     136566     133936  FAILURE       PA  DIF   \n",
       "\n",
       "                    bank name               city state  \\\n",
       "0         First Republic Bank      San Francisco    CA   \n",
       "1              Signature Bank           New York    NY   \n",
       "2         Silicon Valley Bank        Santa Clara    CA   \n",
       "3           Almena State Bank             Almena    KS   \n",
       "4  First City Bank of Florida  Fort Walton Beach    FL   \n",
       "\n",
       "                 acquiring institution closing date   fund  \n",
       "0            JPMorgan Chase Bank, N.A.     1-May-23  10543  \n",
       "1                  Flagstar Bank, N.A.    12-Mar-23  10540  \n",
       "2  First–Citizens Bank & Trust Company    10-Mar-23  10539  \n",
       "3                          Equity Bank    23-Oct-20  10538  \n",
       "4            United Fidelity Bank, fsb    16-Oct-20  10537  "
      ]
     },
     "execution_count": 102,
     "metadata": {},
     "output_type": "execute_result"
    }
   ],
   "source": [
    "df = pd.merge(df1 , df2, on = 'cert')\n",
    "df.head()"
   ]
  },
  {
   "cell_type": "code",
   "execution_count": 103,
   "metadata": {},
   "outputs": [],
   "source": [
    "columns = ['fin','id','city','closing date','fund','bank name','cityst']\n",
    "df = df.drop(columns, axis=1)\n"
   ]
  },
  {
   "cell_type": "code",
   "execution_count": 104,
   "metadata": {},
   "outputs": [
    {
     "name": "stdout",
     "output_type": "stream",
     "text": [
      "<class 'pandas.core.frame.DataFrame'>\n",
      "RangeIndex: 566 entries, 0 to 565\n",
      "Data columns (total 12 columns):\n",
      " #   Column                 Non-Null Count  Dtype  \n",
      "---  ------                 --------------  -----  \n",
      " 0   cert                   566 non-null    int64  \n",
      " 1   chclass1               566 non-null    object \n",
      " 2   cost                   564 non-null    float64\n",
      " 3   faildate               566 non-null    object \n",
      " 4   name                   566 non-null    object \n",
      " 5   qbfasset               566 non-null    int64  \n",
      " 6   qbfdep                 566 non-null    int64  \n",
      " 7   restype                566 non-null    object \n",
      " 8   restype1               566 non-null    object \n",
      " 9   savr                   566 non-null    object \n",
      " 10  state                  566 non-null    object \n",
      " 11  acquiring institution  566 non-null    object \n",
      "dtypes: float64(1), int64(3), object(8)\n",
      "memory usage: 53.2+ KB\n"
     ]
    }
   ],
   "source": [
    "df.info()"
   ]
  },
  {
   "cell_type": "code",
   "execution_count": 105,
   "metadata": {},
   "outputs": [
    {
     "data": {
      "text/plain": [
       "cert                     0\n",
       "chclass1                 0\n",
       "cost                     2\n",
       "faildate                 0\n",
       "name                     0\n",
       "qbfasset                 0\n",
       "qbfdep                   0\n",
       "restype                  0\n",
       "restype1                 0\n",
       "savr                     0\n",
       "state                    0\n",
       "acquiring institution    0\n",
       "dtype: int64"
      ]
     },
     "execution_count": 105,
     "metadata": {},
     "output_type": "execute_result"
    }
   ],
   "source": [
    "df.isna().sum()"
   ]
  },
  {
   "cell_type": "code",
   "execution_count": 106,
   "metadata": {},
   "outputs": [
    {
     "data": {
      "text/plain": [
       "cert                     0\n",
       "chclass1                 0\n",
       "cost                     0\n",
       "faildate                 0\n",
       "name                     0\n",
       "qbfasset                 0\n",
       "qbfdep                   0\n",
       "restype                  0\n",
       "restype1                 0\n",
       "savr                     0\n",
       "state                    0\n",
       "acquiring institution    0\n",
       "dtype: int64"
      ]
     },
     "execution_count": 106,
     "metadata": {},
     "output_type": "execute_result"
    }
   ],
   "source": [
    "df = df.fillna(0)\n",
    "df.isna().sum()"
   ]
  },
  {
   "cell_type": "code",
   "execution_count": 107,
   "metadata": {},
   "outputs": [
    {
     "data": {
      "text/html": [
       "<div>\n",
       "<style scoped>\n",
       "    .dataframe tbody tr th:only-of-type {\n",
       "        vertical-align: middle;\n",
       "    }\n",
       "\n",
       "    .dataframe tbody tr th {\n",
       "        vertical-align: top;\n",
       "    }\n",
       "\n",
       "    .dataframe thead th {\n",
       "        text-align: right;\n",
       "    }\n",
       "</style>\n",
       "<table border=\"1\" class=\"dataframe\">\n",
       "  <thead>\n",
       "    <tr style=\"text-align: right;\">\n",
       "      <th></th>\n",
       "      <th>state</th>\n",
       "      <th>count</th>\n",
       "    </tr>\n",
       "  </thead>\n",
       "  <tbody>\n",
       "    <tr>\n",
       "      <th>7</th>\n",
       "      <td>GA</td>\n",
       "      <td>93</td>\n",
       "    </tr>\n",
       "    <tr>\n",
       "      <th>6</th>\n",
       "      <td>FL</td>\n",
       "      <td>76</td>\n",
       "    </tr>\n",
       "    <tr>\n",
       "      <th>11</th>\n",
       "      <td>IL</td>\n",
       "      <td>69</td>\n",
       "    </tr>\n",
       "    <tr>\n",
       "      <th>3</th>\n",
       "      <td>CA</td>\n",
       "      <td>43</td>\n",
       "    </tr>\n",
       "    <tr>\n",
       "      <th>19</th>\n",
       "      <td>MN</td>\n",
       "      <td>23</td>\n",
       "    </tr>\n",
       "  </tbody>\n",
       "</table>\n",
       "</div>"
      ],
      "text/plain": [
       "   state  count\n",
       "7     GA     93\n",
       "6     FL     76\n",
       "11    IL     69\n",
       "3     CA     43\n",
       "19    MN     23"
      ]
     },
     "execution_count": 107,
     "metadata": {},
     "output_type": "execute_result"
    }
   ],
   "source": [
    "state_wise = df.groupby('state')['state'].count()\\\n",
    "                                         .reset_index(name = 'count')\\\n",
    "                                         .sort_values(['count'], ascending=False)\\\n",
    "                                         \n",
    "state_wise.head(5)"
   ]
  },
  {
   "cell_type": "code",
   "execution_count": 108,
   "metadata": {},
   "outputs": [
    {
     "data": {
      "image/png": "[encoded data removed]",
      "text/plain": [
       "<Figure size 640x480 with 1 Axes>"
      ]
     },
     "metadata": {},
     "output_type": "display_data"
    }
   ],
   "source": [
    "import matplotlib.pyplot as plt\n",
    "\n",
    "state_wise.head(5).plot(x='state', kind='bar')\n",
    "plt.show()"
   ]
  },
  {
   "cell_type": "code",
   "execution_count": 109,
   "metadata": {},
   "outputs": [],
   "source": [
    "df['faildate'] = pd.to_datetime(df['faildate'])\n",
    "df['year'] = df['faildate'].dt.year\n",
    "df['month']=df['faildate'].dt.month"
   ]
  },
  {
   "cell_type": "code",
   "execution_count": 110,
   "metadata": {},
   "outputs": [
    {
     "data": {
      "text/plain": [
       "0.0"
      ]
     },
     "execution_count": 110,
     "metadata": {},
     "output_type": "execute_result"
    }
   ],
   "source": [
    "df_filtered = df[df['faildate'].dt.strftime('%Y') == '2021'].cost.sum()\n",
    "df_filtered"
   ]
  },
  {
   "cell_type": "code",
   "execution_count": 111,
   "metadata": {},
   "outputs": [
    {
     "data": {
      "text/html": [
       "<div>\n",
       "<style scoped>\n",
       "    .dataframe tbody tr th:only-of-type {\n",
       "        vertical-align: middle;\n",
       "    }\n",
       "\n",
       "    .dataframe tbody tr th {\n",
       "        vertical-align: top;\n",
       "    }\n",
       "\n",
       "    .dataframe thead th {\n",
       "        text-align: right;\n",
       "    }\n",
       "</style>\n",
       "<table border=\"1\" class=\"dataframe\">\n",
       "  <thead>\n",
       "    <tr style=\"text-align: right;\">\n",
       "      <th></th>\n",
       "      <th>cert</th>\n",
       "      <th>chclass1</th>\n",
       "      <th>cost</th>\n",
       "      <th>faildate</th>\n",
       "      <th>name</th>\n",
       "      <th>qbfasset</th>\n",
       "      <th>qbfdep</th>\n",
       "      <th>restype</th>\n",
       "      <th>restype1</th>\n",
       "      <th>savr</th>\n",
       "      <th>state</th>\n",
       "      <th>acquiring institution</th>\n",
       "      <th>year</th>\n",
       "      <th>month</th>\n",
       "    </tr>\n",
       "  </thead>\n",
       "  <tbody>\n",
       "    <tr>\n",
       "      <th>0</th>\n",
       "      <td>59017</td>\n",
       "      <td>NM</td>\n",
       "      <td>0.0</td>\n",
       "      <td>2023-05-01</td>\n",
       "      <td>FIRST REPUBLIC BANK</td>\n",
       "      <td>212638872</td>\n",
       "      <td>176436706</td>\n",
       "      <td>FAILURE</td>\n",
       "      <td>PA</td>\n",
       "      <td>DIF</td>\n",
       "      <td>CA</td>\n",
       "      <td>JPMorgan Chase Bank, N.A.</td>\n",
       "      <td>2023</td>\n",
       "      <td>5</td>\n",
       "    </tr>\n",
       "    <tr>\n",
       "      <th>1</th>\n",
       "      <td>57053</td>\n",
       "      <td>NM</td>\n",
       "      <td>2400000.0</td>\n",
       "      <td>2023-03-12</td>\n",
       "      <td>SIGNATURE BANK</td>\n",
       "      <td>110363650</td>\n",
       "      <td>88612911</td>\n",
       "      <td>FAILURE</td>\n",
       "      <td>PA</td>\n",
       "      <td>DIF</td>\n",
       "      <td>NY</td>\n",
       "      <td>Flagstar Bank, N.A.</td>\n",
       "      <td>2023</td>\n",
       "      <td>3</td>\n",
       "    </tr>\n",
       "    <tr>\n",
       "      <th>2</th>\n",
       "      <td>24735</td>\n",
       "      <td>SM</td>\n",
       "      <td>16100000.0</td>\n",
       "      <td>2023-03-07</td>\n",
       "      <td>SILICON VALLEY BANK</td>\n",
       "      <td>209026000</td>\n",
       "      <td>175378000</td>\n",
       "      <td>FAILURE</td>\n",
       "      <td>PA</td>\n",
       "      <td>DIF</td>\n",
       "      <td>CA</td>\n",
       "      <td>First–Citizens Bank &amp; Trust Company</td>\n",
       "      <td>2023</td>\n",
       "      <td>3</td>\n",
       "    </tr>\n",
       "  </tbody>\n",
       "</table>\n",
       "</div>"
      ],
      "text/plain": [
       "    cert chclass1        cost   faildate                 name   qbfasset  \\\n",
       "0  59017       NM         0.0 2023-05-01  FIRST REPUBLIC BANK  212638872   \n",
       "1  57053       NM   2400000.0 2023-03-12       SIGNATURE BANK  110363650   \n",
       "2  24735       SM  16100000.0 2023-03-07  SILICON VALLEY BANK  209026000   \n",
       "\n",
       "      qbfdep  restype restype1 savr state  \\\n",
       "0  176436706  FAILURE       PA  DIF    CA   \n",
       "1   88612911  FAILURE       PA  DIF    NY   \n",
       "2  175378000  FAILURE       PA  DIF    CA   \n",
       "\n",
       "                 acquiring institution  year  month  \n",
       "0            JPMorgan Chase Bank, N.A.  2023      5  \n",
       "1                  Flagstar Bank, N.A.  2023      3  \n",
       "2  First–Citizens Bank & Trust Company  2023      3  "
      ]
     },
     "execution_count": 111,
     "metadata": {},
     "output_type": "execute_result"
    }
   ],
   "source": [
    "df_new = df[df['faildate'].dt.strftime('%Y') == '2023']\n",
    "df_new\n"
   ]
  },
  {
   "cell_type": "code",
   "execution_count": 112,
   "metadata": {},
   "outputs": [
    {
     "data": {
      "text/html": [
       "<div>\n",
       "<style scoped>\n",
       "    .dataframe tbody tr th:only-of-type {\n",
       "        vertical-align: middle;\n",
       "    }\n",
       "\n",
       "    .dataframe tbody tr th {\n",
       "        vertical-align: top;\n",
       "    }\n",
       "\n",
       "    .dataframe thead th {\n",
       "        text-align: right;\n",
       "    }\n",
       "</style>\n",
       "<table border=\"1\" class=\"dataframe\">\n",
       "  <thead>\n",
       "    <tr style=\"text-align: right;\">\n",
       "      <th></th>\n",
       "      <th>cert</th>\n",
       "      <th>chclass1</th>\n",
       "      <th>cost</th>\n",
       "      <th>faildate</th>\n",
       "      <th>name</th>\n",
       "      <th>qbfasset</th>\n",
       "      <th>qbfdep</th>\n",
       "      <th>restype</th>\n",
       "      <th>restype1</th>\n",
       "      <th>savr</th>\n",
       "      <th>state</th>\n",
       "      <th>acquiring institution</th>\n",
       "      <th>year</th>\n",
       "      <th>month</th>\n",
       "      <th>Month_Year</th>\n",
       "    </tr>\n",
       "  </thead>\n",
       "  <tbody>\n",
       "    <tr>\n",
       "      <th>0</th>\n",
       "      <td>59017</td>\n",
       "      <td>NM</td>\n",
       "      <td>0.0</td>\n",
       "      <td>2023-05-01</td>\n",
       "      <td>FIRST REPUBLIC BANK</td>\n",
       "      <td>212638872</td>\n",
       "      <td>176436706</td>\n",
       "      <td>FAILURE</td>\n",
       "      <td>PA</td>\n",
       "      <td>DIF</td>\n",
       "      <td>CA</td>\n",
       "      <td>JPMorgan Chase Bank, N.A.</td>\n",
       "      <td>2023</td>\n",
       "      <td>5</td>\n",
       "      <td>2023-05</td>\n",
       "    </tr>\n",
       "    <tr>\n",
       "      <th>1</th>\n",
       "      <td>57053</td>\n",
       "      <td>NM</td>\n",
       "      <td>2400000.0</td>\n",
       "      <td>2023-03-12</td>\n",
       "      <td>SIGNATURE BANK</td>\n",
       "      <td>110363650</td>\n",
       "      <td>88612911</td>\n",
       "      <td>FAILURE</td>\n",
       "      <td>PA</td>\n",
       "      <td>DIF</td>\n",
       "      <td>NY</td>\n",
       "      <td>Flagstar Bank, N.A.</td>\n",
       "      <td>2023</td>\n",
       "      <td>3</td>\n",
       "      <td>2023-03</td>\n",
       "    </tr>\n",
       "    <tr>\n",
       "      <th>2</th>\n",
       "      <td>24735</td>\n",
       "      <td>SM</td>\n",
       "      <td>16100000.0</td>\n",
       "      <td>2023-03-07</td>\n",
       "      <td>SILICON VALLEY BANK</td>\n",
       "      <td>209026000</td>\n",
       "      <td>175378000</td>\n",
       "      <td>FAILURE</td>\n",
       "      <td>PA</td>\n",
       "      <td>DIF</td>\n",
       "      <td>CA</td>\n",
       "      <td>First–Citizens Bank &amp; Trust Company</td>\n",
       "      <td>2023</td>\n",
       "      <td>3</td>\n",
       "      <td>2023-03</td>\n",
       "    </tr>\n",
       "    <tr>\n",
       "      <th>3</th>\n",
       "      <td>15426</td>\n",
       "      <td>NM</td>\n",
       "      <td>16330.0</td>\n",
       "      <td>2020-10-23</td>\n",
       "      <td>ALMENA STATE BANK</td>\n",
       "      <td>65733</td>\n",
       "      <td>64941</td>\n",
       "      <td>FAILURE</td>\n",
       "      <td>PA</td>\n",
       "      <td>DIF</td>\n",
       "      <td>KS</td>\n",
       "      <td>Equity Bank</td>\n",
       "      <td>2020</td>\n",
       "      <td>10</td>\n",
       "      <td>2020-10</td>\n",
       "    </tr>\n",
       "    <tr>\n",
       "      <th>4</th>\n",
       "      <td>16748</td>\n",
       "      <td>NM</td>\n",
       "      <td>7247.0</td>\n",
       "      <td>2020-10-16</td>\n",
       "      <td>FIRST CITY BANK OF FLORIDA</td>\n",
       "      <td>136566</td>\n",
       "      <td>133936</td>\n",
       "      <td>FAILURE</td>\n",
       "      <td>PA</td>\n",
       "      <td>DIF</td>\n",
       "      <td>FL</td>\n",
       "      <td>United Fidelity Bank, fsb</td>\n",
       "      <td>2020</td>\n",
       "      <td>10</td>\n",
       "      <td>2020-10</td>\n",
       "    </tr>\n",
       "    <tr>\n",
       "      <th>...</th>\n",
       "      <td>...</td>\n",
       "      <td>...</td>\n",
       "      <td>...</td>\n",
       "      <td>...</td>\n",
       "      <td>...</td>\n",
       "      <td>...</td>\n",
       "      <td>...</td>\n",
       "      <td>...</td>\n",
       "      <td>...</td>\n",
       "      <td>...</td>\n",
       "      <td>...</td>\n",
       "      <td>...</td>\n",
       "      <td>...</td>\n",
       "      <td>...</td>\n",
       "      <td>...</td>\n",
       "    </tr>\n",
       "    <tr>\n",
       "      <th>561</th>\n",
       "      <td>32646</td>\n",
       "      <td>SB</td>\n",
       "      <td>286673.0</td>\n",
       "      <td>2001-07-27</td>\n",
       "      <td>SUPERIOR BANK, FSB</td>\n",
       "      <td>1765455</td>\n",
       "      <td>1609501</td>\n",
       "      <td>FAILURE</td>\n",
       "      <td>PI</td>\n",
       "      <td>SAIF</td>\n",
       "      <td>IL</td>\n",
       "      <td>Superior Federal, FSB</td>\n",
       "      <td>2001</td>\n",
       "      <td>7</td>\n",
       "      <td>2001-07</td>\n",
       "    </tr>\n",
       "    <tr>\n",
       "      <th>562</th>\n",
       "      <td>6629</td>\n",
       "      <td>N</td>\n",
       "      <td>769.0</td>\n",
       "      <td>2001-05-03</td>\n",
       "      <td>MALTA NATIONAL BANK</td>\n",
       "      <td>9075</td>\n",
       "      <td>8728</td>\n",
       "      <td>FAILURE</td>\n",
       "      <td>PA</td>\n",
       "      <td>BIF</td>\n",
       "      <td>OH</td>\n",
       "      <td>North Valley Bank</td>\n",
       "      <td>2001</td>\n",
       "      <td>5</td>\n",
       "      <td>2001-05</td>\n",
       "    </tr>\n",
       "    <tr>\n",
       "      <th>563</th>\n",
       "      <td>34264</td>\n",
       "      <td>NM</td>\n",
       "      <td>817.0</td>\n",
       "      <td>2001-02-02</td>\n",
       "      <td>FIRST ALLIANCE BANK AND TRUST CO</td>\n",
       "      <td>17438</td>\n",
       "      <td>16931</td>\n",
       "      <td>FAILURE</td>\n",
       "      <td>PA</td>\n",
       "      <td>BIF</td>\n",
       "      <td>NH</td>\n",
       "      <td>Southern New Hampshire Bank &amp; Trust</td>\n",
       "      <td>2001</td>\n",
       "      <td>2</td>\n",
       "      <td>2001-02</td>\n",
       "    </tr>\n",
       "    <tr>\n",
       "      <th>564</th>\n",
       "      <td>3815</td>\n",
       "      <td>N</td>\n",
       "      <td>2670.0</td>\n",
       "      <td>2000-12-14</td>\n",
       "      <td>NATIONAL STATE BANK OF METROPOLIS</td>\n",
       "      <td>90397</td>\n",
       "      <td>71277</td>\n",
       "      <td>FAILURE</td>\n",
       "      <td>PI</td>\n",
       "      <td>BIF</td>\n",
       "      <td>IL</td>\n",
       "      <td>Banterra Bank of Marion</td>\n",
       "      <td>2000</td>\n",
       "      <td>12</td>\n",
       "      <td>2000-12</td>\n",
       "    </tr>\n",
       "    <tr>\n",
       "      <th>565</th>\n",
       "      <td>21029</td>\n",
       "      <td>NM</td>\n",
       "      <td>400.0</td>\n",
       "      <td>2000-10-13</td>\n",
       "      <td>BANK OF HONOLULU</td>\n",
       "      <td>63890</td>\n",
       "      <td>59037</td>\n",
       "      <td>FAILURE</td>\n",
       "      <td>PI</td>\n",
       "      <td>BIF</td>\n",
       "      <td>HI</td>\n",
       "      <td>Bank of the Orient</td>\n",
       "      <td>2000</td>\n",
       "      <td>10</td>\n",
       "      <td>2000-10</td>\n",
       "    </tr>\n",
       "  </tbody>\n",
       "</table>\n",
       "<p>566 rows × 15 columns</p>\n",
       "</div>"
      ],
      "text/plain": [
       "      cert chclass1        cost   faildate                               name  \\\n",
       "0    59017       NM         0.0 2023-05-01                FIRST REPUBLIC BANK   \n",
       "1    57053       NM   2400000.0 2023-03-12                     SIGNATURE BANK   \n",
       "2    24735       SM  16100000.0 2023-03-07                SILICON VALLEY BANK   \n",
       "3    15426       NM     16330.0 2020-10-23                  ALMENA STATE BANK   \n",
       "4    16748       NM      7247.0 2020-10-16         FIRST CITY BANK OF FLORIDA   \n",
       "..     ...      ...         ...        ...                                ...   \n",
       "561  32646       SB    286673.0 2001-07-27                 SUPERIOR BANK, FSB   \n",
       "562   6629        N       769.0 2001-05-03                MALTA NATIONAL BANK   \n",
       "563  34264       NM       817.0 2001-02-02   FIRST ALLIANCE BANK AND TRUST CO   \n",
       "564   3815        N      2670.0 2000-12-14  NATIONAL STATE BANK OF METROPOLIS   \n",
       "565  21029       NM       400.0 2000-10-13                   BANK OF HONOLULU   \n",
       "\n",
       "      qbfasset     qbfdep  restype restype1  savr state  \\\n",
       "0    212638872  176436706  FAILURE       PA   DIF    CA   \n",
       "1    110363650   88612911  FAILURE       PA   DIF    NY   \n",
       "2    209026000  175378000  FAILURE       PA   DIF    CA   \n",
       "3        65733      64941  FAILURE       PA   DIF    KS   \n",
       "4       136566     133936  FAILURE       PA   DIF    FL   \n",
       "..         ...        ...      ...      ...   ...   ...   \n",
       "561    1765455    1609501  FAILURE       PI  SAIF    IL   \n",
       "562       9075       8728  FAILURE       PA   BIF    OH   \n",
       "563      17438      16931  FAILURE       PA   BIF    NH   \n",
       "564      90397      71277  FAILURE       PI   BIF    IL   \n",
       "565      63890      59037  FAILURE       PI   BIF    HI   \n",
       "\n",
       "                   acquiring institution  year  month Month_Year  \n",
       "0              JPMorgan Chase Bank, N.A.  2023      5    2023-05  \n",
       "1                    Flagstar Bank, N.A.  2023      3    2023-03  \n",
       "2    First–Citizens Bank & Trust Company  2023      3    2023-03  \n",
       "3                            Equity Bank  2020     10    2020-10  \n",
       "4              United Fidelity Bank, fsb  2020     10    2020-10  \n",
       "..                                   ...   ...    ...        ...  \n",
       "561                Superior Federal, FSB  2001      7    2001-07  \n",
       "562                    North Valley Bank  2001      5    2001-05  \n",
       "563  Southern New Hampshire Bank & Trust  2001      2    2001-02  \n",
       "564              Banterra Bank of Marion  2000     12    2000-12  \n",
       "565                   Bank of the Orient  2000     10    2000-10  \n",
       "\n",
       "[566 rows x 15 columns]"
      ]
     },
     "execution_count": 112,
     "metadata": {},
     "output_type": "execute_result"
    }
   ],
   "source": [
    "df['Month_Year'] = df['faildate'].dt.to_period('M')\n",
    "df"
   ]
  },
  {
   "cell_type": "code",
   "execution_count": 113,
   "metadata": {},
   "outputs": [
    {
     "data": {
      "text/html": [
       "<div>\n",
       "<style scoped>\n",
       "    .dataframe tbody tr th:only-of-type {\n",
       "        vertical-align: middle;\n",
       "    }\n",
       "\n",
       "    .dataframe tbody tr th {\n",
       "        vertical-align: top;\n",
       "    }\n",
       "\n",
       "    .dataframe thead th {\n",
       "        text-align: right;\n",
       "    }\n",
       "</style>\n",
       "<table border=\"1\" class=\"dataframe\">\n",
       "  <thead>\n",
       "    <tr style=\"text-align: right;\">\n",
       "      <th></th>\n",
       "      <th>year</th>\n",
       "      <th>month</th>\n",
       "      <th>count</th>\n",
       "    </tr>\n",
       "  </thead>\n",
       "  <tbody>\n",
       "    <tr>\n",
       "      <th>0</th>\n",
       "      <td>2000</td>\n",
       "      <td>10</td>\n",
       "      <td>1</td>\n",
       "    </tr>\n",
       "    <tr>\n",
       "      <th>1</th>\n",
       "      <td>2000</td>\n",
       "      <td>12</td>\n",
       "      <td>1</td>\n",
       "    </tr>\n",
       "    <tr>\n",
       "      <th>2</th>\n",
       "      <td>2001</td>\n",
       "      <td>2</td>\n",
       "      <td>1</td>\n",
       "    </tr>\n",
       "    <tr>\n",
       "      <th>3</th>\n",
       "      <td>2001</td>\n",
       "      <td>5</td>\n",
       "      <td>1</td>\n",
       "    </tr>\n",
       "    <tr>\n",
       "      <th>4</th>\n",
       "      <td>2001</td>\n",
       "      <td>7</td>\n",
       "      <td>1</td>\n",
       "    </tr>\n",
       "    <tr>\n",
       "      <th>...</th>\n",
       "      <td>...</td>\n",
       "      <td>...</td>\n",
       "      <td>...</td>\n",
       "    </tr>\n",
       "    <tr>\n",
       "      <th>117</th>\n",
       "      <td>2020</td>\n",
       "      <td>2</td>\n",
       "      <td>1</td>\n",
       "    </tr>\n",
       "    <tr>\n",
       "      <th>118</th>\n",
       "      <td>2020</td>\n",
       "      <td>4</td>\n",
       "      <td>1</td>\n",
       "    </tr>\n",
       "    <tr>\n",
       "      <th>119</th>\n",
       "      <td>2020</td>\n",
       "      <td>10</td>\n",
       "      <td>2</td>\n",
       "    </tr>\n",
       "    <tr>\n",
       "      <th>120</th>\n",
       "      <td>2023</td>\n",
       "      <td>3</td>\n",
       "      <td>2</td>\n",
       "    </tr>\n",
       "    <tr>\n",
       "      <th>121</th>\n",
       "      <td>2023</td>\n",
       "      <td>5</td>\n",
       "      <td>1</td>\n",
       "    </tr>\n",
       "  </tbody>\n",
       "</table>\n",
       "<p>122 rows × 3 columns</p>\n",
       "</div>"
      ],
      "text/plain": [
       "     year  month  count\n",
       "0    2000     10      1\n",
       "1    2000     12      1\n",
       "2    2001      2      1\n",
       "3    2001      5      1\n",
       "4    2001      7      1\n",
       "..    ...    ...    ...\n",
       "117  2020      2      1\n",
       "118  2020      4      1\n",
       "119  2020     10      2\n",
       "120  2023      3      2\n",
       "121  2023      5      1\n",
       "\n",
       "[122 rows x 3 columns]"
      ]
     },
     "execution_count": 113,
     "metadata": {},
     "output_type": "execute_result"
    }
   ],
   "source": [
    "ndf = df.groupby(['year','month'])['month'].count().reset_index(name='count')\n",
    "ndf"
   ]
  },
  {
   "cell_type": "code",
   "execution_count": 114,
   "metadata": {},
   "outputs": [
    {
     "data": {
      "text/html": [
       "<div>\n",
       "<style scoped>\n",
       "    .dataframe tbody tr th:only-of-type {\n",
       "        vertical-align: middle;\n",
       "    }\n",
       "\n",
       "    .dataframe tbody tr th {\n",
       "        vertical-align: top;\n",
       "    }\n",
       "\n",
       "    .dataframe thead th {\n",
       "        text-align: right;\n",
       "    }\n",
       "</style>\n",
       "<table border=\"1\" class=\"dataframe\">\n",
       "  <thead>\n",
       "    <tr style=\"text-align: right;\">\n",
       "      <th></th>\n",
       "      <th>year</th>\n",
       "      <th>month</th>\n",
       "      <th>total_loss</th>\n",
       "    </tr>\n",
       "  </thead>\n",
       "  <tbody>\n",
       "    <tr>\n",
       "      <th>0</th>\n",
       "      <td>2000</td>\n",
       "      <td>10</td>\n",
       "      <td>400.0</td>\n",
       "    </tr>\n",
       "    <tr>\n",
       "      <th>1</th>\n",
       "      <td>2000</td>\n",
       "      <td>12</td>\n",
       "      <td>2670.0</td>\n",
       "    </tr>\n",
       "    <tr>\n",
       "      <th>2</th>\n",
       "      <td>2001</td>\n",
       "      <td>2</td>\n",
       "      <td>817.0</td>\n",
       "    </tr>\n",
       "    <tr>\n",
       "      <th>3</th>\n",
       "      <td>2001</td>\n",
       "      <td>5</td>\n",
       "      <td>769.0</td>\n",
       "    </tr>\n",
       "    <tr>\n",
       "      <th>4</th>\n",
       "      <td>2001</td>\n",
       "      <td>7</td>\n",
       "      <td>286673.0</td>\n",
       "    </tr>\n",
       "    <tr>\n",
       "      <th>...</th>\n",
       "      <td>...</td>\n",
       "      <td>...</td>\n",
       "      <td>...</td>\n",
       "    </tr>\n",
       "    <tr>\n",
       "      <th>117</th>\n",
       "      <td>2020</td>\n",
       "      <td>2</td>\n",
       "      <td>24465.0</td>\n",
       "    </tr>\n",
       "    <tr>\n",
       "      <th>118</th>\n",
       "      <td>2020</td>\n",
       "      <td>4</td>\n",
       "      <td>45328.0</td>\n",
       "    </tr>\n",
       "    <tr>\n",
       "      <th>119</th>\n",
       "      <td>2020</td>\n",
       "      <td>10</td>\n",
       "      <td>23577.0</td>\n",
       "    </tr>\n",
       "    <tr>\n",
       "      <th>120</th>\n",
       "      <td>2023</td>\n",
       "      <td>3</td>\n",
       "      <td>18500000.0</td>\n",
       "    </tr>\n",
       "    <tr>\n",
       "      <th>121</th>\n",
       "      <td>2023</td>\n",
       "      <td>5</td>\n",
       "      <td>0.0</td>\n",
       "    </tr>\n",
       "  </tbody>\n",
       "</table>\n",
       "<p>122 rows × 3 columns</p>\n",
       "</div>"
      ],
      "text/plain": [
       "     year  month  total_loss\n",
       "0    2000     10       400.0\n",
       "1    2000     12      2670.0\n",
       "2    2001      2       817.0\n",
       "3    2001      5       769.0\n",
       "4    2001      7    286673.0\n",
       "..    ...    ...         ...\n",
       "117  2020      2     24465.0\n",
       "118  2020      4     45328.0\n",
       "119  2020     10     23577.0\n",
       "120  2023      3  18500000.0\n",
       "121  2023      5         0.0\n",
       "\n",
       "[122 rows x 3 columns]"
      ]
     },
     "execution_count": 114,
     "metadata": {},
     "output_type": "execute_result"
    }
   ],
   "source": [
    "ndf2 = df.groupby(['year','month'])['cost'].sum().reset_index(name = 'total_loss')\n",
    "ndf2"
   ]
  },
  {
   "cell_type": "code",
   "execution_count": 115,
   "metadata": {},
   "outputs": [
    {
     "data": {
      "text/html": [
       "<div>\n",
       "<style scoped>\n",
       "    .dataframe tbody tr th:only-of-type {\n",
       "        vertical-align: middle;\n",
       "    }\n",
       "\n",
       "    .dataframe tbody tr th {\n",
       "        vertical-align: top;\n",
       "    }\n",
       "\n",
       "    .dataframe thead th {\n",
       "        text-align: right;\n",
       "    }\n",
       "</style>\n",
       "<table border=\"1\" class=\"dataframe\">\n",
       "  <thead>\n",
       "    <tr style=\"text-align: right;\">\n",
       "      <th></th>\n",
       "      <th>year</th>\n",
       "      <th>month</th>\n",
       "      <th>count</th>\n",
       "      <th>total_loss</th>\n",
       "    </tr>\n",
       "  </thead>\n",
       "  <tbody>\n",
       "    <tr>\n",
       "      <th>0</th>\n",
       "      <td>2000</td>\n",
       "      <td>10</td>\n",
       "      <td>1</td>\n",
       "      <td>400.0</td>\n",
       "    </tr>\n",
       "    <tr>\n",
       "      <th>1</th>\n",
       "      <td>2000</td>\n",
       "      <td>12</td>\n",
       "      <td>1</td>\n",
       "      <td>2670.0</td>\n",
       "    </tr>\n",
       "    <tr>\n",
       "      <th>2</th>\n",
       "      <td>2001</td>\n",
       "      <td>2</td>\n",
       "      <td>1</td>\n",
       "      <td>817.0</td>\n",
       "    </tr>\n",
       "    <tr>\n",
       "      <th>3</th>\n",
       "      <td>2001</td>\n",
       "      <td>5</td>\n",
       "      <td>1</td>\n",
       "      <td>769.0</td>\n",
       "    </tr>\n",
       "    <tr>\n",
       "      <th>4</th>\n",
       "      <td>2001</td>\n",
       "      <td>7</td>\n",
       "      <td>1</td>\n",
       "      <td>286673.0</td>\n",
       "    </tr>\n",
       "    <tr>\n",
       "      <th>...</th>\n",
       "      <td>...</td>\n",
       "      <td>...</td>\n",
       "      <td>...</td>\n",
       "      <td>...</td>\n",
       "    </tr>\n",
       "    <tr>\n",
       "      <th>117</th>\n",
       "      <td>2020</td>\n",
       "      <td>2</td>\n",
       "      <td>1</td>\n",
       "      <td>24465.0</td>\n",
       "    </tr>\n",
       "    <tr>\n",
       "      <th>118</th>\n",
       "      <td>2020</td>\n",
       "      <td>4</td>\n",
       "      <td>1</td>\n",
       "      <td>45328.0</td>\n",
       "    </tr>\n",
       "    <tr>\n",
       "      <th>119</th>\n",
       "      <td>2020</td>\n",
       "      <td>10</td>\n",
       "      <td>2</td>\n",
       "      <td>23577.0</td>\n",
       "    </tr>\n",
       "    <tr>\n",
       "      <th>120</th>\n",
       "      <td>2023</td>\n",
       "      <td>3</td>\n",
       "      <td>2</td>\n",
       "      <td>18500000.0</td>\n",
       "    </tr>\n",
       "    <tr>\n",
       "      <th>121</th>\n",
       "      <td>2023</td>\n",
       "      <td>5</td>\n",
       "      <td>1</td>\n",
       "      <td>0.0</td>\n",
       "    </tr>\n",
       "  </tbody>\n",
       "</table>\n",
       "<p>122 rows × 4 columns</p>\n",
       "</div>"
      ],
      "text/plain": [
       "     year  month  count  total_loss\n",
       "0    2000     10      1       400.0\n",
       "1    2000     12      1      2670.0\n",
       "2    2001      2      1       817.0\n",
       "3    2001      5      1       769.0\n",
       "4    2001      7      1    286673.0\n",
       "..    ...    ...    ...         ...\n",
       "117  2020      2      1     24465.0\n",
       "118  2020      4      1     45328.0\n",
       "119  2020     10      2     23577.0\n",
       "120  2023      3      2  18500000.0\n",
       "121  2023      5      1         0.0\n",
       "\n",
       "[122 rows x 4 columns]"
      ]
     },
     "execution_count": 115,
     "metadata": {},
     "output_type": "execute_result"
    }
   ],
   "source": [
    "merge_df = pd.merge(ndf,ndf2)\n",
    "merge_df "
   ]
  },
  {
   "cell_type": "code",
   "execution_count": 116,
   "metadata": {},
   "outputs": [
    {
     "data": {
      "text/html": [
       "<div>\n",
       "<style scoped>\n",
       "    .dataframe tbody tr th:only-of-type {\n",
       "        vertical-align: middle;\n",
       "    }\n",
       "\n",
       "    .dataframe tbody tr th {\n",
       "        vertical-align: top;\n",
       "    }\n",
       "\n",
       "    .dataframe thead th {\n",
       "        text-align: right;\n",
       "    }\n",
       "</style>\n",
       "<table border=\"1\" class=\"dataframe\">\n",
       "  <thead>\n",
       "    <tr style=\"text-align: right;\">\n",
       "      <th></th>\n",
       "      <th>year</th>\n",
       "      <th>month</th>\n",
       "      <th>count</th>\n",
       "      <th>total_loss</th>\n",
       "    </tr>\n",
       "  </thead>\n",
       "  <tbody>\n",
       "    <tr>\n",
       "      <th>6</th>\n",
       "      <td>2002</td>\n",
       "      <td>1</td>\n",
       "      <td>2</td>\n",
       "      <td>106322.0</td>\n",
       "    </tr>\n",
       "    <tr>\n",
       "      <th>7</th>\n",
       "      <td>2002</td>\n",
       "      <td>2</td>\n",
       "      <td>2</td>\n",
       "      <td>227647.0</td>\n",
       "    </tr>\n",
       "    <tr>\n",
       "      <th>8</th>\n",
       "      <td>2002</td>\n",
       "      <td>3</td>\n",
       "      <td>2</td>\n",
       "      <td>4440.0</td>\n",
       "    </tr>\n",
       "    <tr>\n",
       "      <th>9</th>\n",
       "      <td>2002</td>\n",
       "      <td>6</td>\n",
       "      <td>2</td>\n",
       "      <td>54058.0</td>\n",
       "    </tr>\n",
       "    <tr>\n",
       "      <th>10</th>\n",
       "      <td>2002</td>\n",
       "      <td>9</td>\n",
       "      <td>1</td>\n",
       "      <td>1326.0</td>\n",
       "    </tr>\n",
       "    <tr>\n",
       "      <th>11</th>\n",
       "      <td>2002</td>\n",
       "      <td>11</td>\n",
       "      <td>1</td>\n",
       "      <td>9316.0</td>\n",
       "    </tr>\n",
       "    <tr>\n",
       "      <th>12</th>\n",
       "      <td>2002</td>\n",
       "      <td>12</td>\n",
       "      <td>1</td>\n",
       "      <td>12205.0</td>\n",
       "    </tr>\n",
       "  </tbody>\n",
       "</table>\n",
       "</div>"
      ],
      "text/plain": [
       "    year  month  count  total_loss\n",
       "6   2002      1      2    106322.0\n",
       "7   2002      2      2    227647.0\n",
       "8   2002      3      2      4440.0\n",
       "9   2002      6      2     54058.0\n",
       "10  2002      9      1      1326.0\n",
       "11  2002     11      1      9316.0\n",
       "12  2002     12      1     12205.0"
      ]
     },
     "execution_count": 116,
     "metadata": {},
     "output_type": "execute_result"
    }
   ],
   "source": [
    "merge_df = merge_df[merge_df['year']==2002]\n",
    "merge_df"
   ]
  },
  {
   "cell_type": "code",
   "execution_count": 117,
   "metadata": {},
   "outputs": [
    {
     "data": {
      "application/vnd.plotly.v1+json": {
       "config": {
        "plotlyServerURL": "https://plot.ly"
       },
       "data": [
        {
         "name": "yaxis data",
         "type": "scatter",
         "x": [
          1,
          2,
          3,
          6,
          9,
          11,
          12
         ],
         "xaxis": "x",
         "y": [
          2,
          2,
          2,
          2,
          1,
          1,
          1
         ],
         "yaxis": "y"
        },
        {
         "name": "yaxis2 data",
         "type": "scatter",
         "x": [
          1,
          2,
          3,
          6,
          9,
          11,
          12
         ],
         "xaxis": "x",
         "y": [
          106322,
          227647,
          4440,
          54058,
          1326,
          9316,
          12205
         ],
         "yaxis": "y2"
        }
       ],
       "layout": {
        "template": {
         "data": {
          "bar": [
           {
            "error_x": {
             "color": "#2a3f5f"
            },
            "error_y": {
             "color": "#2a3f5f"
            },
            "marker": {
             "line": {
              "color": "#E5ECF6",
              "width": 0.5
             },
             "pattern": {
              "fillmode": "overlay",
              "size": 10,
              "solidity": 0.2
             }
            },
            "type": "bar"
           }
          ],
          "barpolar": [
           {
            "marker": {
             "line": {
              "color": "#E5ECF6",
              "width": 0.5
             },
             "pattern": {
              "fillmode": "overlay",
              "size": 10,
              "solidity": 0.2
             }
            },
            "type": "barpolar"
           }
          ],
          "carpet": [
           {
            "aaxis": {
             "endlinecolor": "#2a3f5f",
             "gridcolor": "white",
             "linecolor": "white",
             "minorgridcolor": "white",
             "startlinecolor": "#2a3f5f"
            },
            "baxis": {
             "endlinecolor": "#2a3f5f",
             "gridcolor": "white",
             "linecolor": "white",
             "minorgridcolor": "white",
             "startlinecolor": "#2a3f5f"
            },
            "type": "carpet"
           }
          ],
          "choropleth": [
           {
            "colorbar": {
             "outlinewidth": 0,
             "ticks": ""
            },
            "type": "choropleth"
           }
          ],
          "contour": [
           {
            "colorbar": {
             "outlinewidth": 0,
             "ticks": ""
            },
            "colorscale": [
             [
              0,
              "#0d0887"
             ],
             [
              0.1111111111111111,
              "#46039f"
             ],
             [
              0.2222222222222222,
              "#7201a8"
             ],
             [
              0.3333333333333333,
              "#9c179e"
             ],
             [
              0.4444444444444444,
              "#bd3786"
             ],
             [
              0.5555555555555556,
              "#d8576b"
             ],
             [
              0.6666666666666666,
              "#ed7953"
             ],
             [
              0.7777777777777778,
              "#fb9f3a"
             ],
             [
              0.8888888888888888,
              "#fdca26"
             ],
             [
              1,
              "#f0f921"
             ]
            ],
            "type": "contour"
           }
          ],
          "contourcarpet": [
           {
            "colorbar": {
             "outlinewidth": 0,
             "ticks": ""
            },
            "type": "contourcarpet"
           }
          ],
          "heatmap": [
           {
            "colorbar": {
             "outlinewidth": 0,
             "ticks": ""
            },
            "colorscale": [
             [
              0,
              "#0d0887"
             ],
             [
              0.1111111111111111,
              "#46039f"
             ],
             [
              0.2222222222222222,
              "#7201a8"
             ],
             [
              0.3333333333333333,
              "#9c179e"
             ],
             [
              0.4444444444444444,
              "#bd3786"
             ],
             [
              0.5555555555555556,
              "#d8576b"
             ],
             [
              0.6666666666666666,
              "#ed7953"
             ],
             [
              0.7777777777777778,
              "#fb9f3a"
             ],
             [
              0.8888888888888888,
              "#fdca26"
             ],
             [
              1,
              "#f0f921"
             ]
            ],
            "type": "heatmap"
           }
          ],
          "heatmapgl": [
           {
            "colorbar": {
             "outlinewidth": 0,
             "ticks": ""
            },
            "colorscale": [
             [
              0,
              "#0d0887"
             ],
             [
              0.1111111111111111,
              "#46039f"
             ],
             [
              0.2222222222222222,
              "#7201a8"
             ],
             [
              0.3333333333333333,
              "#9c179e"
             ],
             [
              0.4444444444444444,
              "#bd3786"
             ],
             [
              0.5555555555555556,
              "#d8576b"
             ],
             [
              0.6666666666666666,
              "#ed7953"
             ],
             [
              0.7777777777777778,
              "#fb9f3a"
             ],
             [
              0.8888888888888888,
              "#fdca26"
             ],
             [
              1,
              "#f0f921"
             ]
            ],
            "type": "heatmapgl"
           }
          ],
          "histogram": [
           {
            "marker": {
             "pattern": {
              "fillmode": "overlay",
              "size": 10,
              "solidity": 0.2
             }
            },
            "type": "histogram"
           }
          ],
          "histogram2d": [
           {
            "colorbar": {
             "outlinewidth": 0,
             "ticks": ""
            },
            "colorscale": [
             [
              0,
              "#0d0887"
             ],
             [
              0.1111111111111111,
              "#46039f"
             ],
             [
              0.2222222222222222,
              "#7201a8"
             ],
             [
              0.3333333333333333,
              "#9c179e"
             ],
             [
              0.4444444444444444,
              "#bd3786"
             ],
             [
              0.5555555555555556,
              "#d8576b"
             ],
             [
              0.6666666666666666,
              "#ed7953"
             ],
             [
              0.7777777777777778,
              "#fb9f3a"
             ],
             [
              0.8888888888888888,
              "#fdca26"
             ],
             [
              1,
              "#f0f921"
             ]
            ],
            "type": "histogram2d"
           }
          ],
          "histogram2dcontour": [
           {
            "colorbar": {
             "outlinewidth": 0,
             "ticks": ""
            },
            "colorscale": [
             [
              0,
              "#0d0887"
             ],
             [
              0.1111111111111111,
              "#46039f"
             ],
             [
              0.2222222222222222,
              "#7201a8"
             ],
             [
              0.3333333333333333,
              "#9c179e"
             ],
             [
              0.4444444444444444,
              "#bd3786"
             ],
             [
              0.5555555555555556,
              "#d8576b"
             ],
             [
              0.6666666666666666,
              "#ed7953"
             ],
             [
              0.7777777777777778,
              "#fb9f3a"
             ],
             [
              0.8888888888888888,
              "#fdca26"
             ],
             [
              1,
              "#f0f921"
             ]
            ],
            "type": "histogram2dcontour"
           }
          ],
          "mesh3d": [
           {
            "colorbar": {
             "outlinewidth": 0,
             "ticks": ""
            },
            "type": "mesh3d"
           }
          ],
          "parcoords": [
           {
            "line": {
             "colorbar": {
              "outlinewidth": 0,
              "ticks": ""
             }
            },
            "type": "parcoords"
           }
          ],
          "pie": [
           {
            "automargin": true,
            "type": "pie"
           }
          ],
          "scatter": [
           {
            "fillpattern": {
             "fillmode": "overlay",
             "size": 10,
             "solidity": 0.2
            },
            "type": "scatter"
           }
          ],
          "scatter3d": [
           {
            "line": {
             "colorbar": {
              "outlinewidth": 0,
              "ticks": ""
             }
            },
            "marker": {
             "colorbar": {
              "outlinewidth": 0,
              "ticks": ""
             }
            },
            "type": "scatter3d"
           }
          ],
          "scattercarpet": [
           {
            "marker": {
             "colorbar": {
              "outlinewidth": 0,
              "ticks": ""
             }
            },
            "type": "scattercarpet"
           }
          ],
          "scattergeo": [
           {
            "marker": {
             "colorbar": {
              "outlinewidth": 0,
              "ticks": ""
             }
            },
            "type": "scattergeo"
           }
          ],
          "scattergl": [
           {
            "marker": {
             "colorbar": {
              "outlinewidth": 0,
              "ticks": ""
             }
            },
            "type": "scattergl"
           }
          ],
          "scattermapbox": [
           {
            "marker": {
             "colorbar": {
              "outlinewidth": 0,
              "ticks": ""
             }
            },
            "type": "scattermapbox"
           }
          ],
          "scatterpolar": [
           {
            "marker": {
             "colorbar": {
              "outlinewidth": 0,
              "ticks": ""
             }
            },
            "type": "scatterpolar"
           }
          ],
          "scatterpolargl": [
           {
            "marker": {
             "colorbar": {
              "outlinewidth": 0,
              "ticks": ""
             }
            },
            "type": "scatterpolargl"
           }
          ],
          "scatterternary": [
           {
            "marker": {
             "colorbar": {
              "outlinewidth": 0,
              "ticks": ""
             }
            },
            "type": "scatterternary"
           }
          ],
          "surface": [
           {
            "colorbar": {
             "outlinewidth": 0,
             "ticks": ""
            },
            "colorscale": [
             [
              0,
              "#0d0887"
             ],
             [
              0.1111111111111111,
              "#46039f"
             ],
             [
              0.2222222222222222,
              "#7201a8"
             ],
             [
              0.3333333333333333,
              "#9c179e"
             ],
             [
              0.4444444444444444,
              "#bd3786"
             ],
             [
              0.5555555555555556,
              "#d8576b"
             ],
             [
              0.6666666666666666,
              "#ed7953"
             ],
             [
              0.7777777777777778,
              "#fb9f3a"
             ],
             [
              0.8888888888888888,
              "#fdca26"
             ],
             [
              1,
              "#f0f921"
             ]
            ],
            "type": "surface"
           }
          ],
          "table": [
           {
            "cells": {
             "fill": {
              "color": "#EBF0F8"
             },
             "line": {
              "color": "white"
             }
            },
            "header": {
             "fill": {
              "color": "#C8D4E3"
             },
             "line": {
              "color": "white"
             }
            },
            "type": "table"
           }
          ]
         },
         "layout": {
          "annotationdefaults": {
           "arrowcolor": "#2a3f5f",
           "arrowhead": 0,
           "arrowwidth": 1
          },
          "autotypenumbers": "strict",
          "coloraxis": {
           "colorbar": {
            "outlinewidth": 0,
            "ticks": ""
           }
          },
          "colorscale": {
           "diverging": [
            [
             0,
             "#8e0152"
            ],
            [
             0.1,
             "#c51b7d"
            ],
            [
             0.2,
             "#de77ae"
            ],
            [
             0.3,
             "#f1b6da"
            ],
            [
             0.4,
             "#fde0ef"
            ],
            [
             0.5,
             "#f7f7f7"
            ],
            [
             0.6,
             "#e6f5d0"
            ],
            [
             0.7,
             "#b8e186"
            ],
            [
             0.8,
             "#7fbc41"
            ],
            [
             0.9,
             "#4d9221"
            ],
            [
             1,
             "#276419"
            ]
           ],
           "sequential": [
            [
             0,
             "#0d0887"
            ],
            [
             0.1111111111111111,
             "#46039f"
            ],
            [
             0.2222222222222222,
             "#7201a8"
            ],
            [
             0.3333333333333333,
             "#9c179e"
            ],
            [
             0.4444444444444444,
             "#bd3786"
            ],
            [
             0.5555555555555556,
             "#d8576b"
            ],
            [
             0.6666666666666666,
             "#ed7953"
            ],
            [
             0.7777777777777778,
             "#fb9f3a"
            ],
            [
             0.8888888888888888,
             "#fdca26"
            ],
            [
             1,
             "#f0f921"
            ]
           ],
           "sequentialminus": [
            [
             0,
             "#0d0887"
            ],
            [
             0.1111111111111111,
             "#46039f"
            ],
            [
             0.2222222222222222,
             "#7201a8"
            ],
            [
             0.3333333333333333,
             "#9c179e"
            ],
            [
             0.4444444444444444,
             "#bd3786"
            ],
            [
             0.5555555555555556,
             "#d8576b"
            ],
            [
             0.6666666666666666,
             "#ed7953"
            ],
            [
             0.7777777777777778,
             "#fb9f3a"
            ],
            [
             0.8888888888888888,
             "#fdca26"
            ],
            [
             1,
             "#f0f921"
            ]
           ]
          },
          "colorway": [
           "#636efa",
           "#EF553B",
           "#00cc96",
           "#ab63fa",
           "#FFA15A",
           "#19d3f3",
           "#FF6692",
           "#B6E880",
           "#FF97FF",
           "#FECB52"
          ],
          "font": {
           "color": "#2a3f5f"
          },
          "geo": {
           "bgcolor": "white",
           "lakecolor": "white",
           "landcolor": "#E5ECF6",
           "showlakes": true,
           "showland": true,
           "subunitcolor": "white"
          },
          "hoverlabel": {
           "align": "left"
          },
          "hovermode": "closest",
          "mapbox": {
           "style": "light"
          },
          "paper_bgcolor": "white",
          "plot_bgcolor": "#E5ECF6",
          "polar": {
           "angularaxis": {
            "gridcolor": "white",
            "linecolor": "white",
            "ticks": ""
           },
           "bgcolor": "#E5ECF6",
           "radialaxis": {
            "gridcolor": "white",
            "linecolor": "white",
            "ticks": ""
           }
          },
          "scene": {
           "xaxis": {
            "backgroundcolor": "#E5ECF6",
            "gridcolor": "white",
            "gridwidth": 2,
            "linecolor": "white",
            "showbackground": true,
            "ticks": "",
            "zerolinecolor": "white"
           },
           "yaxis": {
            "backgroundcolor": "#E5ECF6",
            "gridcolor": "white",
            "gridwidth": 2,
            "linecolor": "white",
            "showbackground": true,
            "ticks": "",
            "zerolinecolor": "white"
           },
           "zaxis": {
            "backgroundcolor": "#E5ECF6",
            "gridcolor": "white",
            "gridwidth": 2,
            "linecolor": "white",
            "showbackground": true,
            "ticks": "",
            "zerolinecolor": "white"
           }
          },
          "shapedefaults": {
           "line": {
            "color": "#2a3f5f"
           }
          },
          "ternary": {
           "aaxis": {
            "gridcolor": "white",
            "linecolor": "white",
            "ticks": ""
           },
           "baxis": {
            "gridcolor": "white",
            "linecolor": "white",
            "ticks": ""
           },
           "bgcolor": "#E5ECF6",
           "caxis": {
            "gridcolor": "white",
            "linecolor": "white",
            "ticks": ""
           }
          },
          "title": {
           "x": 0.05
          },
          "xaxis": {
           "automargin": true,
           "gridcolor": "white",
           "linecolor": "white",
           "ticks": "",
           "title": {
            "standoff": 15
           },
           "zerolinecolor": "white",
           "zerolinewidth": 2
          },
          "yaxis": {
           "automargin": true,
           "gridcolor": "white",
           "linecolor": "white",
           "ticks": "",
           "title": {
            "standoff": 15
           },
           "zerolinecolor": "white",
           "zerolinewidth": 2
          }
         }
        },
        "title": {
         "text": "Double Y Axis Example"
        },
        "xaxis": {
         "anchor": "y",
         "domain": [
          0,
          0.94
         ],
         "title": {
          "text": "xaxis title"
         }
        },
        "yaxis": {
         "anchor": "x",
         "domain": [
          0,
          1
         ],
         "title": {
          "text": "<b>primary</b> yaxis title"
         }
        },
        "yaxis2": {
         "anchor": "x",
         "overlaying": "y",
         "side": "right",
         "title": {
          "text": "<b>secondary</b> yaxis title"
         }
        }
       }
      }
     },
     "metadata": {},
     "output_type": "display_data"
    }
   ],
   "source": [
    "\n",
    "import plotly.graph_objects as go\n",
    "from plotly.subplots import make_subplots\n",
    "\n",
    "# Create figure with secondary y-axis\n",
    "fig = make_subplots(specs=[[{\"secondary_y\": True}]])\n",
    "\n",
    "# Add traces\n",
    "fig.add_trace(\n",
    "    go.Scatter(x=merge_df['month'], y=merge_df['count'], name=\"yaxis data\"),\n",
    "    secondary_y=False,\n",
    ")\n",
    "\n",
    "fig.add_trace(\n",
    "    go.Scatter(x=merge_df['month'], y=merge_df['total_loss'], name=\"yaxis2 data\"),\n",
    "    secondary_y=True,\n",
    ")\n",
    "\n",
    "# Add figure title\n",
    "fig.update_layout(\n",
    "    title_text=\"Double Y Axis Example\"\n",
    ")\n",
    "\n",
    "# Set x-axis title\n",
    "fig.update_xaxes(title_text=\"xaxis title\")\n",
    "\n",
    "# Set y-axes titles\n",
    "fig.update_yaxes(title_text=\"<b>primary</b> yaxis title\", secondary_y=False)\n",
    "fig.update_yaxes(title_text=\"<b>secondary</b> yaxis title\", secondary_y=True)\n",
    "\n",
    "fig.show()"
   ]
  },
  {
   "cell_type": "code",
   "execution_count": 118,
   "metadata": {},
   "outputs": [
    {
     "data": {
      "application/vnd.plotly.v1+json": {
       "config": {
        "plotlyServerURL": "https://plot.ly"
       },
       "data": [
        {
         "name": "yaxis data",
         "type": "scatter",
         "x": [
          1,
          2,
          3,
          6,
          9,
          11,
          12
         ],
         "xaxis": "x",
         "y": [
          2,
          2,
          2,
          2,
          1,
          1,
          1
         ],
         "yaxis": "y"
        },
        {
         "name": "yaxis2 data",
         "type": "scatter",
         "x": [
          1,
          2,
          3,
          6,
          9,
          11,
          12
         ],
         "xaxis": "x",
         "y": [
          106322,
          227647,
          4440,
          54058,
          1326,
          9316,
          12205
         ],
         "yaxis": "y2"
        }
       ],
       "layout": {
        "template": {
         "data": {
          "bar": [
           {
            "error_x": {
             "color": "#2a3f5f"
            },
            "error_y": {
             "color": "#2a3f5f"
            },
            "marker": {
             "line": {
              "color": "#E5ECF6",
              "width": 0.5
             },
             "pattern": {
              "fillmode": "overlay",
              "size": 10,
              "solidity": 0.2
             }
            },
            "type": "bar"
           }
          ],
          "barpolar": [
           {
            "marker": {
             "line": {
              "color": "#E5ECF6",
              "width": 0.5
             },
             "pattern": {
              "fillmode": "overlay",
              "size": 10,
              "solidity": 0.2
             }
            },
            "type": "barpolar"
           }
          ],
          "carpet": [
           {
            "aaxis": {
             "endlinecolor": "#2a3f5f",
             "gridcolor": "white",
             "linecolor": "white",
             "minorgridcolor": "white",
             "startlinecolor": "#2a3f5f"
            },
            "baxis": {
             "endlinecolor": "#2a3f5f",
             "gridcolor": "white",
             "linecolor": "white",
             "minorgridcolor": "white",
             "startlinecolor": "#2a3f5f"
            },
            "type": "carpet"
           }
          ],
          "choropleth": [
           {
            "colorbar": {
             "outlinewidth": 0,
             "ticks": ""
            },
            "type": "choropleth"
           }
          ],
          "contour": [
           {
            "colorbar": {
             "outlinewidth": 0,
             "ticks": ""
            },
            "colorscale": [
             [
              0,
              "#0d0887"
             ],
             [
              0.1111111111111111,
              "#46039f"
             ],
             [
              0.2222222222222222,
              "#7201a8"
             ],
             [
              0.3333333333333333,
              "#9c179e"
             ],
             [
              0.4444444444444444,
              "#bd3786"
             ],
             [
              0.5555555555555556,
              "#d8576b"
             ],
             [
              0.6666666666666666,
              "#ed7953"
             ],
             [
              0.7777777777777778,
              "#fb9f3a"
             ],
             [
              0.8888888888888888,
              "#fdca26"
             ],
             [
              1,
              "#f0f921"
             ]
            ],
            "type": "contour"
           }
          ],
          "contourcarpet": [
           {
            "colorbar": {
             "outlinewidth": 0,
             "ticks": ""
            },
            "type": "contourcarpet"
           }
          ],
          "heatmap": [
           {
            "colorbar": {
             "outlinewidth": 0,
             "ticks": ""
            },
            "colorscale": [
             [
              0,
              "#0d0887"
             ],
             [
              0.1111111111111111,
              "#46039f"
             ],
             [
              0.2222222222222222,
              "#7201a8"
             ],
             [
              0.3333333333333333,
              "#9c179e"
             ],
             [
              0.4444444444444444,
              "#bd3786"
             ],
             [
              0.5555555555555556,
              "#d8576b"
             ],
             [
              0.6666666666666666,
              "#ed7953"
             ],
             [
              0.7777777777777778,
              "#fb9f3a"
             ],
             [
              0.8888888888888888,
              "#fdca26"
             ],
             [
              1,
              "#f0f921"
             ]
            ],
            "type": "heatmap"
           }
          ],
          "heatmapgl": [
           {
            "colorbar": {
             "outlinewidth": 0,
             "ticks": ""
            },
            "colorscale": [
             [
              0,
              "#0d0887"
             ],
             [
              0.1111111111111111,
              "#46039f"
             ],
             [
              0.2222222222222222,
              "#7201a8"
             ],
             [
              0.3333333333333333,
              "#9c179e"
             ],
             [
              0.4444444444444444,
              "#bd3786"
             ],
             [
              0.5555555555555556,
              "#d8576b"
             ],
             [
              0.6666666666666666,
              "#ed7953"
             ],
             [
              0.7777777777777778,
              "#fb9f3a"
             ],
             [
              0.8888888888888888,
              "#fdca26"
             ],
             [
              1,
              "#f0f921"
             ]
            ],
            "type": "heatmapgl"
           }
          ],
          "histogram": [
           {
            "marker": {
             "pattern": {
              "fillmode": "overlay",
              "size": 10,
              "solidity": 0.2
             }
            },
            "type": "histogram"
           }
          ],
          "histogram2d": [
           {
            "colorbar": {
             "outlinewidth": 0,
             "ticks": ""
            },
            "colorscale": [
             [
              0,
              "#0d0887"
             ],
             [
              0.1111111111111111,
              "#46039f"
             ],
             [
              0.2222222222222222,
              "#7201a8"
             ],
             [
              0.3333333333333333,
              "#9c179e"
             ],
             [
              0.4444444444444444,
              "#bd3786"
             ],
             [
              0.5555555555555556,
              "#d8576b"
             ],
             [
              0.6666666666666666,
              "#ed7953"
             ],
             [
              0.7777777777777778,
              "#fb9f3a"
             ],
             [
              0.8888888888888888,
              "#fdca26"
             ],
             [
              1,
              "#f0f921"
             ]
            ],
            "type": "histogram2d"
           }
          ],
          "histogram2dcontour": [
           {
            "colorbar": {
             "outlinewidth": 0,
             "ticks": ""
            },
            "colorscale": [
             [
              0,
              "#0d0887"
             ],
             [
              0.1111111111111111,
              "#46039f"
             ],
             [
              0.2222222222222222,
              "#7201a8"
             ],
             [
              0.3333333333333333,
              "#9c179e"
             ],
             [
              0.4444444444444444,
              "#bd3786"
             ],
             [
              0.5555555555555556,
              "#d8576b"
             ],
             [
              0.6666666666666666,
              "#ed7953"
             ],
             [
              0.7777777777777778,
              "#fb9f3a"
             ],
             [
              0.8888888888888888,
              "#fdca26"
             ],
             [
              1,
              "#f0f921"
             ]
            ],
            "type": "histogram2dcontour"
           }
          ],
          "mesh3d": [
           {
            "colorbar": {
             "outlinewidth": 0,
             "ticks": ""
            },
            "type": "mesh3d"
           }
          ],
          "parcoords": [
           {
            "line": {
             "colorbar": {
              "outlinewidth": 0,
              "ticks": ""
             }
            },
            "type": "parcoords"
           }
          ],
          "pie": [
           {
            "automargin": true,
            "type": "pie"
           }
          ],
          "scatter": [
           {
            "fillpattern": {
             "fillmode": "overlay",
             "size": 10,
             "solidity": 0.2
            },
            "type": "scatter"
           }
          ],
          "scatter3d": [
           {
            "line": {
             "colorbar": {
              "outlinewidth": 0,
              "ticks": ""
             }
            },
            "marker": {
             "colorbar": {
              "outlinewidth": 0,
              "ticks": ""
             }
            },
            "type": "scatter3d"
           }
          ],
          "scattercarpet": [
           {
            "marker": {
             "colorbar": {
              "outlinewidth": 0,
              "ticks": ""
             }
            },
            "type": "scattercarpet"
           }
          ],
          "scattergeo": [
           {
            "marker": {
             "colorbar": {
              "outlinewidth": 0,
              "ticks": ""
             }
            },
            "type": "scattergeo"
           }
          ],
          "scattergl": [
           {
            "marker": {
             "colorbar": {
              "outlinewidth": 0,
              "ticks": ""
             }
            },
            "type": "scattergl"
           }
          ],
          "scattermapbox": [
           {
            "marker": {
             "colorbar": {
              "outlinewidth": 0,
              "ticks": ""
             }
            },
            "type": "scattermapbox"
           }
          ],
          "scatterpolar": [
           {
            "marker": {
             "colorbar": {
              "outlinewidth": 0,
              "ticks": ""
             }
            },
            "type": "scatterpolar"
           }
          ],
          "scatterpolargl": [
           {
            "marker": {
             "colorbar": {
              "outlinewidth": 0,
              "ticks": ""
             }
            },
            "type": "scatterpolargl"
           }
          ],
          "scatterternary": [
           {
            "marker": {
             "colorbar": {
              "outlinewidth": 0,
              "ticks": ""
             }
            },
            "type": "scatterternary"
           }
          ],
          "surface": [
           {
            "colorbar": {
             "outlinewidth": 0,
             "ticks": ""
            },
            "colorscale": [
             [
              0,
              "#0d0887"
             ],
             [
              0.1111111111111111,
              "#46039f"
             ],
             [
              0.2222222222222222,
              "#7201a8"
             ],
             [
              0.3333333333333333,
              "#9c179e"
             ],
             [
              0.4444444444444444,
              "#bd3786"
             ],
             [
              0.5555555555555556,
              "#d8576b"
             ],
             [
              0.6666666666666666,
              "#ed7953"
             ],
             [
              0.7777777777777778,
              "#fb9f3a"
             ],
             [
              0.8888888888888888,
              "#fdca26"
             ],
             [
              1,
              "#f0f921"
             ]
            ],
            "type": "surface"
           }
          ],
          "table": [
           {
            "cells": {
             "fill": {
              "color": "#EBF0F8"
             },
             "line": {
              "color": "white"
             }
            },
            "header": {
             "fill": {
              "color": "#C8D4E3"
             },
             "line": {
              "color": "white"
             }
            },
            "type": "table"
           }
          ]
         },
         "layout": {
          "annotationdefaults": {
           "arrowcolor": "#2a3f5f",
           "arrowhead": 0,
           "arrowwidth": 1
          },
          "autotypenumbers": "strict",
          "coloraxis": {
           "colorbar": {
            "outlinewidth": 0,
            "ticks": ""
           }
          },
          "colorscale": {
           "diverging": [
            [
             0,
             "#8e0152"
            ],
            [
             0.1,
             "#c51b7d"
            ],
            [
             0.2,
             "#de77ae"
            ],
            [
             0.3,
             "#f1b6da"
            ],
            [
             0.4,
             "#fde0ef"
            ],
            [
             0.5,
             "#f7f7f7"
            ],
            [
             0.6,
             "#e6f5d0"
            ],
            [
             0.7,
             "#b8e186"
            ],
            [
             0.8,
             "#7fbc41"
            ],
            [
             0.9,
             "#4d9221"
            ],
            [
             1,
             "#276419"
            ]
           ],
           "sequential": [
            [
             0,
             "#0d0887"
            ],
            [
             0.1111111111111111,
             "#46039f"
            ],
            [
             0.2222222222222222,
             "#7201a8"
            ],
            [
             0.3333333333333333,
             "#9c179e"
            ],
            [
             0.4444444444444444,
             "#bd3786"
            ],
            [
             0.5555555555555556,
             "#d8576b"
            ],
            [
             0.6666666666666666,
             "#ed7953"
            ],
            [
             0.7777777777777778,
             "#fb9f3a"
            ],
            [
             0.8888888888888888,
             "#fdca26"
            ],
            [
             1,
             "#f0f921"
            ]
           ],
           "sequentialminus": [
            [
             0,
             "#0d0887"
            ],
            [
             0.1111111111111111,
             "#46039f"
            ],
            [
             0.2222222222222222,
             "#7201a8"
            ],
            [
             0.3333333333333333,
             "#9c179e"
            ],
            [
             0.4444444444444444,
             "#bd3786"
            ],
            [
             0.5555555555555556,
             "#d8576b"
            ],
            [
             0.6666666666666666,
             "#ed7953"
            ],
            [
             0.7777777777777778,
             "#fb9f3a"
            ],
            [
             0.8888888888888888,
             "#fdca26"
            ],
            [
             1,
             "#f0f921"
            ]
           ]
          },
          "colorway": [
           "#636efa",
           "#EF553B",
           "#00cc96",
           "#ab63fa",
           "#FFA15A",
           "#19d3f3",
           "#FF6692",
           "#B6E880",
           "#FF97FF",
           "#FECB52"
          ],
          "font": {
           "color": "#2a3f5f"
          },
          "geo": {
           "bgcolor": "white",
           "lakecolor": "white",
           "landcolor": "#E5ECF6",
           "showlakes": true,
           "showland": true,
           "subunitcolor": "white"
          },
          "hoverlabel": {
           "align": "left"
          },
          "hovermode": "closest",
          "mapbox": {
           "style": "light"
          },
          "paper_bgcolor": "white",
          "plot_bgcolor": "#E5ECF6",
          "polar": {
           "angularaxis": {
            "gridcolor": "white",
            "linecolor": "white",
            "ticks": ""
           },
           "bgcolor": "#E5ECF6",
           "radialaxis": {
            "gridcolor": "white",
            "linecolor": "white",
            "ticks": ""
           }
          },
          "scene": {
           "xaxis": {
            "backgroundcolor": "#E5ECF6",
            "gridcolor": "white",
            "gridwidth": 2,
            "linecolor": "white",
            "showbackground": true,
            "ticks": "",
            "zerolinecolor": "white"
           },
           "yaxis": {
            "backgroundcolor": "#E5ECF6",
            "gridcolor": "white",
            "gridwidth": 2,
            "linecolor": "white",
            "showbackground": true,
            "ticks": "",
            "zerolinecolor": "white"
           },
           "zaxis": {
            "backgroundcolor": "#E5ECF6",
            "gridcolor": "white",
            "gridwidth": 2,
            "linecolor": "white",
            "showbackground": true,
            "ticks": "",
            "zerolinecolor": "white"
           }
          },
          "shapedefaults": {
           "line": {
            "color": "#2a3f5f"
           }
          },
          "ternary": {
           "aaxis": {
            "gridcolor": "white",
            "linecolor": "white",
            "ticks": ""
           },
           "baxis": {
            "gridcolor": "white",
            "linecolor": "white",
            "ticks": ""
           },
           "bgcolor": "#E5ECF6",
           "caxis": {
            "gridcolor": "white",
            "linecolor": "white",
            "ticks": ""
           }
          },
          "title": {
           "x": 0.05
          },
          "xaxis": {
           "automargin": true,
           "gridcolor": "white",
           "linecolor": "white",
           "ticks": "",
           "title": {
            "standoff": 15
           },
           "zerolinecolor": "white",
           "zerolinewidth": 2
          },
          "yaxis": {
           "automargin": true,
           "gridcolor": "white",
           "linecolor": "white",
           "ticks": "",
           "title": {
            "standoff": 15
           },
           "zerolinecolor": "white",
           "zerolinewidth": 2
          }
         }
        },
        "title": {
         "text": "Double Y Axis Example"
        },
        "xaxis": {
         "anchor": "y",
         "domain": [
          0,
          0.94
         ],
         "title": {
          "text": "xaxis title"
         }
        },
        "yaxis": {
         "anchor": "x",
         "domain": [
          0,
          1
         ],
         "title": {
          "text": "<b>primary</b> yaxis title"
         }
        },
        "yaxis2": {
         "anchor": "x",
         "overlaying": "y",
         "side": "right",
         "title": {
          "text": "<b>secondary</b> yaxis title"
         }
        }
       }
      }
     },
     "metadata": {},
     "output_type": "display_data"
    }
   ],
   "source": [
    "\n",
    "import plotly.graph_objects as go\n",
    "from plotly.subplots import make_subplots\n",
    "\n",
    "# Create figure with secondary y-axis\n",
    "fig = make_subplots(specs=[[{\"secondary_y\": True}]])\n",
    "\n",
    "# Add traces\n",
    "fig.add_trace(\n",
    "    go.Scatter(x=merge_df['month'], y=merge_df['count'], name=\"yaxis data\"),\n",
    "    secondary_y=False,\n",
    ")\n",
    "\n",
    "fig.add_trace(\n",
    "    go.Scatter(x=merge_df['month'], y=merge_df['total_loss'], name=\"yaxis2 data\"),\n",
    "    secondary_y=True,\n",
    ")\n",
    "\n",
    "# Add figure title\n",
    "fig.update_layout(\n",
    "    title_text=\"Double Y Axis Example\"\n",
    ")\n",
    "\n",
    "# Set x-axis title\n",
    "fig.update_xaxes(title_text=\"xaxis title\")\n",
    "\n",
    "# Set y-axes titles\n",
    "fig.update_yaxes(title_text=\"<b>primary</b> yaxis title\", secondary_y=False)\n",
    "fig.update_yaxes(title_text=\"<b>secondary</b> yaxis title\", secondary_y=True)\n",
    "\n",
    "fig.show()"
   ]
  }
 ],
 "metadata": {
  "kernelspec": {
   "display_name": "Python 3",
   "language": "python",
   "name": "python3"
  },
  "language_info": {
   "codemirror_mode": {
    "name": "ipython",
    "version": 3
   },
   "file_extension": ".py",
   "mimetype": "text/x-python",
   "name": "python",
   "nbconvert_exporter": "python",
   "pygments_lexer": "ipython3",
   "version": "3.11.1"
  },
  "orig_nbformat": 4
 },
 "nbformat": 4,
 "nbformat_minor": 2
}
